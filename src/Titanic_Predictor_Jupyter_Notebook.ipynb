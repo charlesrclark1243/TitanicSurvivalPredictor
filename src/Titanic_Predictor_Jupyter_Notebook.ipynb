{
 "cells": [
  {
   "cell_type": "markdown",
   "metadata": {
    "collapsed": true,
    "pycharm": {
     "name": "#%% md\n"
    }
   },
   "source": [
    "The goal of this project is to analyze data about the\n",
    "passengers aboard the Titanic with the intent of creating\n",
    "models to predict who would survive and who wouldn't based\n",
    "on the correlations and relationships we determine through\n",
    "our aforementioned analysis of the data.\n",
    "\n",
    "First, we need to import the Python packages that we will\n",
    "be using to analyze the data and create our models."
   ]
  },
  {
   "cell_type": "code",
   "execution_count": 1,
   "outputs": [],
   "source": [
    "import numpy as np\n",
    "import pandas as pd\n",
    "import matplotlib.pyplot as plt\n",
    "import seaborn as sb\n",
    "from scipy import stats\n",
    "from sklearn.linear_model import LogisticRegression, SGDClassifier\n",
    "from sklearn.tree import DecisionTreeClassifier\n",
    "from sklearn.neighbors import KNeighborsClassifier\n",
    "from sklearn.metrics import roc_curve, roc_auc_score, confusion_matrix, accuracy_score, precision_score, recall_score, \\\n",
    "    f1_score, plot_roc_curve\n",
    "from sklearn.model_selection import train_test_split, KFold"
   ],
   "metadata": {
    "collapsed": false,
    "pycharm": {
     "name": "#%%\n"
    }
   }
  },
  {
   "cell_type": "markdown",
   "source": [
    "Now, let us load our training and testing data\n",
    "from their respective .csv files and save them as\n",
    "separate DataFrame objects."
   ],
   "metadata": {
    "collapsed": false,
    "pycharm": {
     "name": "#%% md\n"
    }
   }
  },
  {
   "cell_type": "code",
   "execution_count": 2,
   "outputs": [],
   "source": [
    "test_data = pd.read_csv(\"test.csv\")\n",
    "train_data = pd.read_csv(\"train.csv\")"
   ],
   "metadata": {
    "collapsed": false,
    "pycharm": {
     "name": "#%%\n"
    }
   }
  },
  {
   "cell_type": "markdown",
   "source": [
    "Before we clean our data, we should determine the lengths\n",
    "of each of the data sets and print the first few entries\n",
    "from both DataFrame objects in order to ensure the data\n",
    "has been loaded properly and without issue."
   ],
   "metadata": {
    "collapsed": false,
    "pycharm": {
     "name": "#%% md\n"
    }
   }
  },
  {
   "cell_type": "code",
   "execution_count": 3,
   "outputs": [
    {
     "name": "stdout",
     "output_type": "stream",
     "text": [
      "Length of Test Data: 418\n",
      "Length of Training Data: 891\n"
     ]
    }
   ],
   "source": [
    "print(f\"Length of Test Data: {len(test_data)}\")\n",
    "print(f\"Length of Training Data: {len(train_data)}\")"
   ],
   "metadata": {
    "collapsed": false,
    "pycharm": {
     "name": "#%%\n"
    }
   }
  },
  {
   "cell_type": "code",
   "execution_count": 4,
   "outputs": [
    {
     "name": "stdout",
     "output_type": "stream",
     "text": [
      "Test Data:\n"
     ]
    },
    {
     "data": {
      "text/plain": "   PassengerId  Pclass                                          Name     Sex  \\\n0          892       3                              Kelly, Mr. James    male   \n1          893       3              Wilkes, Mrs. James (Ellen Needs)  female   \n2          894       2                     Myles, Mr. Thomas Francis    male   \n3          895       3                              Wirz, Mr. Albert    male   \n4          896       3  Hirvonen, Mrs. Alexander (Helga E Lindqvist)  female   \n\n    Age  SibSp  Parch   Ticket     Fare Cabin Embarked  \n0  34.5      0      0   330911   7.8292   NaN        Q  \n1  47.0      1      0   363272   7.0000   NaN        S  \n2  62.0      0      0   240276   9.6875   NaN        Q  \n3  27.0      0      0   315154   8.6625   NaN        S  \n4  22.0      1      1  3101298  12.2875   NaN        S  ",
      "text/html": "<div>\n<style scoped>\n    .dataframe tbody tr th:only-of-type {\n        vertical-align: middle;\n    }\n\n    .dataframe tbody tr th {\n        vertical-align: top;\n    }\n\n    .dataframe thead th {\n        text-align: right;\n    }\n</style>\n<table border=\"1\" class=\"dataframe\">\n  <thead>\n    <tr style=\"text-align: right;\">\n      <th></th>\n      <th>PassengerId</th>\n      <th>Pclass</th>\n      <th>Name</th>\n      <th>Sex</th>\n      <th>Age</th>\n      <th>SibSp</th>\n      <th>Parch</th>\n      <th>Ticket</th>\n      <th>Fare</th>\n      <th>Cabin</th>\n      <th>Embarked</th>\n    </tr>\n  </thead>\n  <tbody>\n    <tr>\n      <th>0</th>\n      <td>892</td>\n      <td>3</td>\n      <td>Kelly, Mr. James</td>\n      <td>male</td>\n      <td>34.5</td>\n      <td>0</td>\n      <td>0</td>\n      <td>330911</td>\n      <td>7.8292</td>\n      <td>NaN</td>\n      <td>Q</td>\n    </tr>\n    <tr>\n      <th>1</th>\n      <td>893</td>\n      <td>3</td>\n      <td>Wilkes, Mrs. James (Ellen Needs)</td>\n      <td>female</td>\n      <td>47.0</td>\n      <td>1</td>\n      <td>0</td>\n      <td>363272</td>\n      <td>7.0000</td>\n      <td>NaN</td>\n      <td>S</td>\n    </tr>\n    <tr>\n      <th>2</th>\n      <td>894</td>\n      <td>2</td>\n      <td>Myles, Mr. Thomas Francis</td>\n      <td>male</td>\n      <td>62.0</td>\n      <td>0</td>\n      <td>0</td>\n      <td>240276</td>\n      <td>9.6875</td>\n      <td>NaN</td>\n      <td>Q</td>\n    </tr>\n    <tr>\n      <th>3</th>\n      <td>895</td>\n      <td>3</td>\n      <td>Wirz, Mr. Albert</td>\n      <td>male</td>\n      <td>27.0</td>\n      <td>0</td>\n      <td>0</td>\n      <td>315154</td>\n      <td>8.6625</td>\n      <td>NaN</td>\n      <td>S</td>\n    </tr>\n    <tr>\n      <th>4</th>\n      <td>896</td>\n      <td>3</td>\n      <td>Hirvonen, Mrs. Alexander (Helga E Lindqvist)</td>\n      <td>female</td>\n      <td>22.0</td>\n      <td>1</td>\n      <td>1</td>\n      <td>3101298</td>\n      <td>12.2875</td>\n      <td>NaN</td>\n      <td>S</td>\n    </tr>\n  </tbody>\n</table>\n</div>"
     },
     "execution_count": 4,
     "metadata": {},
     "output_type": "execute_result"
    }
   ],
   "source": [
    "print(\"Test Data:\")\n",
    "test_data.head()"
   ],
   "metadata": {
    "collapsed": false,
    "pycharm": {
     "name": "#%%\n"
    }
   }
  },
  {
   "cell_type": "code",
   "execution_count": 5,
   "outputs": [
    {
     "name": "stdout",
     "output_type": "stream",
     "text": [
      "Training Data:\n"
     ]
    },
    {
     "data": {
      "text/plain": "   PassengerId  Survived  Pclass  \\\n0            1         0       3   \n1            2         1       1   \n2            3         1       3   \n3            4         1       1   \n4            5         0       3   \n\n                                                Name     Sex   Age  SibSp  \\\n0                            Braund, Mr. Owen Harris    male  22.0      1   \n1  Cumings, Mrs. John Bradley (Florence Briggs Th...  female  38.0      1   \n2                             Heikkinen, Miss. Laina  female  26.0      0   \n3       Futrelle, Mrs. Jacques Heath (Lily May Peel)  female  35.0      1   \n4                           Allen, Mr. William Henry    male  35.0      0   \n\n   Parch            Ticket     Fare Cabin Embarked  \n0      0         A/5 21171   7.2500   NaN        S  \n1      0          PC 17599  71.2833   C85        C  \n2      0  STON/O2. 3101282   7.9250   NaN        S  \n3      0            113803  53.1000  C123        S  \n4      0            373450   8.0500   NaN        S  ",
      "text/html": "<div>\n<style scoped>\n    .dataframe tbody tr th:only-of-type {\n        vertical-align: middle;\n    }\n\n    .dataframe tbody tr th {\n        vertical-align: top;\n    }\n\n    .dataframe thead th {\n        text-align: right;\n    }\n</style>\n<table border=\"1\" class=\"dataframe\">\n  <thead>\n    <tr style=\"text-align: right;\">\n      <th></th>\n      <th>PassengerId</th>\n      <th>Survived</th>\n      <th>Pclass</th>\n      <th>Name</th>\n      <th>Sex</th>\n      <th>Age</th>\n      <th>SibSp</th>\n      <th>Parch</th>\n      <th>Ticket</th>\n      <th>Fare</th>\n      <th>Cabin</th>\n      <th>Embarked</th>\n    </tr>\n  </thead>\n  <tbody>\n    <tr>\n      <th>0</th>\n      <td>1</td>\n      <td>0</td>\n      <td>3</td>\n      <td>Braund, Mr. Owen Harris</td>\n      <td>male</td>\n      <td>22.0</td>\n      <td>1</td>\n      <td>0</td>\n      <td>A/5 21171</td>\n      <td>7.2500</td>\n      <td>NaN</td>\n      <td>S</td>\n    </tr>\n    <tr>\n      <th>1</th>\n      <td>2</td>\n      <td>1</td>\n      <td>1</td>\n      <td>Cumings, Mrs. John Bradley (Florence Briggs Th...</td>\n      <td>female</td>\n      <td>38.0</td>\n      <td>1</td>\n      <td>0</td>\n      <td>PC 17599</td>\n      <td>71.2833</td>\n      <td>C85</td>\n      <td>C</td>\n    </tr>\n    <tr>\n      <th>2</th>\n      <td>3</td>\n      <td>1</td>\n      <td>3</td>\n      <td>Heikkinen, Miss. Laina</td>\n      <td>female</td>\n      <td>26.0</td>\n      <td>0</td>\n      <td>0</td>\n      <td>STON/O2. 3101282</td>\n      <td>7.9250</td>\n      <td>NaN</td>\n      <td>S</td>\n    </tr>\n    <tr>\n      <th>3</th>\n      <td>4</td>\n      <td>1</td>\n      <td>1</td>\n      <td>Futrelle, Mrs. Jacques Heath (Lily May Peel)</td>\n      <td>female</td>\n      <td>35.0</td>\n      <td>1</td>\n      <td>0</td>\n      <td>113803</td>\n      <td>53.1000</td>\n      <td>C123</td>\n      <td>S</td>\n    </tr>\n    <tr>\n      <th>4</th>\n      <td>5</td>\n      <td>0</td>\n      <td>3</td>\n      <td>Allen, Mr. William Henry</td>\n      <td>male</td>\n      <td>35.0</td>\n      <td>0</td>\n      <td>0</td>\n      <td>373450</td>\n      <td>8.0500</td>\n      <td>NaN</td>\n      <td>S</td>\n    </tr>\n  </tbody>\n</table>\n</div>"
     },
     "execution_count": 5,
     "metadata": {},
     "output_type": "execute_result"
    }
   ],
   "source": [
    "print(\"Training Data:\")\n",
    "train_data.head()"
   ],
   "metadata": {
    "collapsed": false,
    "pycharm": {
     "name": "#%%\n"
    }
   }
  },
  {
   "cell_type": "markdown",
   "source": [
    "Now, we can begin cleaning both data sets; let's start\n",
    "with the training data.\n",
    "\n",
    "First, we should check how many null (NaN) values each\n",
    "column in the data has."
   ],
   "metadata": {
    "collapsed": false,
    "pycharm": {
     "name": "#%% md\n"
    }
   }
  },
  {
   "cell_type": "code",
   "execution_count": 6,
   "outputs": [
    {
     "name": "stdout",
     "output_type": "stream",
     "text": [
      "Training Data Nulls:\n",
      "PassengerId      0\n",
      "Survived         0\n",
      "Pclass           0\n",
      "Name             0\n",
      "Sex              0\n",
      "Age            177\n",
      "SibSp            0\n",
      "Parch            0\n",
      "Ticket           0\n",
      "Fare             0\n",
      "Cabin          687\n",
      "Embarked         2\n",
      "dtype: int64\n"
     ]
    }
   ],
   "source": [
    "print(f\"Training Data Nulls:\\n{train_data.isnull().sum()}\")"
   ],
   "metadata": {
    "collapsed": false,
    "pycharm": {
     "name": "#%%\n"
    }
   }
  },
  {
   "cell_type": "markdown",
   "source": [
    "Based on the description of the null (NaN) values in the\n",
    "training data set, it appears that the \"Embarked\" field\n",
    "only contains 2 null values. Because this number is\n",
    "relatively low, we can simply delete the rows associated\n",
    "with these NA values without losing a significant portion\n",
    "of our data."
   ],
   "metadata": {
    "collapsed": false,
    "pycharm": {
     "name": "#%% md\n"
    }
   }
  },
  {
   "cell_type": "code",
   "execution_count": 7,
   "outputs": [
    {
     "name": "stdout",
     "output_type": "stream",
     "text": [
      "Training Data Nulls:\n",
      "PassengerId      0\n",
      "Survived         0\n",
      "Pclass           0\n",
      "Name             0\n",
      "Sex              0\n",
      "Age            177\n",
      "SibSp            0\n",
      "Parch            0\n",
      "Ticket           0\n",
      "Fare             0\n",
      "Cabin          687\n",
      "Embarked         0\n",
      "dtype: int64\n"
     ]
    }
   ],
   "source": [
    "train_data = train_data.dropna(subset=[\"Embarked\"])\n",
    "print(f\"Training Data Nulls:\\n{train_data.isnull().sum()}\")"
   ],
   "metadata": {
    "collapsed": false,
    "pycharm": {
     "name": "#%%\n"
    }
   }
  },
  {
   "cell_type": "markdown",
   "source": [
    "Now that we have dropped the rows with null values in\n",
    "the \"Embarked\" field, we need to consider how we should\n",
    "impute the NaN values in the \"Age\" and \"Cabin\" fields:\n",
    "the numbers of null values in these two fields are too\n",
    "large to simply delete the associated rows as doing so\n",
    "would greatly reduce the amount of data we have to work\n",
    "with, so much so that the results of any performed analyses\n",
    "may not closely reflect the relationships and correlations\n",
    "between fields, thus making our predictive models less\n",
    "accurate.\n",
    "\n",
    "Let us try to tackle the \"Age\" field first; we can use\n",
    "mean value imputation for the null values in this column.\n",
    "Using mean value imputation will not impact the mean of\n",
    "the entire \"Age\" series, and the effect on any predictive\n",
    "forecasts we create using our predictive models will be muted\n",
    "(Skiena, Page 77)."
   ],
   "metadata": {
    "collapsed": false,
    "pycharm": {
     "name": "#%% md\n"
    }
   }
  },
  {
   "cell_type": "code",
   "execution_count": 8,
   "outputs": [
    {
     "name": "stdout",
     "output_type": "stream",
     "text": [
      "Training Data Nulls:\n",
      "PassengerId      0\n",
      "Survived         0\n",
      "Pclass           0\n",
      "Name             0\n",
      "Sex              0\n",
      "Age              0\n",
      "SibSp            0\n",
      "Parch            0\n",
      "Ticket           0\n",
      "Fare             0\n",
      "Cabin          687\n",
      "Embarked         0\n",
      "dtype: int64\n"
     ]
    }
   ],
   "source": [
    "train_data[\"Age\"].fillna(value=train_data[\"Age\"].mean(), inplace=True)\n",
    "print(f\"Training Data Nulls:\\n{train_data.isnull().sum()}\")"
   ],
   "metadata": {
    "collapsed": false,
    "pycharm": {
     "name": "#%%\n"
    }
   }
  },
  {
   "cell_type": "markdown",
   "source": [
    "The only series left in the training data that has\n",
    "null values is the \"Cabin\" field. However, cleaning\n",
    "this field will be a bit more difficult than one might\n",
    "think at first glance. After looking through the data\n",
    "set, it appears that the entries in the \"Cabin\" field\n",
    "use textual data as well as numeric data in the form\n",
    "of strings. Imputing these null values would be extremely\n",
    "difficult. In fact, after a quick Internet search, I found\n",
    "a webpage that lists the cabin numbers assigned to different\n",
    "passengers on the Titanic. However, even though there was\n",
    "a large amount of data about the cabin allocations for\n",
    "first class passengers, there was a gross lack of data\n",
    "about second class and third class passengers (the webpage\n",
    "I was referring to had URL\n",
    "https://www.encyclopedia-titanica.org/cabins.html ).\n",
    "Although it may seem apparent that we cannot do anything with\n",
    "the \"Cabin\" series data, there is another way of looking at\n",
    "the issue: can we somehow use the fact that many records are\n",
    "missing cabin entries itself as a form of data? More specifically,\n",
    "can we determine if there is a relation between the data in a\n",
    "record's \"Cabin\" field and the related passenger's survival,\n",
    "including NaN and non-NaN data?\n",
    "\n",
    "It sounds strange, but perhaps the best way to deal with the \"Cabin\"\n",
    "series data, at this point in the project could be to simply leave it\n",
    "as is: we will deal with this field of the data in a more\n",
    "tactical manner, one that will allow us to extract the relevant\n",
    "information without altering the missing data or removing the field\n",
    "from the data entirely.\n",
    "\n",
    "Let us now start to check the data for outliers, specifically the \"Fare\"\n",
    "series. One price that sticks out in my mind as not being very realistic\n",
    "is a price of zero. Let's count the number of such records in the data."
   ],
   "metadata": {
    "collapsed": false,
    "pycharm": {
     "name": "#%% md\n"
    }
   }
  },
  {
   "cell_type": "code",
   "execution_count": 9,
   "outputs": [
    {
     "name": "stdout",
     "output_type": "stream",
     "text": [
      "Training Data Zero Fare Record Count: 15\n"
     ]
    }
   ],
   "source": [
    "train_data_fare = train_data[\"Fare\"]\n",
    "print(f\"Training Data Zero Fare Record Count: {train_data_fare[train_data_fare == 0].count()}\")"
   ],
   "metadata": {
    "collapsed": false,
    "pycharm": {
     "name": "#%%\n"
    }
   }
  },
  {
   "cell_type": "markdown",
   "source": [
    "It looks like there are 15 records in the \"Fare\" series that have\n",
    "zero amount fares. If we assume that these entries are outliers,\n",
    "then we might be able to simply remove their associated records\n",
    "from the data set. However, let us print each of these suspected\n",
    "outlier records. A fare of zero for a ticket to board the Titanic,\n",
    "while unlikely, is not impossible; if there are other fields in these\n",
    "records with strange-looking entries, though, then we can deduce\n",
    "that they are in fact outliers."
   ],
   "metadata": {
    "collapsed": false,
    "pycharm": {
     "name": "#%% md\n"
    }
   }
  },
  {
   "cell_type": "code",
   "execution_count": 10,
   "outputs": [
    {
     "name": "stdout",
     "output_type": "stream",
     "text": [
      "Training Data Zero Fare Records:\n"
     ]
    },
    {
     "data": {
      "text/plain": "     PassengerId  Survived  Pclass                              Name   Sex  \\\n179          180         0       3               Leonard, Mr. Lionel  male   \n263          264         0       1             Harrison, Mr. William  male   \n271          272         1       3      Tornquist, Mr. William Henry  male   \n277          278         0       2       Parkes, Mr. Francis \"Frank\"  male   \n302          303         0       3   Johnson, Mr. William Cahoone Jr  male   \n413          414         0       2    Cunningham, Mr. Alfred Fleming  male   \n466          467         0       2             Campbell, Mr. William  male   \n481          482         0       2  Frost, Mr. Anthony Wood \"Archie\"  male   \n597          598         0       3               Johnson, Mr. Alfred  male   \n633          634         0       1     Parr, Mr. William Henry Marsh  male   \n674          675         0       2        Watson, Mr. Ennis Hastings  male   \n732          733         0       2              Knight, Mr. Robert J  male   \n806          807         0       1            Andrews, Mr. Thomas Jr  male   \n815          816         0       1                  Fry, Mr. Richard  male   \n822          823         0       1   Reuchlin, Jonkheer. John George  male   \n\n           Age  SibSp  Parch  Ticket  Fare Cabin Embarked  \n179  36.000000      0      0    LINE   0.0   NaN        S  \n263  40.000000      0      0  112059   0.0   B94        S  \n271  25.000000      0      0    LINE   0.0   NaN        S  \n277  29.642093      0      0  239853   0.0   NaN        S  \n302  19.000000      0      0    LINE   0.0   NaN        S  \n413  29.642093      0      0  239853   0.0   NaN        S  \n466  29.642093      0      0  239853   0.0   NaN        S  \n481  29.642093      0      0  239854   0.0   NaN        S  \n597  49.000000      0      0    LINE   0.0   NaN        S  \n633  29.642093      0      0  112052   0.0   NaN        S  \n674  29.642093      0      0  239856   0.0   NaN        S  \n732  29.642093      0      0  239855   0.0   NaN        S  \n806  39.000000      0      0  112050   0.0   A36        S  \n815  29.642093      0      0  112058   0.0  B102        S  \n822  38.000000      0      0   19972   0.0   NaN        S  ",
      "text/html": "<div>\n<style scoped>\n    .dataframe tbody tr th:only-of-type {\n        vertical-align: middle;\n    }\n\n    .dataframe tbody tr th {\n        vertical-align: top;\n    }\n\n    .dataframe thead th {\n        text-align: right;\n    }\n</style>\n<table border=\"1\" class=\"dataframe\">\n  <thead>\n    <tr style=\"text-align: right;\">\n      <th></th>\n      <th>PassengerId</th>\n      <th>Survived</th>\n      <th>Pclass</th>\n      <th>Name</th>\n      <th>Sex</th>\n      <th>Age</th>\n      <th>SibSp</th>\n      <th>Parch</th>\n      <th>Ticket</th>\n      <th>Fare</th>\n      <th>Cabin</th>\n      <th>Embarked</th>\n    </tr>\n  </thead>\n  <tbody>\n    <tr>\n      <th>179</th>\n      <td>180</td>\n      <td>0</td>\n      <td>3</td>\n      <td>Leonard, Mr. Lionel</td>\n      <td>male</td>\n      <td>36.000000</td>\n      <td>0</td>\n      <td>0</td>\n      <td>LINE</td>\n      <td>0.0</td>\n      <td>NaN</td>\n      <td>S</td>\n    </tr>\n    <tr>\n      <th>263</th>\n      <td>264</td>\n      <td>0</td>\n      <td>1</td>\n      <td>Harrison, Mr. William</td>\n      <td>male</td>\n      <td>40.000000</td>\n      <td>0</td>\n      <td>0</td>\n      <td>112059</td>\n      <td>0.0</td>\n      <td>B94</td>\n      <td>S</td>\n    </tr>\n    <tr>\n      <th>271</th>\n      <td>272</td>\n      <td>1</td>\n      <td>3</td>\n      <td>Tornquist, Mr. William Henry</td>\n      <td>male</td>\n      <td>25.000000</td>\n      <td>0</td>\n      <td>0</td>\n      <td>LINE</td>\n      <td>0.0</td>\n      <td>NaN</td>\n      <td>S</td>\n    </tr>\n    <tr>\n      <th>277</th>\n      <td>278</td>\n      <td>0</td>\n      <td>2</td>\n      <td>Parkes, Mr. Francis \"Frank\"</td>\n      <td>male</td>\n      <td>29.642093</td>\n      <td>0</td>\n      <td>0</td>\n      <td>239853</td>\n      <td>0.0</td>\n      <td>NaN</td>\n      <td>S</td>\n    </tr>\n    <tr>\n      <th>302</th>\n      <td>303</td>\n      <td>0</td>\n      <td>3</td>\n      <td>Johnson, Mr. William Cahoone Jr</td>\n      <td>male</td>\n      <td>19.000000</td>\n      <td>0</td>\n      <td>0</td>\n      <td>LINE</td>\n      <td>0.0</td>\n      <td>NaN</td>\n      <td>S</td>\n    </tr>\n    <tr>\n      <th>413</th>\n      <td>414</td>\n      <td>0</td>\n      <td>2</td>\n      <td>Cunningham, Mr. Alfred Fleming</td>\n      <td>male</td>\n      <td>29.642093</td>\n      <td>0</td>\n      <td>0</td>\n      <td>239853</td>\n      <td>0.0</td>\n      <td>NaN</td>\n      <td>S</td>\n    </tr>\n    <tr>\n      <th>466</th>\n      <td>467</td>\n      <td>0</td>\n      <td>2</td>\n      <td>Campbell, Mr. William</td>\n      <td>male</td>\n      <td>29.642093</td>\n      <td>0</td>\n      <td>0</td>\n      <td>239853</td>\n      <td>0.0</td>\n      <td>NaN</td>\n      <td>S</td>\n    </tr>\n    <tr>\n      <th>481</th>\n      <td>482</td>\n      <td>0</td>\n      <td>2</td>\n      <td>Frost, Mr. Anthony Wood \"Archie\"</td>\n      <td>male</td>\n      <td>29.642093</td>\n      <td>0</td>\n      <td>0</td>\n      <td>239854</td>\n      <td>0.0</td>\n      <td>NaN</td>\n      <td>S</td>\n    </tr>\n    <tr>\n      <th>597</th>\n      <td>598</td>\n      <td>0</td>\n      <td>3</td>\n      <td>Johnson, Mr. Alfred</td>\n      <td>male</td>\n      <td>49.000000</td>\n      <td>0</td>\n      <td>0</td>\n      <td>LINE</td>\n      <td>0.0</td>\n      <td>NaN</td>\n      <td>S</td>\n    </tr>\n    <tr>\n      <th>633</th>\n      <td>634</td>\n      <td>0</td>\n      <td>1</td>\n      <td>Parr, Mr. William Henry Marsh</td>\n      <td>male</td>\n      <td>29.642093</td>\n      <td>0</td>\n      <td>0</td>\n      <td>112052</td>\n      <td>0.0</td>\n      <td>NaN</td>\n      <td>S</td>\n    </tr>\n    <tr>\n      <th>674</th>\n      <td>675</td>\n      <td>0</td>\n      <td>2</td>\n      <td>Watson, Mr. Ennis Hastings</td>\n      <td>male</td>\n      <td>29.642093</td>\n      <td>0</td>\n      <td>0</td>\n      <td>239856</td>\n      <td>0.0</td>\n      <td>NaN</td>\n      <td>S</td>\n    </tr>\n    <tr>\n      <th>732</th>\n      <td>733</td>\n      <td>0</td>\n      <td>2</td>\n      <td>Knight, Mr. Robert J</td>\n      <td>male</td>\n      <td>29.642093</td>\n      <td>0</td>\n      <td>0</td>\n      <td>239855</td>\n      <td>0.0</td>\n      <td>NaN</td>\n      <td>S</td>\n    </tr>\n    <tr>\n      <th>806</th>\n      <td>807</td>\n      <td>0</td>\n      <td>1</td>\n      <td>Andrews, Mr. Thomas Jr</td>\n      <td>male</td>\n      <td>39.000000</td>\n      <td>0</td>\n      <td>0</td>\n      <td>112050</td>\n      <td>0.0</td>\n      <td>A36</td>\n      <td>S</td>\n    </tr>\n    <tr>\n      <th>815</th>\n      <td>816</td>\n      <td>0</td>\n      <td>1</td>\n      <td>Fry, Mr. Richard</td>\n      <td>male</td>\n      <td>29.642093</td>\n      <td>0</td>\n      <td>0</td>\n      <td>112058</td>\n      <td>0.0</td>\n      <td>B102</td>\n      <td>S</td>\n    </tr>\n    <tr>\n      <th>822</th>\n      <td>823</td>\n      <td>0</td>\n      <td>1</td>\n      <td>Reuchlin, Jonkheer. John George</td>\n      <td>male</td>\n      <td>38.000000</td>\n      <td>0</td>\n      <td>0</td>\n      <td>19972</td>\n      <td>0.0</td>\n      <td>NaN</td>\n      <td>S</td>\n    </tr>\n  </tbody>\n</table>\n</div>"
     },
     "execution_count": 10,
     "metadata": {},
     "output_type": "execute_result"
    }
   ],
   "source": [
    "print(\"Training Data Zero Fare Records:\")\n",
    "train_data[train_data[\"Fare\"] == 0].head(15)"
   ],
   "metadata": {
    "collapsed": false,
    "pycharm": {
     "name": "#%%\n"
    }
   }
  },
  {
   "cell_type": "markdown",
   "source": [
    "The data printed in the previous step all seem to be outliers: every\n",
    "third class ticket received at a zero fare has the word \"LINE\" written\n",
    "in the \"Ticket\" field, and the rest of the zero-cost tickets are either\n",
    "second class or first class tickets.\n",
    "\n",
    "Before we go ahead and remove all these data entries, let us determine\n",
    "the mean fare prices for each class of ticket. Based on this comparison,\n",
    "we can decide which entries should be removed and which should remain."
   ],
   "metadata": {
    "collapsed": false,
    "pycharm": {
     "name": "#%% md\n"
    }
   }
  },
  {
   "cell_type": "code",
   "execution_count": 11,
   "outputs": [
    {
     "name": "stdout",
     "output_type": "stream",
     "text": [
      "Training Data Mean Non-zero Fare Prices, Grouped by Ticket Class:\n",
      "Pclass\n",
      "1    86.207715\n",
      "2    21.358661\n",
      "3    13.787875\n",
      "Name: Fare, dtype: float64\n"
     ]
    }
   ],
   "source": [
    "train_data_nonzero_fare = train_data[train_data[\"Fare\"] != 0]\n",
    "train_data_nonzero_fare_grouped = train_data_nonzero_fare.groupby(\"Pclass\")[\"Fare\"].mean()\n",
    "print(f\"Training Data Mean Non-zero Fare Prices, Grouped by Ticket Class:\\n{train_data_nonzero_fare_grouped}\")"
   ],
   "metadata": {
    "collapsed": false,
    "pycharm": {
     "name": "#%%\n"
    }
   }
  },
  {
   "cell_type": "markdown",
   "source": [
    "Based on this most recent step, it appears that when zero fare tickets\n",
    "are not considered, the mean price of a first class ticket was\n",
    "86.207715, the mean price of a second class ticket was 21.358661, and\n",
    "the mean price of a third class ticket was 13.787875. Therefore, it doesn't\n",
    "make sense that of the 15 people who supposedly had free tickets, 11 of them\n",
    "possessed either second class or third class tickets, the costs of which\n",
    "seemed to be significantly higher (when considering the value of money\n",
    "at the time of the Titanic's maiden voyage). Thus, between the\n",
    "strange \"LINE\" entries in the third class passenger \"Ticket\" fields and\n",
    "the fact that the rest are second and first class tickets, we should\n",
    "probably drop all 15 of these records, considering them outliers."
   ],
   "metadata": {
    "collapsed": false,
    "pycharm": {
     "name": "#%% md\n"
    }
   }
  },
  {
   "cell_type": "code",
   "execution_count": 12,
   "outputs": [
    {
     "name": "stdout",
     "output_type": "stream",
     "text": [
      "Training Data Length: 874\n"
     ]
    }
   ],
   "source": [
    "train_data = train_data[train_data[\"Fare\"] != 0]\n",
    "print(f\"Training Data Length: {len(train_data)}\")"
   ],
   "metadata": {
    "collapsed": false,
    "pycharm": {
     "name": "#%%\n"
    }
   }
  },
  {
   "cell_type": "markdown",
   "source": [
    "Let us now remove any duplicates that may be present in the data."
   ],
   "metadata": {
    "collapsed": false,
    "pycharm": {
     "name": "#%% md\n"
    }
   }
  },
  {
   "cell_type": "code",
   "source": [
    "train_data = train_data.drop_duplicates()\n",
    "print(f\"Training Data Length: {len(train_data)}\")"
   ],
   "metadata": {
    "collapsed": false,
    "pycharm": {
     "name": "#%%\n"
    }
   },
   "execution_count": 13,
   "outputs": [
    {
     "name": "stdout",
     "output_type": "stream",
     "text": [
      "Training Data Length: 874\n"
     ]
    }
   ]
  },
  {
   "cell_type": "markdown",
   "source": [
    "It appears that there were no duplicates in the data.\n",
    "\n",
    "Now, before we start analyzing the data, we should consider\n",
    "engineering some current features into new features. First, let's\n",
    "circle back to the \"Cabin\" field in the data. Even though many of the\n",
    "records have NaN values in for this column, we can potentially use\n",
    "this fact to our advantage by counting splitting the data into two\n",
    "categories: one containing only the deck letter, and the other\n",
    "containing only the cabin/suite number. Both of these new features\n",
    "will deal with NaN values as they come.\n",
    "\n",
    "Let's start by creating a DataFrame to store our newly engineered features,\n",
    "the first being a series containing a list of the deck letters each person\n",
    "has a cabin/suite on. This can be done using a lambda function."
   ],
   "metadata": {
    "collapsed": false,
    "pycharm": {
     "name": "#%% md\n"
    }
   }
  },
  {
   "cell_type": "code",
   "execution_count": 14,
   "outputs": [],
   "source": [
    "# Use a lambda function to split each entry in the \"Cabin\" field,\n",
    "# and store it in a separate temporary storage DataFrame.\n",
    "temp = train_data[\"Cabin\"].apply(lambda entry: [] if pd.isnull(entry)\n",
    "                                 else entry.split(\" \"))"
   ],
   "metadata": {
    "collapsed": false,
    "pycharm": {
     "name": "#%%\n"
    }
   }
  },
  {
   "cell_type": "code",
   "execution_count": 15,
   "outputs": [],
   "source": [
    "# Define a function to take only the deck letters from each entry.\n",
    "def get_letters(obj):\n",
    "    for index in range(0, len(obj)):\n",
    "        obj[index] = str(obj[index])[0]\n",
    "\n",
    "    return obj"
   ],
   "metadata": {
    "collapsed": false,
    "pycharm": {
     "name": "#%%\n"
    }
   }
  },
  {
   "cell_type": "code",
   "execution_count": 16,
   "outputs": [
    {
     "data": {
      "text/plain": "0            []\n1           [C]\n2            []\n3           [C]\n4            []\n5            []\n6           [E]\n7            []\n8            []\n9            []\n10          [G]\n11          [C]\n12           []\n13           []\n14           []\n15           []\n16           []\n17           []\n18           []\n19           []\n20           []\n21          [D]\n22           []\n23          [A]\n24           []\n25           []\n26           []\n27    [C, C, C]\n28           []\n29           []\n30           []\n31          [B]\n32           []\n33           []\n34           []\n35           []\n36           []\n37           []\n38           []\n39           []\n40           []\n41           []\n42           []\n43           []\n44           []\n45           []\n46           []\n47           []\n48           []\n49           []\nName: Cabin, dtype: object"
     },
     "execution_count": 16,
     "metadata": {},
     "output_type": "execute_result"
    }
   ],
   "source": [
    "# Apply our newly defined function to the temp DataFrame\n",
    "# and print the results using the head(50) function.\n",
    "temp = temp.apply(lambda cabin_list : [] if (cabin_list == [])\n",
    "                  else get_letters(cabin_list))\n",
    "temp.head(50)"
   ],
   "metadata": {
    "collapsed": false,
    "pycharm": {
     "name": "#%%\n"
    }
   }
  },
  {
   "cell_type": "markdown",
   "source": [
    "Now that we have found a way to separate the letter data from the\n",
    "numeric data in the \"Cabin\" series, we might be able to create features\n",
    "that we can use in our model.\n",
    "\n",
    "Let us try to determine how many passengers had cabins on more than\n",
    "one deck of the ship."
   ],
   "metadata": {
    "collapsed": false,
    "pycharm": {
     "name": "#%% md\n"
    }
   }
  },
  {
   "cell_type": "code",
   "execution_count": 17,
   "outputs": [],
   "source": [
    "temp_counts = temp.apply(lambda cabin_list : 0 if (cabin_list == [])\n",
    "                                        else len(np.unique(cabin_list)))"
   ],
   "metadata": {
    "collapsed": false,
    "pycharm": {
     "name": "#%%\n"
    }
   }
  },
  {
   "cell_type": "markdown",
   "source": [
    "We should check to make sure our new feature has been successfully\n",
    "created and filled in with data."
   ],
   "metadata": {
    "collapsed": false,
    "pycharm": {
     "name": "#%% md\n"
    }
   }
  },
  {
   "cell_type": "code",
   "execution_count": 18,
   "outputs": [
    {
     "data": {
      "text/plain": "0     0\n1     1\n2     0\n3     1\n4     0\n5     0\n6     1\n7     0\n8     0\n9     0\n10    1\n11    1\n12    0\n13    0\n14    0\n15    0\n16    0\n17    0\n18    0\n19    0\n20    0\n21    1\n22    0\n23    1\n24    0\n25    0\n26    0\n27    1\n28    0\n29    0\n30    0\n31    1\n32    0\n33    0\n34    0\n35    0\n36    0\n37    0\n38    0\n39    0\n40    0\n41    0\n42    0\n43    0\n44    0\n45    0\n46    0\n47    0\n48    0\n49    0\nName: Cabin, dtype: int64"
     },
     "execution_count": 18,
     "metadata": {},
     "output_type": "execute_result"
    }
   ],
   "source": [
    "temp_counts.head(50)"
   ],
   "metadata": {
    "collapsed": false,
    "pycharm": {
     "name": "#%%\n"
    }
   }
  },
  {
   "cell_type": "markdown",
   "source": [
    "Our new feature seems to have been created and filled successfully.\n",
    "However, before we decide to go ahead and add it to the training\n",
    "data, we should determine if the information it contains is actually\n",
    "meaningful. For example, if all the records have either a 0 or a 1\n",
    "for this new field, then it doesn't make sense to include it as\n",
    "such a result would mean that all records where the cabin data was\n",
    "not NaN contains cabins in only one deck of the ship."
   ],
   "metadata": {
    "collapsed": false,
    "pycharm": {
     "name": "#%% md\n"
    }
   }
  },
  {
   "cell_type": "code",
   "execution_count": 19,
   "outputs": [
    {
     "name": "stdout",
     "output_type": "stream",
     "text": [
      "Different Cabin Deck Counts by Passenger:\n",
      "0    675\n",
      "1    195\n",
      "2      4\n",
      "Name: Cabin, dtype: int64\n"
     ]
    }
   ],
   "source": [
    "print(f\"Different Cabin Deck Counts by Passenger:\\n{temp_counts.value_counts()}\")"
   ],
   "metadata": {
    "collapsed": false,
    "pycharm": {
     "name": "#%%\n"
    }
   }
  },
  {
   "cell_type": "markdown",
   "source": [
    "Based on our previous step, it appears that of the 199 records with\n",
    "non-NaN cabin data, only 4 of them represented passengers who owned\n",
    "cabins on two decks, while the rest only owned cabins on one deck\n",
    "(The data suggests that there were no known passengers on the Titanic\n",
    "who owned cabins on three or more decks). Therefore, our experiment seems\n",
    "to have produced a result that is not of sufficient meaning to include\n",
    "in our model.\n",
    "\n",
    "Despite this, we should continue to look into the cabin data we collected\n",
    "and stored in the temp DataFrame. One other place we can look is\n",
    "at the deck letters themselves: did survival during the sinking of the\n",
    "Titanic have anything to do with the deck a person's cabin was located on?\n",
    "\n",
    "Let's try to edit our previous temp DataFrame by making each entry\n",
    "contain the dominant deck letter. This applies specifically to the four\n",
    "known passengers on the Titanic who owned cabins on more than one deck; the\n",
    "dominant deck letter refers to the deck on which these passengers owned the\n",
    "majority of their cabins. In the event that the passenger owns the same number\n",
    "of cabins on each deck - one cabin on deck A and another on deck B - then we\n",
    "will use the higher level cabin (the cabin with the deck closest to\n",
    "the top of the ship, and therefore the deck letter closest to \"A\")."
   ],
   "metadata": {
    "collapsed": false,
    "pycharm": {
     "name": "#%% md\n"
    }
   }
  },
  {
   "cell_type": "code",
   "execution_count": 20,
   "outputs": [
    {
     "name": "stdout",
     "output_type": "stream",
     "text": [
      "75     [F, G]\n",
      "128    [F, E]\n",
      "699    [F, G]\n",
      "715    [F, G]\n",
      "Name: Cabin, dtype: object\n"
     ]
    }
   ],
   "source": [
    "print(temp[(temp.apply(lambda cabin_list : 0 if (cabin_list == [])\n",
    "                       else len(np.unique(cabin_list)))) == 2])"
   ],
   "metadata": {
    "collapsed": false,
    "pycharm": {
     "name": "#%%\n"
    }
   }
  },
  {
   "cell_type": "markdown",
   "source": [
    "Based on the previous step, it appears that all of the passengers\n",
    "who owned cabins on multiple decks have the same number of cabins\n",
    "on each of the associated decks. Thus, none of these records\n",
    "have a dominant deck letter, based on our previous definition of the\n",
    "term. Thus, instead of picking the deck letters closest to \"A,\" it\n",
    "might actually be better to remove these four entries from the data\n",
    "altogether. We can do this by adding this experimental feature to\n",
    "our original data set, deleting these four rows based on the values\n",
    "in this new field, and then removing this experimental field from\n",
    "the data set."
   ],
   "metadata": {
    "collapsed": false,
    "pycharm": {
     "name": "#%% md\n"
    }
   }
  },
  {
   "cell_type": "code",
   "execution_count": 21,
   "outputs": [],
   "source": [
    "# add experimental feature as new data field.\n",
    "train_data[\"Dcounts\"] = temp_counts"
   ],
   "metadata": {
    "collapsed": false,
    "pycharm": {
     "name": "#%%\n"
    }
   }
  },
  {
   "cell_type": "code",
   "execution_count": 22,
   "outputs": [
    {
     "name": "stdout",
     "output_type": "stream",
     "text": [
      "Initial Training Data Length: 874\n"
     ]
    }
   ],
   "source": [
    "# print initial length of data set before removing multi-deck passengers,\n",
    "# then remove records with cabins on multiple decks.\n",
    "print(f\"Initial Training Data Length: {len(train_data)}\")\n",
    "train_data = train_data[train_data.Dcounts != 2]"
   ],
   "metadata": {
    "collapsed": false,
    "pycharm": {
     "name": "#%%\n"
    }
   }
  },
  {
   "cell_type": "code",
   "execution_count": 23,
   "outputs": [
    {
     "name": "stdout",
     "output_type": "stream",
     "text": [
      "New Training Data Length: 870\n"
     ]
    },
    {
     "data": {
      "text/plain": "   PassengerId  Survived  Pclass  \\\n0            1         0       3   \n1            2         1       1   \n2            3         1       3   \n3            4         1       1   \n4            5         0       3   \n5            6         0       3   \n6            7         0       1   \n7            8         0       3   \n8            9         1       3   \n9           10         1       2   \n\n                                                Name     Sex        Age  \\\n0                            Braund, Mr. Owen Harris    male  22.000000   \n1  Cumings, Mrs. John Bradley (Florence Briggs Th...  female  38.000000   \n2                             Heikkinen, Miss. Laina  female  26.000000   \n3       Futrelle, Mrs. Jacques Heath (Lily May Peel)  female  35.000000   \n4                           Allen, Mr. William Henry    male  35.000000   \n5                                   Moran, Mr. James    male  29.642093   \n6                            McCarthy, Mr. Timothy J    male  54.000000   \n7                     Palsson, Master. Gosta Leonard    male   2.000000   \n8  Johnson, Mrs. Oscar W (Elisabeth Vilhelmina Berg)  female  27.000000   \n9                Nasser, Mrs. Nicholas (Adele Achem)  female  14.000000   \n\n   SibSp  Parch            Ticket     Fare Cabin Embarked  \n0      1      0         A/5 21171   7.2500   NaN        S  \n1      1      0          PC 17599  71.2833   C85        C  \n2      0      0  STON/O2. 3101282   7.9250   NaN        S  \n3      1      0            113803  53.1000  C123        S  \n4      0      0            373450   8.0500   NaN        S  \n5      0      0            330877   8.4583   NaN        Q  \n6      0      0             17463  51.8625   E46        S  \n7      3      1            349909  21.0750   NaN        S  \n8      0      2            347742  11.1333   NaN        S  \n9      1      0            237736  30.0708   NaN        C  ",
      "text/html": "<div>\n<style scoped>\n    .dataframe tbody tr th:only-of-type {\n        vertical-align: middle;\n    }\n\n    .dataframe tbody tr th {\n        vertical-align: top;\n    }\n\n    .dataframe thead th {\n        text-align: right;\n    }\n</style>\n<table border=\"1\" class=\"dataframe\">\n  <thead>\n    <tr style=\"text-align: right;\">\n      <th></th>\n      <th>PassengerId</th>\n      <th>Survived</th>\n      <th>Pclass</th>\n      <th>Name</th>\n      <th>Sex</th>\n      <th>Age</th>\n      <th>SibSp</th>\n      <th>Parch</th>\n      <th>Ticket</th>\n      <th>Fare</th>\n      <th>Cabin</th>\n      <th>Embarked</th>\n    </tr>\n  </thead>\n  <tbody>\n    <tr>\n      <th>0</th>\n      <td>1</td>\n      <td>0</td>\n      <td>3</td>\n      <td>Braund, Mr. Owen Harris</td>\n      <td>male</td>\n      <td>22.000000</td>\n      <td>1</td>\n      <td>0</td>\n      <td>A/5 21171</td>\n      <td>7.2500</td>\n      <td>NaN</td>\n      <td>S</td>\n    </tr>\n    <tr>\n      <th>1</th>\n      <td>2</td>\n      <td>1</td>\n      <td>1</td>\n      <td>Cumings, Mrs. John Bradley (Florence Briggs Th...</td>\n      <td>female</td>\n      <td>38.000000</td>\n      <td>1</td>\n      <td>0</td>\n      <td>PC 17599</td>\n      <td>71.2833</td>\n      <td>C85</td>\n      <td>C</td>\n    </tr>\n    <tr>\n      <th>2</th>\n      <td>3</td>\n      <td>1</td>\n      <td>3</td>\n      <td>Heikkinen, Miss. Laina</td>\n      <td>female</td>\n      <td>26.000000</td>\n      <td>0</td>\n      <td>0</td>\n      <td>STON/O2. 3101282</td>\n      <td>7.9250</td>\n      <td>NaN</td>\n      <td>S</td>\n    </tr>\n    <tr>\n      <th>3</th>\n      <td>4</td>\n      <td>1</td>\n      <td>1</td>\n      <td>Futrelle, Mrs. Jacques Heath (Lily May Peel)</td>\n      <td>female</td>\n      <td>35.000000</td>\n      <td>1</td>\n      <td>0</td>\n      <td>113803</td>\n      <td>53.1000</td>\n      <td>C123</td>\n      <td>S</td>\n    </tr>\n    <tr>\n      <th>4</th>\n      <td>5</td>\n      <td>0</td>\n      <td>3</td>\n      <td>Allen, Mr. William Henry</td>\n      <td>male</td>\n      <td>35.000000</td>\n      <td>0</td>\n      <td>0</td>\n      <td>373450</td>\n      <td>8.0500</td>\n      <td>NaN</td>\n      <td>S</td>\n    </tr>\n    <tr>\n      <th>5</th>\n      <td>6</td>\n      <td>0</td>\n      <td>3</td>\n      <td>Moran, Mr. James</td>\n      <td>male</td>\n      <td>29.642093</td>\n      <td>0</td>\n      <td>0</td>\n      <td>330877</td>\n      <td>8.4583</td>\n      <td>NaN</td>\n      <td>Q</td>\n    </tr>\n    <tr>\n      <th>6</th>\n      <td>7</td>\n      <td>0</td>\n      <td>1</td>\n      <td>McCarthy, Mr. Timothy J</td>\n      <td>male</td>\n      <td>54.000000</td>\n      <td>0</td>\n      <td>0</td>\n      <td>17463</td>\n      <td>51.8625</td>\n      <td>E46</td>\n      <td>S</td>\n    </tr>\n    <tr>\n      <th>7</th>\n      <td>8</td>\n      <td>0</td>\n      <td>3</td>\n      <td>Palsson, Master. Gosta Leonard</td>\n      <td>male</td>\n      <td>2.000000</td>\n      <td>3</td>\n      <td>1</td>\n      <td>349909</td>\n      <td>21.0750</td>\n      <td>NaN</td>\n      <td>S</td>\n    </tr>\n    <tr>\n      <th>8</th>\n      <td>9</td>\n      <td>1</td>\n      <td>3</td>\n      <td>Johnson, Mrs. Oscar W (Elisabeth Vilhelmina Berg)</td>\n      <td>female</td>\n      <td>27.000000</td>\n      <td>0</td>\n      <td>2</td>\n      <td>347742</td>\n      <td>11.1333</td>\n      <td>NaN</td>\n      <td>S</td>\n    </tr>\n    <tr>\n      <th>9</th>\n      <td>10</td>\n      <td>1</td>\n      <td>2</td>\n      <td>Nasser, Mrs. Nicholas (Adele Achem)</td>\n      <td>female</td>\n      <td>14.000000</td>\n      <td>1</td>\n      <td>0</td>\n      <td>237736</td>\n      <td>30.0708</td>\n      <td>NaN</td>\n      <td>C</td>\n    </tr>\n  </tbody>\n</table>\n</div>"
     },
     "execution_count": 23,
     "metadata": {},
     "output_type": "execute_result"
    }
   ],
   "source": [
    "# print the length of the edited data set,\n",
    "# drop the \"Dcounts\" field from the data,\n",
    "# and use the head(10) function to print the top 10 data records.\n",
    "print(f\"New Training Data Length: {len(train_data)}\")\n",
    "train_data.drop(columns=\"Dcounts\", inplace=True)\n",
    "train_data.head(10)"
   ],
   "metadata": {
    "collapsed": false,
    "pycharm": {
     "name": "#%%\n"
    }
   }
  },
  {
   "cell_type": "markdown",
   "source": [
    "We can now focus on creating a deck letter field. Let us once again\n",
    "utilize a temporary storage DataFrame so we can be sure our new\n",
    "feature is meaningful enough in its content to include as some\n",
    "type of categorical data field, like an indicator variable. We should\n",
    "edit the temp DataFrame to include only the first index of each of the\n",
    "deck letter lists it contains."
   ],
   "metadata": {
    "collapsed": false,
    "pycharm": {
     "name": "#%% md\n"
    }
   }
  },
  {
   "cell_type": "code",
   "execution_count": 24,
   "outputs": [
    {
     "data": {
      "text/plain": "0     NaN\n1       C\n2     NaN\n3       C\n4     NaN\n5     NaN\n6       E\n7     NaN\n8     NaN\n9     NaN\n10      G\n11      C\n12    NaN\n13    NaN\n14    NaN\n15    NaN\n16    NaN\n17    NaN\n18    NaN\n19    NaN\n20    NaN\n21      D\n22    NaN\n23      A\n24    NaN\nName: Cabin, dtype: object"
     },
     "execution_count": 24,
     "metadata": {},
     "output_type": "execute_result"
    }
   ],
   "source": [
    "temp = temp.apply(lambda cabin_list : \"NaN\" if (cabin_list == [])\n",
    "                  else str(cabin_list[0]))\n",
    "temp.head(25)"
   ],
   "metadata": {
    "collapsed": false,
    "pycharm": {
     "name": "#%%\n"
    }
   }
  },
  {
   "cell_type": "markdown",
   "source": [
    "Let's now try to determine if the information this new experimental\n",
    "feature contains is meaningful enough to include as a field in our\n",
    "data set."
   ],
   "metadata": {
    "collapsed": false,
    "pycharm": {
     "name": "#%% md\n"
    }
   }
  },
  {
   "cell_type": "code",
   "execution_count": 25,
   "outputs": [
    {
     "name": "stdout",
     "output_type": "stream",
     "text": [
      "Training Data Survival by Deck Letter:\n",
      "Survived  Dletter\n",
      "0         A            7\n",
      "          B           10\n",
      "          C           24\n",
      "          D            8\n",
      "          E            8\n",
      "          F            2\n",
      "          G            2\n",
      "          NaN        470\n",
      "          T            1\n",
      "1         A            7\n",
      "          B           33\n",
      "          C           35\n",
      "          D           25\n",
      "          E           24\n",
      "          F            7\n",
      "          G            2\n",
      "          NaN        205\n",
      "Name: PassengerId, dtype: int64\n"
     ]
    }
   ],
   "source": [
    "train_data[\"Dletter\"] = temp\n",
    "print(f\"Training Data Survival by Deck Letter:\\n{train_data.groupby(['Survived', 'Dletter'])['PassengerId'].count()}\")"
   ],
   "metadata": {
    "collapsed": false,
    "pycharm": {
     "name": "#%%\n"
    }
   }
  },
  {
   "cell_type": "markdown",
   "source": [
    "Based on the grouped data we just printed, it looks like\n",
    "this feature does have some meaningful implications: a large\n",
    "portion of passengers known to be on decks B, C, D, and E survived.\n",
    "Therefore, we should keep this as a new field int the training data."
   ],
   "metadata": {
    "collapsed": false,
    "pycharm": {
     "name": "#%% md\n"
    }
   }
  },
  {
   "cell_type": "markdown",
   "source": [
    "After a review of the \"Ticket\" field of the data, we have come to\n",
    "the conclusion that it is redundant: passengers can be identified\n",
    "by the names or their passenger ID's, so having another means of\n",
    "identification seems to be a waste of memory. Therefore, we can\n",
    "drop the \"Ticket\" field from the data.\n",
    "\n",
    "Furthermore, we should probably drop the \"Cabin\" series\n",
    "from our data as well. The reasoning for this is similar\n",
    "to how we justified dropping the \"Ticket\" data as well:\n",
    "we have obtained everything that we feel is useful from this\n",
    "specific data field, so it makes sense to drop what we don't need.\n",
    "Furthermore, the large number of NaN values that remain in the\n",
    "\"Cabin\" field may cause issues when it comes to analyzing the\n",
    "data if we don't get rid of it."
   ],
   "metadata": {
    "collapsed": false,
    "pycharm": {
     "name": "#%% md\n"
    }
   }
  },
  {
   "cell_type": "code",
   "execution_count": 26,
   "outputs": [
    {
     "data": {
      "text/plain": "    PassengerId  Survived  Pclass  \\\n0             1         0       3   \n1             2         1       1   \n2             3         1       3   \n3             4         1       1   \n4             5         0       3   \n5             6         0       3   \n6             7         0       1   \n7             8         0       3   \n8             9         1       3   \n9            10         1       2   \n10           11         1       3   \n11           12         1       1   \n12           13         0       3   \n13           14         0       3   \n14           15         0       3   \n15           16         1       2   \n16           17         0       3   \n17           18         1       2   \n18           19         0       3   \n19           20         1       3   \n\n                                                 Name     Sex        Age  \\\n0                             Braund, Mr. Owen Harris    male  22.000000   \n1   Cumings, Mrs. John Bradley (Florence Briggs Th...  female  38.000000   \n2                              Heikkinen, Miss. Laina  female  26.000000   \n3        Futrelle, Mrs. Jacques Heath (Lily May Peel)  female  35.000000   \n4                            Allen, Mr. William Henry    male  35.000000   \n5                                    Moran, Mr. James    male  29.642093   \n6                             McCarthy, Mr. Timothy J    male  54.000000   \n7                      Palsson, Master. Gosta Leonard    male   2.000000   \n8   Johnson, Mrs. Oscar W (Elisabeth Vilhelmina Berg)  female  27.000000   \n9                 Nasser, Mrs. Nicholas (Adele Achem)  female  14.000000   \n10                    Sandstrom, Miss. Marguerite Rut  female   4.000000   \n11                           Bonnell, Miss. Elizabeth  female  58.000000   \n12                     Saundercock, Mr. William Henry    male  20.000000   \n13                        Andersson, Mr. Anders Johan    male  39.000000   \n14               Vestrom, Miss. Hulda Amanda Adolfina  female  14.000000   \n15                   Hewlett, Mrs. (Mary D Kingcome)   female  55.000000   \n16                               Rice, Master. Eugene    male   2.000000   \n17                       Williams, Mr. Charles Eugene    male  29.642093   \n18  Vander Planke, Mrs. Julius (Emelia Maria Vande...  female  31.000000   \n19                            Masselmani, Mrs. Fatima  female  29.642093   \n\n    SibSp  Parch     Fare Embarked Dletter  \n0       1      0   7.2500        S     NaN  \n1       1      0  71.2833        C       C  \n2       0      0   7.9250        S     NaN  \n3       1      0  53.1000        S       C  \n4       0      0   8.0500        S     NaN  \n5       0      0   8.4583        Q     NaN  \n6       0      0  51.8625        S       E  \n7       3      1  21.0750        S     NaN  \n8       0      2  11.1333        S     NaN  \n9       1      0  30.0708        C     NaN  \n10      1      1  16.7000        S       G  \n11      0      0  26.5500        S       C  \n12      0      0   8.0500        S     NaN  \n13      1      5  31.2750        S     NaN  \n14      0      0   7.8542        S     NaN  \n15      0      0  16.0000        S     NaN  \n16      4      1  29.1250        Q     NaN  \n17      0      0  13.0000        S     NaN  \n18      1      0  18.0000        S     NaN  \n19      0      0   7.2250        C     NaN  ",
      "text/html": "<div>\n<style scoped>\n    .dataframe tbody tr th:only-of-type {\n        vertical-align: middle;\n    }\n\n    .dataframe tbody tr th {\n        vertical-align: top;\n    }\n\n    .dataframe thead th {\n        text-align: right;\n    }\n</style>\n<table border=\"1\" class=\"dataframe\">\n  <thead>\n    <tr style=\"text-align: right;\">\n      <th></th>\n      <th>PassengerId</th>\n      <th>Survived</th>\n      <th>Pclass</th>\n      <th>Name</th>\n      <th>Sex</th>\n      <th>Age</th>\n      <th>SibSp</th>\n      <th>Parch</th>\n      <th>Fare</th>\n      <th>Embarked</th>\n      <th>Dletter</th>\n    </tr>\n  </thead>\n  <tbody>\n    <tr>\n      <th>0</th>\n      <td>1</td>\n      <td>0</td>\n      <td>3</td>\n      <td>Braund, Mr. Owen Harris</td>\n      <td>male</td>\n      <td>22.000000</td>\n      <td>1</td>\n      <td>0</td>\n      <td>7.2500</td>\n      <td>S</td>\n      <td>NaN</td>\n    </tr>\n    <tr>\n      <th>1</th>\n      <td>2</td>\n      <td>1</td>\n      <td>1</td>\n      <td>Cumings, Mrs. John Bradley (Florence Briggs Th...</td>\n      <td>female</td>\n      <td>38.000000</td>\n      <td>1</td>\n      <td>0</td>\n      <td>71.2833</td>\n      <td>C</td>\n      <td>C</td>\n    </tr>\n    <tr>\n      <th>2</th>\n      <td>3</td>\n      <td>1</td>\n      <td>3</td>\n      <td>Heikkinen, Miss. Laina</td>\n      <td>female</td>\n      <td>26.000000</td>\n      <td>0</td>\n      <td>0</td>\n      <td>7.9250</td>\n      <td>S</td>\n      <td>NaN</td>\n    </tr>\n    <tr>\n      <th>3</th>\n      <td>4</td>\n      <td>1</td>\n      <td>1</td>\n      <td>Futrelle, Mrs. Jacques Heath (Lily May Peel)</td>\n      <td>female</td>\n      <td>35.000000</td>\n      <td>1</td>\n      <td>0</td>\n      <td>53.1000</td>\n      <td>S</td>\n      <td>C</td>\n    </tr>\n    <tr>\n      <th>4</th>\n      <td>5</td>\n      <td>0</td>\n      <td>3</td>\n      <td>Allen, Mr. William Henry</td>\n      <td>male</td>\n      <td>35.000000</td>\n      <td>0</td>\n      <td>0</td>\n      <td>8.0500</td>\n      <td>S</td>\n      <td>NaN</td>\n    </tr>\n    <tr>\n      <th>5</th>\n      <td>6</td>\n      <td>0</td>\n      <td>3</td>\n      <td>Moran, Mr. James</td>\n      <td>male</td>\n      <td>29.642093</td>\n      <td>0</td>\n      <td>0</td>\n      <td>8.4583</td>\n      <td>Q</td>\n      <td>NaN</td>\n    </tr>\n    <tr>\n      <th>6</th>\n      <td>7</td>\n      <td>0</td>\n      <td>1</td>\n      <td>McCarthy, Mr. Timothy J</td>\n      <td>male</td>\n      <td>54.000000</td>\n      <td>0</td>\n      <td>0</td>\n      <td>51.8625</td>\n      <td>S</td>\n      <td>E</td>\n    </tr>\n    <tr>\n      <th>7</th>\n      <td>8</td>\n      <td>0</td>\n      <td>3</td>\n      <td>Palsson, Master. Gosta Leonard</td>\n      <td>male</td>\n      <td>2.000000</td>\n      <td>3</td>\n      <td>1</td>\n      <td>21.0750</td>\n      <td>S</td>\n      <td>NaN</td>\n    </tr>\n    <tr>\n      <th>8</th>\n      <td>9</td>\n      <td>1</td>\n      <td>3</td>\n      <td>Johnson, Mrs. Oscar W (Elisabeth Vilhelmina Berg)</td>\n      <td>female</td>\n      <td>27.000000</td>\n      <td>0</td>\n      <td>2</td>\n      <td>11.1333</td>\n      <td>S</td>\n      <td>NaN</td>\n    </tr>\n    <tr>\n      <th>9</th>\n      <td>10</td>\n      <td>1</td>\n      <td>2</td>\n      <td>Nasser, Mrs. Nicholas (Adele Achem)</td>\n      <td>female</td>\n      <td>14.000000</td>\n      <td>1</td>\n      <td>0</td>\n      <td>30.0708</td>\n      <td>C</td>\n      <td>NaN</td>\n    </tr>\n    <tr>\n      <th>10</th>\n      <td>11</td>\n      <td>1</td>\n      <td>3</td>\n      <td>Sandstrom, Miss. Marguerite Rut</td>\n      <td>female</td>\n      <td>4.000000</td>\n      <td>1</td>\n      <td>1</td>\n      <td>16.7000</td>\n      <td>S</td>\n      <td>G</td>\n    </tr>\n    <tr>\n      <th>11</th>\n      <td>12</td>\n      <td>1</td>\n      <td>1</td>\n      <td>Bonnell, Miss. Elizabeth</td>\n      <td>female</td>\n      <td>58.000000</td>\n      <td>0</td>\n      <td>0</td>\n      <td>26.5500</td>\n      <td>S</td>\n      <td>C</td>\n    </tr>\n    <tr>\n      <th>12</th>\n      <td>13</td>\n      <td>0</td>\n      <td>3</td>\n      <td>Saundercock, Mr. William Henry</td>\n      <td>male</td>\n      <td>20.000000</td>\n      <td>0</td>\n      <td>0</td>\n      <td>8.0500</td>\n      <td>S</td>\n      <td>NaN</td>\n    </tr>\n    <tr>\n      <th>13</th>\n      <td>14</td>\n      <td>0</td>\n      <td>3</td>\n      <td>Andersson, Mr. Anders Johan</td>\n      <td>male</td>\n      <td>39.000000</td>\n      <td>1</td>\n      <td>5</td>\n      <td>31.2750</td>\n      <td>S</td>\n      <td>NaN</td>\n    </tr>\n    <tr>\n      <th>14</th>\n      <td>15</td>\n      <td>0</td>\n      <td>3</td>\n      <td>Vestrom, Miss. Hulda Amanda Adolfina</td>\n      <td>female</td>\n      <td>14.000000</td>\n      <td>0</td>\n      <td>0</td>\n      <td>7.8542</td>\n      <td>S</td>\n      <td>NaN</td>\n    </tr>\n    <tr>\n      <th>15</th>\n      <td>16</td>\n      <td>1</td>\n      <td>2</td>\n      <td>Hewlett, Mrs. (Mary D Kingcome)</td>\n      <td>female</td>\n      <td>55.000000</td>\n      <td>0</td>\n      <td>0</td>\n      <td>16.0000</td>\n      <td>S</td>\n      <td>NaN</td>\n    </tr>\n    <tr>\n      <th>16</th>\n      <td>17</td>\n      <td>0</td>\n      <td>3</td>\n      <td>Rice, Master. Eugene</td>\n      <td>male</td>\n      <td>2.000000</td>\n      <td>4</td>\n      <td>1</td>\n      <td>29.1250</td>\n      <td>Q</td>\n      <td>NaN</td>\n    </tr>\n    <tr>\n      <th>17</th>\n      <td>18</td>\n      <td>1</td>\n      <td>2</td>\n      <td>Williams, Mr. Charles Eugene</td>\n      <td>male</td>\n      <td>29.642093</td>\n      <td>0</td>\n      <td>0</td>\n      <td>13.0000</td>\n      <td>S</td>\n      <td>NaN</td>\n    </tr>\n    <tr>\n      <th>18</th>\n      <td>19</td>\n      <td>0</td>\n      <td>3</td>\n      <td>Vander Planke, Mrs. Julius (Emelia Maria Vande...</td>\n      <td>female</td>\n      <td>31.000000</td>\n      <td>1</td>\n      <td>0</td>\n      <td>18.0000</td>\n      <td>S</td>\n      <td>NaN</td>\n    </tr>\n    <tr>\n      <th>19</th>\n      <td>20</td>\n      <td>1</td>\n      <td>3</td>\n      <td>Masselmani, Mrs. Fatima</td>\n      <td>female</td>\n      <td>29.642093</td>\n      <td>0</td>\n      <td>0</td>\n      <td>7.2250</td>\n      <td>C</td>\n      <td>NaN</td>\n    </tr>\n  </tbody>\n</table>\n</div>"
     },
     "execution_count": 26,
     "metadata": {},
     "output_type": "execute_result"
    }
   ],
   "source": [
    "train_data.drop(columns=[\"Ticket\", \"Cabin\"], inplace=True)\n",
    "train_data.head(20)"
   ],
   "metadata": {
    "collapsed": false,
    "pycharm": {
     "name": "#%%\n"
    }
   }
  },
  {
   "cell_type": "markdown",
   "source": [
    "One last thing I'd like to do is create histograms for all the\n",
    "numeric non-categorical data features in our current version\n",
    "of the data set (excluding \"Tnum\"). This will help us determine if there are any\n",
    "series in the data that we need to somehow normalize."
   ],
   "metadata": {
    "collapsed": false,
    "pycharm": {
     "name": "#%% md\n"
    }
   }
  },
  {
   "cell_type": "code",
   "execution_count": 27,
   "outputs": [
    {
     "data": {
      "text/plain": "<matplotlib.legend.Legend at 0x1dec2682f70>"
     },
     "execution_count": 27,
     "metadata": {},
     "output_type": "execute_result"
    },
    {
     "data": {
      "text/plain": "<Figure size 432x288 with 1 Axes>",
      "image/png": "[encoded data removed]"
     },
     "metadata": {
      "needs_background": "light"
     },
     "output_type": "display_data"
    }
   ],
   "source": [
    "# plot \"Age\" series histogram.\n",
    "plt.hist(train_data[\"Age\"],\n",
    "         bins=15,\n",
    "         edgecolor=\"black\",\n",
    "         label=\"Age Bin Frequency\")\n",
    "plt.title(\"Training Data Age Histogram\")\n",
    "plt.xlabel(\"Age Bins\")\n",
    "plt.ylabel(\"Frequency\")\n",
    "plt.legend(loc=\"upper right\")"
   ],
   "metadata": {
    "collapsed": false,
    "pycharm": {
     "name": "#%%\n"
    }
   }
  },
  {
   "cell_type": "code",
   "execution_count": 28,
   "outputs": [
    {
     "data": {
      "text/plain": "<matplotlib.legend.Legend at 0x1dec47aa3a0>"
     },
     "execution_count": 28,
     "metadata": {},
     "output_type": "execute_result"
    },
    {
     "data": {
      "text/plain": "<Figure size 432x288 with 1 Axes>",
      "image/png": "[encoded data removed]"
     },
     "metadata": {
      "needs_background": "light"
     },
     "output_type": "display_data"
    }
   ],
   "source": [
    "# plot \"Fare\" series histogram.\n",
    "plt.hist(train_data[\"Fare\"],\n",
    "         bins=15,\n",
    "         edgecolor=\"black\",\n",
    "         label=\"Fare Bin Frequency\")\n",
    "plt.title(\"Training Data Fare Histogram\")\n",
    "plt.xlabel(\"Fare Bins\")\n",
    "plt.ylabel(\"Frequency\")\n",
    "plt.legend(loc=\"upper right\")"
   ],
   "metadata": {
    "collapsed": false,
    "pycharm": {
     "name": "#%%\n"
    }
   }
  },
  {
   "cell_type": "markdown",
   "source": [
    "Based on what we've learned in class, the \"Age\" series\n",
    "looks somewhat normal, but the \"Fare\" series data seems\n",
    "to be much closer to a power law distribution than\n",
    "a normal distribution. Therefore, we should probably\n",
    "normalize the data by taking the logarithm of it."
   ],
   "metadata": {
    "collapsed": false,
    "pycharm": {
     "name": "#%% md\n"
    }
   }
  },
  {
   "cell_type": "code",
   "execution_count": 29,
   "outputs": [],
   "source": [
    "# create a \"log(Fare)\" feature\n",
    "# and drop the original \"Fare\" feature.\n",
    "train_data[\"log(Fare)\"] = np.log(train_data[\"Fare\"])\n",
    "train_data.drop(columns=\"Fare\",\n",
    "                inplace=True)"
   ],
   "metadata": {
    "collapsed": false,
    "pycharm": {
     "name": "#%%\n"
    }
   }
  },
  {
   "cell_type": "code",
   "execution_count": 30,
   "outputs": [
    {
     "data": {
      "text/plain": "<matplotlib.legend.Legend at 0x1dec4808cd0>"
     },
     "execution_count": 30,
     "metadata": {},
     "output_type": "execute_result"
    },
    {
     "data": {
      "text/plain": "<Figure size 432x288 with 1 Axes>",
      "image/png": "[encoded data removed]"
     },
     "metadata": {
      "needs_background": "light"
     },
     "output_type": "display_data"
    }
   ],
   "source": [
    "# plot the \"log(Fare)\" histogram.\n",
    "plt.hist(train_data[\"log(Fare)\"],\n",
    "         bins=15,\n",
    "         edgecolor=\"black\",\n",
    "         label=\"log(Fare) Bin Frequency\")\n",
    "plt.title(\"Training Data log(Fare) Histogram\")\n",
    "plt.xlabel(\"log(Fare) Bins\")\n",
    "plt.ylabel(\"Frequency\")\n",
    "plt.legend(loc=\"upper right\")"
   ],
   "metadata": {
    "collapsed": false,
    "pycharm": {
     "name": "#%%\n"
    }
   }
  },
  {
   "cell_type": "markdown",
   "source": [
    "After taking the logarithm of the \"Fare\" series data, it looks\n",
    "much more normally distributed.\n",
    "\n",
    "At this point, we need to perform the same transformations on the\n",
    "test data. First, let's see where the NaN values are in the\n",
    "test data set."
   ],
   "metadata": {
    "collapsed": false,
    "pycharm": {
     "name": "#%% md\n"
    }
   }
  },
  {
   "cell_type": "code",
   "execution_count": 31,
   "outputs": [
    {
     "name": "stdout",
     "output_type": "stream",
     "text": [
      "Test Data Nulls:\n",
      "PassengerId      0\n",
      "Pclass           0\n",
      "Name             0\n",
      "Sex              0\n",
      "Age             86\n",
      "SibSp            0\n",
      "Parch            0\n",
      "Ticket           0\n",
      "Fare             1\n",
      "Cabin          327\n",
      "Embarked         0\n",
      "dtype: int64\n"
     ]
    }
   ],
   "source": [
    "print(f\"Test Data Nulls:\\n{test_data.isnull().sum()}\")"
   ],
   "metadata": {
    "collapsed": false,
    "pycharm": {
     "name": "#%%\n"
    }
   }
  },
  {
   "cell_type": "markdown",
   "source": [
    "It looks like there is one NaN entry in the \"Fare\" series. Because\n",
    "there's only one, we should have enough data left if we drop said\n",
    "record, so this is what we'll do."
   ],
   "metadata": {
    "collapsed": false,
    "pycharm": {
     "name": "#%% md\n"
    }
   }
  },
  {
   "cell_type": "code",
   "execution_count": 32,
   "outputs": [
    {
     "name": "stdout",
     "output_type": "stream",
     "text": [
      "Initial Test Data Length: 418\n",
      "New Test Data Length: 417\n"
     ]
    }
   ],
   "source": [
    "print(f\"Initial Test Data Length: {len(test_data)}\")\n",
    "test_data.dropna(subset=[\"Fare\"],\n",
    "                 inplace=True)\n",
    "print(f\"New Test Data Length: {len(test_data)}\")"
   ],
   "metadata": {
    "collapsed": false,
    "pycharm": {
     "name": "#%%\n"
    }
   }
  },
  {
   "cell_type": "markdown",
   "source": [
    "Next, we should deal with the 86 NaN values in the \"Age\" series:\n",
    "let us once again use mean imputation."
   ],
   "metadata": {
    "collapsed": false,
    "pycharm": {
     "name": "#%% md\n"
    }
   }
  },
  {
   "cell_type": "code",
   "source": [
    "test_data[\"Age\"].fillna(value=test_data[\"Age\"].mean(), inplace=True)\n",
    "print(f\"Test Data Nulls:\\n{test_data.isnull().sum()}\")"
   ],
   "metadata": {
    "collapsed": false,
    "pycharm": {
     "name": "#%%\n"
    }
   },
   "execution_count": 33,
   "outputs": [
    {
     "name": "stdout",
     "output_type": "stream",
     "text": [
      "Test Data Nulls:\n",
      "PassengerId      0\n",
      "Pclass           0\n",
      "Name             0\n",
      "Sex              0\n",
      "Age              0\n",
      "SibSp            0\n",
      "Parch            0\n",
      "Ticket           0\n",
      "Fare             0\n",
      "Cabin          326\n",
      "Embarked         0\n",
      "dtype: int64\n"
     ]
    }
   ]
  },
  {
   "cell_type": "markdown",
   "source": [
    "Now we must deal with the records with NaN values in the \"Cabin\" series.\n",
    "We can do this by engineering the same features we did in the training\n",
    "data and replacing this field with something more meaningful.\n",
    "\n",
    "First, let's determine how many passengers in the test data owned\n",
    "cabins on two or more different decks."
   ],
   "metadata": {
    "collapsed": false,
    "pycharm": {
     "name": "#%% md\n"
    }
   }
  },
  {
   "cell_type": "code",
   "execution_count": 34,
   "outputs": [],
   "source": [
    "# use the same first lambda function from our work with the\n",
    "# training data to split each cabin entry into a list of strings.\n",
    "temp = test_data[\"Cabin\"].apply(lambda entry: [] if pd.isnull(entry)\n",
    "                                 else entry.split(\" \"))"
   ],
   "metadata": {
    "collapsed": false,
    "pycharm": {
     "name": "#%%\n"
    }
   }
  },
  {
   "cell_type": "code",
   "execution_count": 35,
   "outputs": [
    {
     "data": {
      "text/plain": "0               []\n1               []\n2               []\n3               []\n4               []\n5               []\n6               []\n7               []\n8               []\n9               []\n10              []\n11              []\n12             [B]\n13              []\n14             [E]\n15              []\n16              []\n17              []\n18              []\n19              []\n20              []\n21              []\n22              []\n23              []\n24    [B, B, B, B]\n25              []\n26             [B]\n27              []\n28             [A]\n29              []\n30              []\n31              []\n32              []\n33              []\n34             [C]\n35              []\n36              []\n37              []\n38              []\n39              []\n40              []\n41             [D]\n42              []\n43              []\n44             [D]\n45              []\n46             [A]\n47              []\n48             [D]\n49              []\nName: Cabin, dtype: object"
     },
     "execution_count": 35,
     "metadata": {},
     "output_type": "execute_result"
    }
   ],
   "source": [
    "# use the same second lambda function (and our get_letters()\n",
    "# function) from our work wit the training data to make each\n",
    "# cabin list entry a list of only the deck numbers of each cabin.\n",
    "temp = temp.apply(lambda cabin_list : [] if (cabin_list == [])\n",
    "                  else get_letters(cabin_list))\n",
    "temp.head(50)"
   ],
   "metadata": {
    "collapsed": false,
    "pycharm": {
     "name": "#%%\n"
    }
   }
  },
  {
   "cell_type": "code",
   "execution_count": 36,
   "outputs": [],
   "source": [
    "# apply the same third lambda function as we used in our work\n",
    "# on the training data to determine how many unique decks\n",
    "# each passenger owned a cabin on.\n",
    "temp_counts = temp.apply(lambda cabin_list : 0 if (cabin_list == [])\n",
    "                                        else len(np.unique(cabin_list)))"
   ],
   "metadata": {
    "collapsed": false,
    "pycharm": {
     "name": "#%%\n"
    }
   }
  },
  {
   "cell_type": "code",
   "execution_count": 37,
   "outputs": [
    {
     "name": "stdout",
     "output_type": "stream",
     "text": [
      "Different Cabin Deck Counts by Passenger:\n",
      "0    326\n",
      "1     88\n",
      "2      3\n",
      "Name: Cabin, dtype: int64\n"
     ]
    }
   ],
   "source": [
    "# determine how how many passengers owned cabins on more than one deck.\n",
    "print(f\"Different Cabin Deck Counts by Passenger:\\n{temp_counts.value_counts()}\")"
   ],
   "metadata": {
    "collapsed": false,
    "pycharm": {
     "name": "#%%\n"
    }
   }
  },
  {
   "cell_type": "markdown",
   "source": [
    "Based on these most recent steps, it looks like there are three\n",
    "passengers who owned cabins on two different decks of the ship:\n",
    "none owned cabins on three or more decks. Let us once again\n",
    "deal with such entries by removing them from the data."
   ],
   "metadata": {
    "collapsed": false,
    "pycharm": {
     "name": "#%% md\n"
    }
   }
  },
  {
   "cell_type": "code",
   "execution_count": 38,
   "outputs": [],
   "source": [
    "# add deck count field to test data.\n",
    "test_data[\"Dcounts\"] = temp_counts"
   ],
   "metadata": {
    "collapsed": false,
    "pycharm": {
     "name": "#%%\n"
    }
   }
  },
  {
   "cell_type": "code",
   "execution_count": 39,
   "outputs": [
    {
     "name": "stdout",
     "output_type": "stream",
     "text": [
      "Initial Test Data Length: 417\n"
     ]
    }
   ],
   "source": [
    "# print initial length of data set before removing multi-deck passengers,\n",
    "# then remove records with cabins on multiple decks.\n",
    "print(f\"Initial Test Data Length: {len(test_data)}\")\n",
    "test_data = test_data[test_data.Dcounts != 2]"
   ],
   "metadata": {
    "collapsed": false,
    "pycharm": {
     "name": "#%%\n"
    }
   }
  },
  {
   "cell_type": "code",
   "execution_count": 40,
   "outputs": [
    {
     "name": "stdout",
     "output_type": "stream",
     "text": [
      "New Test Data Length: 414\n"
     ]
    },
    {
     "data": {
      "text/plain": "   PassengerId  Pclass                                          Name     Sex  \\\n0          892       3                              Kelly, Mr. James    male   \n1          893       3              Wilkes, Mrs. James (Ellen Needs)  female   \n2          894       2                     Myles, Mr. Thomas Francis    male   \n3          895       3                              Wirz, Mr. Albert    male   \n4          896       3  Hirvonen, Mrs. Alexander (Helga E Lindqvist)  female   \n5          897       3                    Svensson, Mr. Johan Cervin    male   \n6          898       3                          Connolly, Miss. Kate  female   \n7          899       2                  Caldwell, Mr. Albert Francis    male   \n8          900       3     Abrahim, Mrs. Joseph (Sophie Halaut Easu)  female   \n9          901       3                       Davies, Mr. John Samuel    male   \n\n    Age  SibSp  Parch     Ticket     Fare Cabin Embarked  \n0  34.5      0      0     330911   7.8292   NaN        Q  \n1  47.0      1      0     363272   7.0000   NaN        S  \n2  62.0      0      0     240276   9.6875   NaN        Q  \n3  27.0      0      0     315154   8.6625   NaN        S  \n4  22.0      1      1    3101298  12.2875   NaN        S  \n5  14.0      0      0       7538   9.2250   NaN        S  \n6  30.0      0      0     330972   7.6292   NaN        Q  \n7  26.0      1      1     248738  29.0000   NaN        S  \n8  18.0      0      0       2657   7.2292   NaN        C  \n9  21.0      2      0  A/4 48871  24.1500   NaN        S  ",
      "text/html": "<div>\n<style scoped>\n    .dataframe tbody tr th:only-of-type {\n        vertical-align: middle;\n    }\n\n    .dataframe tbody tr th {\n        vertical-align: top;\n    }\n\n    .dataframe thead th {\n        text-align: right;\n    }\n</style>\n<table border=\"1\" class=\"dataframe\">\n  <thead>\n    <tr style=\"text-align: right;\">\n      <th></th>\n      <th>PassengerId</th>\n      <th>Pclass</th>\n      <th>Name</th>\n      <th>Sex</th>\n      <th>Age</th>\n      <th>SibSp</th>\n      <th>Parch</th>\n      <th>Ticket</th>\n      <th>Fare</th>\n      <th>Cabin</th>\n      <th>Embarked</th>\n    </tr>\n  </thead>\n  <tbody>\n    <tr>\n      <th>0</th>\n      <td>892</td>\n      <td>3</td>\n      <td>Kelly, Mr. James</td>\n      <td>male</td>\n      <td>34.5</td>\n      <td>0</td>\n      <td>0</td>\n      <td>330911</td>\n      <td>7.8292</td>\n      <td>NaN</td>\n      <td>Q</td>\n    </tr>\n    <tr>\n      <th>1</th>\n      <td>893</td>\n      <td>3</td>\n      <td>Wilkes, Mrs. James (Ellen Needs)</td>\n      <td>female</td>\n      <td>47.0</td>\n      <td>1</td>\n      <td>0</td>\n      <td>363272</td>\n      <td>7.0000</td>\n      <td>NaN</td>\n      <td>S</td>\n    </tr>\n    <tr>\n      <th>2</th>\n      <td>894</td>\n      <td>2</td>\n      <td>Myles, Mr. Thomas Francis</td>\n      <td>male</td>\n      <td>62.0</td>\n      <td>0</td>\n      <td>0</td>\n      <td>240276</td>\n      <td>9.6875</td>\n      <td>NaN</td>\n      <td>Q</td>\n    </tr>\n    <tr>\n      <th>3</th>\n      <td>895</td>\n      <td>3</td>\n      <td>Wirz, Mr. Albert</td>\n      <td>male</td>\n      <td>27.0</td>\n      <td>0</td>\n      <td>0</td>\n      <td>315154</td>\n      <td>8.6625</td>\n      <td>NaN</td>\n      <td>S</td>\n    </tr>\n    <tr>\n      <th>4</th>\n      <td>896</td>\n      <td>3</td>\n      <td>Hirvonen, Mrs. Alexander (Helga E Lindqvist)</td>\n      <td>female</td>\n      <td>22.0</td>\n      <td>1</td>\n      <td>1</td>\n      <td>3101298</td>\n      <td>12.2875</td>\n      <td>NaN</td>\n      <td>S</td>\n    </tr>\n    <tr>\n      <th>5</th>\n      <td>897</td>\n      <td>3</td>\n      <td>Svensson, Mr. Johan Cervin</td>\n      <td>male</td>\n      <td>14.0</td>\n      <td>0</td>\n      <td>0</td>\n      <td>7538</td>\n      <td>9.2250</td>\n      <td>NaN</td>\n      <td>S</td>\n    </tr>\n    <tr>\n      <th>6</th>\n      <td>898</td>\n      <td>3</td>\n      <td>Connolly, Miss. Kate</td>\n      <td>female</td>\n      <td>30.0</td>\n      <td>0</td>\n      <td>0</td>\n      <td>330972</td>\n      <td>7.6292</td>\n      <td>NaN</td>\n      <td>Q</td>\n    </tr>\n    <tr>\n      <th>7</th>\n      <td>899</td>\n      <td>2</td>\n      <td>Caldwell, Mr. Albert Francis</td>\n      <td>male</td>\n      <td>26.0</td>\n      <td>1</td>\n      <td>1</td>\n      <td>248738</td>\n      <td>29.0000</td>\n      <td>NaN</td>\n      <td>S</td>\n    </tr>\n    <tr>\n      <th>8</th>\n      <td>900</td>\n      <td>3</td>\n      <td>Abrahim, Mrs. Joseph (Sophie Halaut Easu)</td>\n      <td>female</td>\n      <td>18.0</td>\n      <td>0</td>\n      <td>0</td>\n      <td>2657</td>\n      <td>7.2292</td>\n      <td>NaN</td>\n      <td>C</td>\n    </tr>\n    <tr>\n      <th>9</th>\n      <td>901</td>\n      <td>3</td>\n      <td>Davies, Mr. John Samuel</td>\n      <td>male</td>\n      <td>21.0</td>\n      <td>2</td>\n      <td>0</td>\n      <td>A/4 48871</td>\n      <td>24.1500</td>\n      <td>NaN</td>\n      <td>S</td>\n    </tr>\n  </tbody>\n</table>\n</div>"
     },
     "execution_count": 40,
     "metadata": {},
     "output_type": "execute_result"
    }
   ],
   "source": [
    "# print the length of the edited data set,\n",
    "# drop the \"Dcounts\" field from the data,\n",
    "# and use the head(10) function to print the top 10 data records.\n",
    "print(f\"New Test Data Length: {len(test_data)}\")\n",
    "test_data.drop(columns=\"Dcounts\", inplace=True)\n",
    "test_data.head(10)"
   ],
   "metadata": {
    "collapsed": false,
    "pycharm": {
     "name": "#%%\n"
    }
   }
  },
  {
   "cell_type": "markdown",
   "source": [
    "Next, we should add the \"Dletters\" feature that we previously\n",
    "engineered for the training data to the test data as well."
   ],
   "metadata": {
    "collapsed": false,
    "pycharm": {
     "name": "#%% md\n"
    }
   }
  },
  {
   "cell_type": "code",
   "execution_count": 41,
   "outputs": [
    {
     "data": {
      "text/plain": "0     NaN\n1     NaN\n2     NaN\n3     NaN\n4     NaN\n5     NaN\n6     NaN\n7     NaN\n8     NaN\n9     NaN\n10    NaN\n11    NaN\n12      B\n13    NaN\n14      E\n15    NaN\n16    NaN\n17    NaN\n18    NaN\n19    NaN\n20    NaN\n21    NaN\n22    NaN\n23    NaN\n24      B\nName: Cabin, dtype: object"
     },
     "execution_count": 41,
     "metadata": {},
     "output_type": "execute_result"
    }
   ],
   "source": [
    "temp = temp.apply(lambda cabin_list : \"NaN\" if (cabin_list == [])\n",
    "                  else str(cabin_list[0]))\n",
    "temp.head(25)"
   ],
   "metadata": {
    "collapsed": false,
    "pycharm": {
     "name": "#%%\n"
    }
   }
  },
  {
   "cell_type": "markdown",
   "source": [
    "Now, let's add this feature as a new field to the test data."
   ],
   "metadata": {
    "collapsed": false,
    "pycharm": {
     "name": "#%% md\n"
    }
   }
  },
  {
   "cell_type": "code",
   "execution_count": 42,
   "outputs": [
    {
     "data": {
      "text/plain": "    PassengerId  Pclass                                               Name  \\\n0           892       3                                   Kelly, Mr. James   \n1           893       3                   Wilkes, Mrs. James (Ellen Needs)   \n2           894       2                          Myles, Mr. Thomas Francis   \n3           895       3                                   Wirz, Mr. Albert   \n4           896       3       Hirvonen, Mrs. Alexander (Helga E Lindqvist)   \n5           897       3                         Svensson, Mr. Johan Cervin   \n6           898       3                               Connolly, Miss. Kate   \n7           899       2                       Caldwell, Mr. Albert Francis   \n8           900       3          Abrahim, Mrs. Joseph (Sophie Halaut Easu)   \n9           901       3                            Davies, Mr. John Samuel   \n10          902       3                                   Ilieff, Mr. Ylio   \n11          903       1                         Jones, Mr. Charles Cresson   \n12          904       1      Snyder, Mrs. John Pillsbury (Nelle Stevenson)   \n13          905       2                               Howard, Mr. Benjamin   \n14          906       1  Chaffee, Mrs. Herbert Fuller (Carrie Constance...   \n15          907       2      del Carlo, Mrs. Sebastiano (Argenia Genovesi)   \n16          908       2                                  Keane, Mr. Daniel   \n17          909       3                                  Assaf, Mr. Gerios   \n18          910       3                       Ilmakangas, Miss. Ida Livija   \n19          911       3              Assaf Khalil, Mrs. Mariana (Miriam\")\"   \n\n       Sex        Age  SibSp  Parch            Ticket     Fare Cabin Embarked  \\\n0     male  34.500000      0      0            330911   7.8292   NaN        Q   \n1   female  47.000000      1      0            363272   7.0000   NaN        S   \n2     male  62.000000      0      0            240276   9.6875   NaN        Q   \n3     male  27.000000      0      0            315154   8.6625   NaN        S   \n4   female  22.000000      1      1           3101298  12.2875   NaN        S   \n5     male  14.000000      0      0              7538   9.2250   NaN        S   \n6   female  30.000000      0      0            330972   7.6292   NaN        Q   \n7     male  26.000000      1      1            248738  29.0000   NaN        S   \n8   female  18.000000      0      0              2657   7.2292   NaN        C   \n9     male  21.000000      2      0         A/4 48871  24.1500   NaN        S   \n10    male  30.181269      0      0            349220   7.8958   NaN        S   \n11    male  46.000000      0      0               694  26.0000   NaN        S   \n12  female  23.000000      1      0             21228  82.2667   B45        S   \n13    male  63.000000      1      0             24065  26.0000   NaN        S   \n14  female  47.000000      1      0       W.E.P. 5734  61.1750   E31        S   \n15  female  24.000000      1      0     SC/PARIS 2167  27.7208   NaN        C   \n16    male  35.000000      0      0            233734  12.3500   NaN        Q   \n17    male  21.000000      0      0              2692   7.2250   NaN        C   \n18  female  27.000000      1      0  STON/O2. 3101270   7.9250   NaN        S   \n19  female  45.000000      0      0              2696   7.2250   NaN        C   \n\n   Dletter  \n0      NaN  \n1      NaN  \n2      NaN  \n3      NaN  \n4      NaN  \n5      NaN  \n6      NaN  \n7      NaN  \n8      NaN  \n9      NaN  \n10     NaN  \n11     NaN  \n12       B  \n13     NaN  \n14       E  \n15     NaN  \n16     NaN  \n17     NaN  \n18     NaN  \n19     NaN  ",
      "text/html": "<div>\n<style scoped>\n    .dataframe tbody tr th:only-of-type {\n        vertical-align: middle;\n    }\n\n    .dataframe tbody tr th {\n        vertical-align: top;\n    }\n\n    .dataframe thead th {\n        text-align: right;\n    }\n</style>\n<table border=\"1\" class=\"dataframe\">\n  <thead>\n    <tr style=\"text-align: right;\">\n      <th></th>\n      <th>PassengerId</th>\n      <th>Pclass</th>\n      <th>Name</th>\n      <th>Sex</th>\n      <th>Age</th>\n      <th>SibSp</th>\n      <th>Parch</th>\n      <th>Ticket</th>\n      <th>Fare</th>\n      <th>Cabin</th>\n      <th>Embarked</th>\n      <th>Dletter</th>\n    </tr>\n  </thead>\n  <tbody>\n    <tr>\n      <th>0</th>\n      <td>892</td>\n      <td>3</td>\n      <td>Kelly, Mr. James</td>\n      <td>male</td>\n      <td>34.500000</td>\n      <td>0</td>\n      <td>0</td>\n      <td>330911</td>\n      <td>7.8292</td>\n      <td>NaN</td>\n      <td>Q</td>\n      <td>NaN</td>\n    </tr>\n    <tr>\n      <th>1</th>\n      <td>893</td>\n      <td>3</td>\n      <td>Wilkes, Mrs. James (Ellen Needs)</td>\n      <td>female</td>\n      <td>47.000000</td>\n      <td>1</td>\n      <td>0</td>\n      <td>363272</td>\n      <td>7.0000</td>\n      <td>NaN</td>\n      <td>S</td>\n      <td>NaN</td>\n    </tr>\n    <tr>\n      <th>2</th>\n      <td>894</td>\n      <td>2</td>\n      <td>Myles, Mr. Thomas Francis</td>\n      <td>male</td>\n      <td>62.000000</td>\n      <td>0</td>\n      <td>0</td>\n      <td>240276</td>\n      <td>9.6875</td>\n      <td>NaN</td>\n      <td>Q</td>\n      <td>NaN</td>\n    </tr>\n    <tr>\n      <th>3</th>\n      <td>895</td>\n      <td>3</td>\n      <td>Wirz, Mr. Albert</td>\n      <td>male</td>\n      <td>27.000000</td>\n      <td>0</td>\n      <td>0</td>\n      <td>315154</td>\n      <td>8.6625</td>\n      <td>NaN</td>\n      <td>S</td>\n      <td>NaN</td>\n    </tr>\n    <tr>\n      <th>4</th>\n      <td>896</td>\n      <td>3</td>\n      <td>Hirvonen, Mrs. Alexander (Helga E Lindqvist)</td>\n      <td>female</td>\n      <td>22.000000</td>\n      <td>1</td>\n      <td>1</td>\n      <td>3101298</td>\n      <td>12.2875</td>\n      <td>NaN</td>\n      <td>S</td>\n      <td>NaN</td>\n    </tr>\n    <tr>\n      <th>5</th>\n      <td>897</td>\n      <td>3</td>\n      <td>Svensson, Mr. Johan Cervin</td>\n      <td>male</td>\n      <td>14.000000</td>\n      <td>0</td>\n      <td>0</td>\n      <td>7538</td>\n      <td>9.2250</td>\n      <td>NaN</td>\n      <td>S</td>\n      <td>NaN</td>\n    </tr>\n    <tr>\n      <th>6</th>\n      <td>898</td>\n      <td>3</td>\n      <td>Connolly, Miss. Kate</td>\n      <td>female</td>\n      <td>30.000000</td>\n      <td>0</td>\n      <td>0</td>\n      <td>330972</td>\n      <td>7.6292</td>\n      <td>NaN</td>\n      <td>Q</td>\n      <td>NaN</td>\n    </tr>\n    <tr>\n      <th>7</th>\n      <td>899</td>\n      <td>2</td>\n      <td>Caldwell, Mr. Albert Francis</td>\n      <td>male</td>\n      <td>26.000000</td>\n      <td>1</td>\n      <td>1</td>\n      <td>248738</td>\n      <td>29.0000</td>\n      <td>NaN</td>\n      <td>S</td>\n      <td>NaN</td>\n    </tr>\n    <tr>\n      <th>8</th>\n      <td>900</td>\n      <td>3</td>\n      <td>Abrahim, Mrs. Joseph (Sophie Halaut Easu)</td>\n      <td>female</td>\n      <td>18.000000</td>\n      <td>0</td>\n      <td>0</td>\n      <td>2657</td>\n      <td>7.2292</td>\n      <td>NaN</td>\n      <td>C</td>\n      <td>NaN</td>\n    </tr>\n    <tr>\n      <th>9</th>\n      <td>901</td>\n      <td>3</td>\n      <td>Davies, Mr. John Samuel</td>\n      <td>male</td>\n      <td>21.000000</td>\n      <td>2</td>\n      <td>0</td>\n      <td>A/4 48871</td>\n      <td>24.1500</td>\n      <td>NaN</td>\n      <td>S</td>\n      <td>NaN</td>\n    </tr>\n    <tr>\n      <th>10</th>\n      <td>902</td>\n      <td>3</td>\n      <td>Ilieff, Mr. Ylio</td>\n      <td>male</td>\n      <td>30.181269</td>\n      <td>0</td>\n      <td>0</td>\n      <td>349220</td>\n      <td>7.8958</td>\n      <td>NaN</td>\n      <td>S</td>\n      <td>NaN</td>\n    </tr>\n    <tr>\n      <th>11</th>\n      <td>903</td>\n      <td>1</td>\n      <td>Jones, Mr. Charles Cresson</td>\n      <td>male</td>\n      <td>46.000000</td>\n      <td>0</td>\n      <td>0</td>\n      <td>694</td>\n      <td>26.0000</td>\n      <td>NaN</td>\n      <td>S</td>\n      <td>NaN</td>\n    </tr>\n    <tr>\n      <th>12</th>\n      <td>904</td>\n      <td>1</td>\n      <td>Snyder, Mrs. John Pillsbury (Nelle Stevenson)</td>\n      <td>female</td>\n      <td>23.000000</td>\n      <td>1</td>\n      <td>0</td>\n      <td>21228</td>\n      <td>82.2667</td>\n      <td>B45</td>\n      <td>S</td>\n      <td>B</td>\n    </tr>\n    <tr>\n      <th>13</th>\n      <td>905</td>\n      <td>2</td>\n      <td>Howard, Mr. Benjamin</td>\n      <td>male</td>\n      <td>63.000000</td>\n      <td>1</td>\n      <td>0</td>\n      <td>24065</td>\n      <td>26.0000</td>\n      <td>NaN</td>\n      <td>S</td>\n      <td>NaN</td>\n    </tr>\n    <tr>\n      <th>14</th>\n      <td>906</td>\n      <td>1</td>\n      <td>Chaffee, Mrs. Herbert Fuller (Carrie Constance...</td>\n      <td>female</td>\n      <td>47.000000</td>\n      <td>1</td>\n      <td>0</td>\n      <td>W.E.P. 5734</td>\n      <td>61.1750</td>\n      <td>E31</td>\n      <td>S</td>\n      <td>E</td>\n    </tr>\n    <tr>\n      <th>15</th>\n      <td>907</td>\n      <td>2</td>\n      <td>del Carlo, Mrs. Sebastiano (Argenia Genovesi)</td>\n      <td>female</td>\n      <td>24.000000</td>\n      <td>1</td>\n      <td>0</td>\n      <td>SC/PARIS 2167</td>\n      <td>27.7208</td>\n      <td>NaN</td>\n      <td>C</td>\n      <td>NaN</td>\n    </tr>\n    <tr>\n      <th>16</th>\n      <td>908</td>\n      <td>2</td>\n      <td>Keane, Mr. Daniel</td>\n      <td>male</td>\n      <td>35.000000</td>\n      <td>0</td>\n      <td>0</td>\n      <td>233734</td>\n      <td>12.3500</td>\n      <td>NaN</td>\n      <td>Q</td>\n      <td>NaN</td>\n    </tr>\n    <tr>\n      <th>17</th>\n      <td>909</td>\n      <td>3</td>\n      <td>Assaf, Mr. Gerios</td>\n      <td>male</td>\n      <td>21.000000</td>\n      <td>0</td>\n      <td>0</td>\n      <td>2692</td>\n      <td>7.2250</td>\n      <td>NaN</td>\n      <td>C</td>\n      <td>NaN</td>\n    </tr>\n    <tr>\n      <th>18</th>\n      <td>910</td>\n      <td>3</td>\n      <td>Ilmakangas, Miss. Ida Livija</td>\n      <td>female</td>\n      <td>27.000000</td>\n      <td>1</td>\n      <td>0</td>\n      <td>STON/O2. 3101270</td>\n      <td>7.9250</td>\n      <td>NaN</td>\n      <td>S</td>\n      <td>NaN</td>\n    </tr>\n    <tr>\n      <th>19</th>\n      <td>911</td>\n      <td>3</td>\n      <td>Assaf Khalil, Mrs. Mariana (Miriam\")\"</td>\n      <td>female</td>\n      <td>45.000000</td>\n      <td>0</td>\n      <td>0</td>\n      <td>2696</td>\n      <td>7.2250</td>\n      <td>NaN</td>\n      <td>C</td>\n      <td>NaN</td>\n    </tr>\n  </tbody>\n</table>\n</div>"
     },
     "execution_count": 42,
     "metadata": {},
     "output_type": "execute_result"
    }
   ],
   "source": [
    "test_data[\"Dletter\"] = temp\n",
    "test_data.head(20)"
   ],
   "metadata": {
    "collapsed": false,
    "pycharm": {
     "name": "#%%\n"
    }
   }
  },
  {
   "cell_type": "markdown",
   "source": [
    "At this point, we should deal with any outliers in the \"Fare\"\n",
    "series of our test data as we did with the training data. First,\n",
    "let's count how many records have zero values in the \"Fare\" field,\n",
    "if any."
   ],
   "metadata": {
    "collapsed": false,
    "pycharm": {
     "name": "#%% md\n"
    }
   }
  },
  {
   "cell_type": "code",
   "execution_count": 43,
   "outputs": [
    {
     "name": "stdout",
     "output_type": "stream",
     "text": [
      "Test Data Zero Fare Record Count: 2\n"
     ]
    }
   ],
   "source": [
    "test_data_fare = test_data[\"Fare\"]\n",
    "print(f\"Test Data Zero Fare Record Count: {test_data_fare[test_data_fare == 0].count()}\")"
   ],
   "metadata": {
    "collapsed": false,
    "pycharm": {
     "name": "#%%\n"
    }
   }
  },
  {
   "cell_type": "markdown",
   "source": [
    "It looks like there are only two entries in the test data with\n",
    "zero entries in the \"Fare\" field. Previously, we dropped any\n",
    "entries with zero-cost fares; let us do the same here."
   ],
   "metadata": {
    "collapsed": false,
    "pycharm": {
     "name": "#%% md\n"
    }
   }
  },
  {
   "cell_type": "code",
   "execution_count": 44,
   "outputs": [
    {
     "name": "stdout",
     "output_type": "stream",
     "text": [
      "Initial Test Data Length: 414\n",
      "New Test Data Length: 412\n"
     ]
    }
   ],
   "source": [
    "print(f\"Initial Test Data Length: {len(test_data)}\")\n",
    "test_data = test_data[test_data[\"Fare\"] != 0]\n",
    "print(f\"New Test Data Length: {len(test_data)}\")"
   ],
   "metadata": {
    "collapsed": false,
    "pycharm": {
     "name": "#%%\n"
    }
   }
  },
  {
   "cell_type": "markdown",
   "source": [
    "Next, we should drop the \"Cabin\" and \"Ticket\" fields from the\n",
    "test data set, just as we did for the training data set."
   ],
   "metadata": {
    "collapsed": false,
    "pycharm": {
     "name": "#%% md\n"
    }
   }
  },
  {
   "cell_type": "code",
   "execution_count": 45,
   "outputs": [
    {
     "data": {
      "text/plain": "   PassengerId  Pclass                                          Name     Sex  \\\n0          892       3                              Kelly, Mr. James    male   \n1          893       3              Wilkes, Mrs. James (Ellen Needs)  female   \n2          894       2                     Myles, Mr. Thomas Francis    male   \n3          895       3                              Wirz, Mr. Albert    male   \n4          896       3  Hirvonen, Mrs. Alexander (Helga E Lindqvist)  female   \n5          897       3                    Svensson, Mr. Johan Cervin    male   \n6          898       3                          Connolly, Miss. Kate  female   \n7          899       2                  Caldwell, Mr. Albert Francis    male   \n8          900       3     Abrahim, Mrs. Joseph (Sophie Halaut Easu)  female   \n9          901       3                       Davies, Mr. John Samuel    male   \n\n    Age  SibSp  Parch     Fare Embarked Dletter  \n0  34.5      0      0   7.8292        Q     NaN  \n1  47.0      1      0   7.0000        S     NaN  \n2  62.0      0      0   9.6875        Q     NaN  \n3  27.0      0      0   8.6625        S     NaN  \n4  22.0      1      1  12.2875        S     NaN  \n5  14.0      0      0   9.2250        S     NaN  \n6  30.0      0      0   7.6292        Q     NaN  \n7  26.0      1      1  29.0000        S     NaN  \n8  18.0      0      0   7.2292        C     NaN  \n9  21.0      2      0  24.1500        S     NaN  ",
      "text/html": "<div>\n<style scoped>\n    .dataframe tbody tr th:only-of-type {\n        vertical-align: middle;\n    }\n\n    .dataframe tbody tr th {\n        vertical-align: top;\n    }\n\n    .dataframe thead th {\n        text-align: right;\n    }\n</style>\n<table border=\"1\" class=\"dataframe\">\n  <thead>\n    <tr style=\"text-align: right;\">\n      <th></th>\n      <th>PassengerId</th>\n      <th>Pclass</th>\n      <th>Name</th>\n      <th>Sex</th>\n      <th>Age</th>\n      <th>SibSp</th>\n      <th>Parch</th>\n      <th>Fare</th>\n      <th>Embarked</th>\n      <th>Dletter</th>\n    </tr>\n  </thead>\n  <tbody>\n    <tr>\n      <th>0</th>\n      <td>892</td>\n      <td>3</td>\n      <td>Kelly, Mr. James</td>\n      <td>male</td>\n      <td>34.5</td>\n      <td>0</td>\n      <td>0</td>\n      <td>7.8292</td>\n      <td>Q</td>\n      <td>NaN</td>\n    </tr>\n    <tr>\n      <th>1</th>\n      <td>893</td>\n      <td>3</td>\n      <td>Wilkes, Mrs. James (Ellen Needs)</td>\n      <td>female</td>\n      <td>47.0</td>\n      <td>1</td>\n      <td>0</td>\n      <td>7.0000</td>\n      <td>S</td>\n      <td>NaN</td>\n    </tr>\n    <tr>\n      <th>2</th>\n      <td>894</td>\n      <td>2</td>\n      <td>Myles, Mr. Thomas Francis</td>\n      <td>male</td>\n      <td>62.0</td>\n      <td>0</td>\n      <td>0</td>\n      <td>9.6875</td>\n      <td>Q</td>\n      <td>NaN</td>\n    </tr>\n    <tr>\n      <th>3</th>\n      <td>895</td>\n      <td>3</td>\n      <td>Wirz, Mr. Albert</td>\n      <td>male</td>\n      <td>27.0</td>\n      <td>0</td>\n      <td>0</td>\n      <td>8.6625</td>\n      <td>S</td>\n      <td>NaN</td>\n    </tr>\n    <tr>\n      <th>4</th>\n      <td>896</td>\n      <td>3</td>\n      <td>Hirvonen, Mrs. Alexander (Helga E Lindqvist)</td>\n      <td>female</td>\n      <td>22.0</td>\n      <td>1</td>\n      <td>1</td>\n      <td>12.2875</td>\n      <td>S</td>\n      <td>NaN</td>\n    </tr>\n    <tr>\n      <th>5</th>\n      <td>897</td>\n      <td>3</td>\n      <td>Svensson, Mr. Johan Cervin</td>\n      <td>male</td>\n      <td>14.0</td>\n      <td>0</td>\n      <td>0</td>\n      <td>9.2250</td>\n      <td>S</td>\n      <td>NaN</td>\n    </tr>\n    <tr>\n      <th>6</th>\n      <td>898</td>\n      <td>3</td>\n      <td>Connolly, Miss. Kate</td>\n      <td>female</td>\n      <td>30.0</td>\n      <td>0</td>\n      <td>0</td>\n      <td>7.6292</td>\n      <td>Q</td>\n      <td>NaN</td>\n    </tr>\n    <tr>\n      <th>7</th>\n      <td>899</td>\n      <td>2</td>\n      <td>Caldwell, Mr. Albert Francis</td>\n      <td>male</td>\n      <td>26.0</td>\n      <td>1</td>\n      <td>1</td>\n      <td>29.0000</td>\n      <td>S</td>\n      <td>NaN</td>\n    </tr>\n    <tr>\n      <th>8</th>\n      <td>900</td>\n      <td>3</td>\n      <td>Abrahim, Mrs. Joseph (Sophie Halaut Easu)</td>\n      <td>female</td>\n      <td>18.0</td>\n      <td>0</td>\n      <td>0</td>\n      <td>7.2292</td>\n      <td>C</td>\n      <td>NaN</td>\n    </tr>\n    <tr>\n      <th>9</th>\n      <td>901</td>\n      <td>3</td>\n      <td>Davies, Mr. John Samuel</td>\n      <td>male</td>\n      <td>21.0</td>\n      <td>2</td>\n      <td>0</td>\n      <td>24.1500</td>\n      <td>S</td>\n      <td>NaN</td>\n    </tr>\n  </tbody>\n</table>\n</div>"
     },
     "execution_count": 45,
     "metadata": {},
     "output_type": "execute_result"
    }
   ],
   "source": [
    "test_data.drop(columns=[\"Cabin\", \"Ticket\"], inplace=True)\n",
    "test_data.head(10)"
   ],
   "metadata": {
    "collapsed": false,
    "pycharm": {
     "name": "#%%\n"
    }
   }
  },
  {
   "cell_type": "markdown",
   "source": [
    "Finally, we should normalize the \"Fare\" field in the test data\n",
    "by taking its logarithm, just as we did for the training data, and\n",
    "generate bar graphs for all the numeric fields in the data (except\n",
    "for the \"Tnum\" field)."
   ],
   "metadata": {
    "collapsed": false,
    "pycharm": {
     "name": "#%% md\n"
    }
   }
  },
  {
   "cell_type": "code",
   "execution_count": 46,
   "outputs": [],
   "source": [
    "# create a \"log(Fare)\" field in the test data\n",
    "# and drop the original \"Fare\" field.\n",
    "test_data[\"log(Fare)\"] = np.log(test_data[\"Fare\"])\n",
    "test_data.drop(columns=\"Fare\",\n",
    "               inplace=True)"
   ],
   "metadata": {
    "collapsed": false,
    "pycharm": {
     "name": "#%%\n"
    }
   }
  },
  {
   "cell_type": "code",
   "source": [
    "# plot the \"Age\" histogram.\n",
    "plt.hist(test_data[\"Age\"],\n",
    "         bins=15,\n",
    "         edgecolor=\"black\",\n",
    "         label=\"Age Bin Frequency\")\n",
    "plt.title(\"Test Data Age Histogram\")\n",
    "plt.xlabel(\"Age Bins\")\n",
    "plt.ylabel(\"Frequency\")\n",
    "plt.legend(loc=\"upper right\")"
   ],
   "metadata": {
    "collapsed": false,
    "pycharm": {
     "name": "#%%\n"
    }
   },
   "execution_count": 47,
   "outputs": [
    {
     "data": {
      "text/plain": "<matplotlib.legend.Legend at 0x1dec48e7a00>"
     },
     "execution_count": 47,
     "metadata": {},
     "output_type": "execute_result"
    },
    {
     "data": {
      "text/plain": "<Figure size 432x288 with 1 Axes>",
      "image/png": "[encoded data removed]"
     },
     "metadata": {
      "needs_background": "light"
     },
     "output_type": "display_data"
    }
   ]
  },
  {
   "cell_type": "code",
   "execution_count": 48,
   "outputs": [
    {
     "data": {
      "text/plain": "<matplotlib.legend.Legend at 0x1dec497b0d0>"
     },
     "execution_count": 48,
     "metadata": {},
     "output_type": "execute_result"
    },
    {
     "data": {
      "text/plain": "<Figure size 432x288 with 1 Axes>",
      "image/png": "[encoded data removed]"
     },
     "metadata": {
      "needs_background": "light"
     },
     "output_type": "display_data"
    }
   ],
   "source": [
    "# plot the \"log(Fare)\" histogram.\n",
    "plt.hist(test_data[\"log(Fare)\"],\n",
    "         bins=15,\n",
    "         edgecolor=\"black\",\n",
    "         label=\"log(Fare) Bin Frequency\")\n",
    "plt.title(\"Test Data log(Fare) Histogram\")\n",
    "plt.xlabel(\"log(Fare) Bins\")\n",
    "plt.ylabel(\"Frequency\")\n",
    "plt.legend(loc=\"upper right\")"
   ],
   "metadata": {
    "collapsed": false,
    "pycharm": {
     "name": "#%%\n"
    }
   }
  },
  {
   "cell_type": "markdown",
   "source": [
    "At this point, after reviewing the data sets once more, it has\n",
    "occurred to us that we should remove any redundant fields from\n",
    "the data as well. Specifically, we should remove the \"Name\" field\n",
    "from both data sets as it is just a textual version of the\n",
    "\"PassengerId\" field. We can simply represent an individual\n",
    "passenger by their ID."
   ],
   "metadata": {
    "collapsed": false,
    "pycharm": {
     "name": "#%% md\n"
    }
   }
  },
  {
   "cell_type": "code",
   "execution_count": 49,
   "outputs": [],
   "source": [
    "# drop the \"Name\" field from both data sets.\n",
    "train_data.drop(columns=\"Name\", inplace=True)\n",
    "test_data.drop(columns=\"Name\", inplace=True)"
   ],
   "metadata": {
    "collapsed": false,
    "pycharm": {
     "name": "#%%\n"
    }
   }
  },
  {
   "cell_type": "code",
   "execution_count": 50,
   "outputs": [
    {
     "data": {
      "text/plain": "   PassengerId  Survived  Pclass     Sex   Age  SibSp  Parch Embarked Dletter  \\\n0            1         0       3    male  22.0      1      0        S     NaN   \n1            2         1       1  female  38.0      1      0        C       C   \n2            3         1       3  female  26.0      0      0        S     NaN   \n3            4         1       1  female  35.0      1      0        S       C   \n4            5         0       3    male  35.0      0      0        S     NaN   \n\n   log(Fare)  \n0   1.981001  \n1   4.266662  \n2   2.070022  \n3   3.972177  \n4   2.085672  ",
      "text/html": "<div>\n<style scoped>\n    .dataframe tbody tr th:only-of-type {\n        vertical-align: middle;\n    }\n\n    .dataframe tbody tr th {\n        vertical-align: top;\n    }\n\n    .dataframe thead th {\n        text-align: right;\n    }\n</style>\n<table border=\"1\" class=\"dataframe\">\n  <thead>\n    <tr style=\"text-align: right;\">\n      <th></th>\n      <th>PassengerId</th>\n      <th>Survived</th>\n      <th>Pclass</th>\n      <th>Sex</th>\n      <th>Age</th>\n      <th>SibSp</th>\n      <th>Parch</th>\n      <th>Embarked</th>\n      <th>Dletter</th>\n      <th>log(Fare)</th>\n    </tr>\n  </thead>\n  <tbody>\n    <tr>\n      <th>0</th>\n      <td>1</td>\n      <td>0</td>\n      <td>3</td>\n      <td>male</td>\n      <td>22.0</td>\n      <td>1</td>\n      <td>0</td>\n      <td>S</td>\n      <td>NaN</td>\n      <td>1.981001</td>\n    </tr>\n    <tr>\n      <th>1</th>\n      <td>2</td>\n      <td>1</td>\n      <td>1</td>\n      <td>female</td>\n      <td>38.0</td>\n      <td>1</td>\n      <td>0</td>\n      <td>C</td>\n      <td>C</td>\n      <td>4.266662</td>\n    </tr>\n    <tr>\n      <th>2</th>\n      <td>3</td>\n      <td>1</td>\n      <td>3</td>\n      <td>female</td>\n      <td>26.0</td>\n      <td>0</td>\n      <td>0</td>\n      <td>S</td>\n      <td>NaN</td>\n      <td>2.070022</td>\n    </tr>\n    <tr>\n      <th>3</th>\n      <td>4</td>\n      <td>1</td>\n      <td>1</td>\n      <td>female</td>\n      <td>35.0</td>\n      <td>1</td>\n      <td>0</td>\n      <td>S</td>\n      <td>C</td>\n      <td>3.972177</td>\n    </tr>\n    <tr>\n      <th>4</th>\n      <td>5</td>\n      <td>0</td>\n      <td>3</td>\n      <td>male</td>\n      <td>35.0</td>\n      <td>0</td>\n      <td>0</td>\n      <td>S</td>\n      <td>NaN</td>\n      <td>2.085672</td>\n    </tr>\n  </tbody>\n</table>\n</div>"
     },
     "execution_count": 50,
     "metadata": {},
     "output_type": "execute_result"
    }
   ],
   "source": [
    "# use the head() function to check the training data.\n",
    "train_data.head()\n"
   ],
   "metadata": {
    "collapsed": false,
    "pycharm": {
     "name": "#%%\n"
    }
   }
  },
  {
   "cell_type": "code",
   "execution_count": 51,
   "outputs": [
    {
     "data": {
      "text/plain": "   PassengerId  Pclass     Sex   Age  SibSp  Parch Embarked Dletter  log(Fare)\n0          892       3    male  34.5      0      0        Q     NaN   2.057860\n1          893       3  female  47.0      1      0        S     NaN   1.945910\n2          894       2    male  62.0      0      0        Q     NaN   2.270836\n3          895       3    male  27.0      0      0        S     NaN   2.159003\n4          896       3  female  22.0      1      1        S     NaN   2.508582",
      "text/html": "<div>\n<style scoped>\n    .dataframe tbody tr th:only-of-type {\n        vertical-align: middle;\n    }\n\n    .dataframe tbody tr th {\n        vertical-align: top;\n    }\n\n    .dataframe thead th {\n        text-align: right;\n    }\n</style>\n<table border=\"1\" class=\"dataframe\">\n  <thead>\n    <tr style=\"text-align: right;\">\n      <th></th>\n      <th>PassengerId</th>\n      <th>Pclass</th>\n      <th>Sex</th>\n      <th>Age</th>\n      <th>SibSp</th>\n      <th>Parch</th>\n      <th>Embarked</th>\n      <th>Dletter</th>\n      <th>log(Fare)</th>\n    </tr>\n  </thead>\n  <tbody>\n    <tr>\n      <th>0</th>\n      <td>892</td>\n      <td>3</td>\n      <td>male</td>\n      <td>34.5</td>\n      <td>0</td>\n      <td>0</td>\n      <td>Q</td>\n      <td>NaN</td>\n      <td>2.057860</td>\n    </tr>\n    <tr>\n      <th>1</th>\n      <td>893</td>\n      <td>3</td>\n      <td>female</td>\n      <td>47.0</td>\n      <td>1</td>\n      <td>0</td>\n      <td>S</td>\n      <td>NaN</td>\n      <td>1.945910</td>\n    </tr>\n    <tr>\n      <th>2</th>\n      <td>894</td>\n      <td>2</td>\n      <td>male</td>\n      <td>62.0</td>\n      <td>0</td>\n      <td>0</td>\n      <td>Q</td>\n      <td>NaN</td>\n      <td>2.270836</td>\n    </tr>\n    <tr>\n      <th>3</th>\n      <td>895</td>\n      <td>3</td>\n      <td>male</td>\n      <td>27.0</td>\n      <td>0</td>\n      <td>0</td>\n      <td>S</td>\n      <td>NaN</td>\n      <td>2.159003</td>\n    </tr>\n    <tr>\n      <th>4</th>\n      <td>896</td>\n      <td>3</td>\n      <td>female</td>\n      <td>22.0</td>\n      <td>1</td>\n      <td>1</td>\n      <td>S</td>\n      <td>NaN</td>\n      <td>2.508582</td>\n    </tr>\n  </tbody>\n</table>\n</div>"
     },
     "execution_count": 51,
     "metadata": {},
     "output_type": "execute_result"
    }
   ],
   "source": [
    "# use the head() function to check the test data.\n",
    "test_data.head()"
   ],
   "metadata": {
    "collapsed": false,
    "pycharm": {
     "name": "#%%\n"
    }
   }
  },
  {
   "cell_type": "markdown",
   "source": [
    "We should also convert the text-based categorical data fields\n",
    "into numeric data fields by assigning specific numbers to each\n",
    "possible text entry in the respective fields.\n",
    "\n",
    "Let's start with the \"Sex\" field."
   ],
   "metadata": {
    "collapsed": false,
    "pycharm": {
     "name": "#%% md\n"
    }
   }
  },
  {
   "cell_type": "code",
   "execution_count": 52,
   "outputs": [
    {
     "name": "stdout",
     "output_type": "stream",
     "text": [
      "Training Data Unique Sex Field Entries: 2\n",
      "Test Data Unique Sex Field Entries: 2\n"
     ]
    }
   ],
   "source": [
    "# Determine how many unique entries exist in the \"Sex\" field\n",
    "# for both data sets.\n",
    "print(f\"Training Data Unique Sex Field Entries: {len(train_data.groupby('Sex'))}\")\n",
    "print(f\"Test Data Unique Sex Field Entries: {len(test_data.groupby('Sex'))}\")"
   ],
   "metadata": {
    "collapsed": false,
    "pycharm": {
     "name": "#%%\n"
    }
   }
  },
  {
   "cell_type": "code",
   "execution_count": 53,
   "outputs": [],
   "source": [
    "# encode the \"Sex\" field in both data sets using a lambda function.\n",
    "# 0 = male.\n",
    "# 1 = female.\n",
    "train_data[\"Sex\"] = train_data[\"Sex\"].apply(lambda entry : 0 if (str(entry) == \"male\")\n",
    "                                            else 1)\n",
    "test_data[\"Sex\"] = test_data[\"Sex\"].apply(lambda entry : 0 if (str(entry) == \"male\")\n",
    "                                          else 1)"
   ],
   "metadata": {
    "collapsed": false,
    "pycharm": {
     "name": "#%%\n"
    }
   }
  },
  {
   "cell_type": "markdown",
   "source": [
    "Now, let us encode the \"Dletter\" data by how deep the deck is in the ship,\n",
    "relative to the top surface."
   ],
   "metadata": {
    "collapsed": false,
    "pycharm": {
     "name": "#%% md\n"
    }
   }
  },
  {
   "cell_type": "code",
   "execution_count": 54,
   "outputs": [
    {
     "name": "stdout",
     "output_type": "stream",
     "text": [
      "Training Data Unique Dletter Field Entries: 9\n",
      "Test Data Unique Dletter Field Entries: 8\n"
     ]
    }
   ],
   "source": [
    "# Determine how many unique entries exist in the \"Dletter\" field\n",
    "# for both data sets.\n",
    "print(f\"Training Data Unique Dletter Field Entries: {len(train_data.groupby('Dletter'))}\")\n",
    "print(f\"Test Data Unique Dletter Field Entries: {len(test_data.groupby('Dletter'))}\")"
   ],
   "metadata": {
    "collapsed": false,
    "pycharm": {
     "name": "#%%\n"
    }
   }
  },
  {
   "cell_type": "code",
   "execution_count": 55,
   "outputs": [
    {
     "data": {
      "text/plain": "Dletter\nA       14\nB       43\nC       59\nD       33\nE       32\nF        9\nG        4\nNaN    675\nT        1\nName: PassengerId, dtype: int64"
     },
     "execution_count": 55,
     "metadata": {},
     "output_type": "execute_result"
    }
   ],
   "source": [
    "# Determine which \"Dletter\" values exist in the training data.\n",
    "train_data.groupby(\"Dletter\")[\"PassengerId\"].count()"
   ],
   "metadata": {
    "collapsed": false,
    "pycharm": {
     "name": "#%%\n"
    }
   }
  },
  {
   "cell_type": "code",
   "execution_count": 56,
   "outputs": [
    {
     "data": {
      "text/plain": "Dletter\nA        7\nB       17\nC       35\nD       13\nE        9\nF        5\nG        1\nNaN    325\nName: PassengerId, dtype: int64"
     },
     "execution_count": 56,
     "metadata": {},
     "output_type": "execute_result"
    }
   ],
   "source": [
    "#Determine which \"Dletter\" values exist in the test data.\n",
    "test_data.groupby(\"Dletter\")[\"PassengerId\"].count()"
   ],
   "metadata": {
    "collapsed": false,
    "pycharm": {
     "name": "#%%\n"
    }
   }
  },
  {
   "cell_type": "markdown",
   "source": [
    "Upon reviewing the unique values contained in the \"Dletter\" fields\n",
    "for both data sets, it appears that the test data doesn't contain\n",
    "any passengers who owned cabins on the T deck, while the training\n",
    "data only contaisn one such passenger record.\n",
    "\n",
    "After a quick Internet search about the possible reasons for these\n",
    "observations, we rediscovered the previously mentioned webpage\n",
    "(URL https://www.encyclopedia-titanica.org/cabins.html ). Based on\n",
    "information in this webpage, it seems that there is evidence of\n",
    "only one passenger boarding in a cabin on the \"Boat Deck,\" denoted\n",
    "in the \"Dletter\" field as \"T\". Thus, to prevent this outlier from\n",
    "potentially damaging the performance of our future models, it should\n",
    "be removed from the training data."
   ],
   "metadata": {
    "collapsed": false,
    "pycharm": {
     "name": "#%% md\n"
    }
   }
  },
  {
   "cell_type": "code",
   "source": [
    "print(f\"Initial Training Data Length: {len(train_data)}\")\n",
    "train_data = train_data[train_data[\"Dletter\"] != \"T\"]\n",
    "print(f\"New Training Data Length: {len(train_data)}\")"
   ],
   "metadata": {
    "collapsed": false,
    "pycharm": {
     "name": "#%%\n"
    }
   },
   "execution_count": 57,
   "outputs": [
    {
     "name": "stdout",
     "output_type": "stream",
     "text": [
      "Initial Training Data Length: 870\n",
      "New Training Data Length: 869\n"
     ]
    }
   ]
  },
  {
   "cell_type": "markdown",
   "source": [
    "Now, we can proceed with the encoding of the \"Dletter\" field in\n",
    "each of the data sets."
   ],
   "metadata": {
    "collapsed": false,
    "pycharm": {
     "name": "#%% md\n"
    }
   }
  },
  {
   "cell_type": "code",
   "execution_count": 58,
   "outputs": [],
   "source": [
    "# define a function to encode the \"Dletter\" field entries.\n",
    "def encode_dletter(entry):\n",
    "    if str(entry) == \"A\":\n",
    "        return 0\n",
    "    elif str(entry) == \"B\":\n",
    "        return 1\n",
    "    elif str(entry) == \"C\":\n",
    "        return 2\n",
    "    elif str(entry) == \"D\":\n",
    "        return 3\n",
    "    elif str(entry) == \"E\":\n",
    "        return 4\n",
    "    elif str(entry) == \"F\":\n",
    "        return 5\n",
    "    elif str(entry) == \"G\":\n",
    "        return 6\n",
    "    else:\n",
    "        return 7"
   ],
   "metadata": {
    "collapsed": false,
    "pycharm": {
     "name": "#%%\n"
    }
   }
  },
  {
   "cell_type": "code",
   "execution_count": 59,
   "outputs": [],
   "source": [
    "# use the previously defined function to encode the \"Dletter\" fields\n",
    "# in both data sets.\n",
    "train_data[\"Dletter\"] = train_data[\"Dletter\"].apply(lambda entry : encode_dletter(entry))\n",
    "test_data[\"Dletter\"] = test_data[\"Dletter\"].apply(lambda entry : encode_dletter(entry))"
   ],
   "metadata": {
    "collapsed": false,
    "pycharm": {
     "name": "#%%\n"
    }
   }
  },
  {
   "cell_type": "markdown",
   "source": [
    "Finally, we should encode the \"Embarked\" data field. Although at first glance\n",
    "there doesn't seem to be a very meaningful method in which this field should be\n",
    "encoded, a brief Internet search helped us determine what we should do. According\n",
    "to an article from ThoughtCo (found at URL https://www.thoughtco.com/titanic-timeline-1779210 ),\n",
    "the Titanic first embarked from Southampton, England, then from Cherbourg, France,\n",
    "and finally from Queenstown, Ireland (known today as Cobh, Ireland, from Charles's\n",
    "own personal knowledge from a family trip to Ireland). Therefore,\n",
    "we can encode the \"Embarked\" data based on the order in which the Titanic\n",
    "visited each port before its sinking."
   ],
   "metadata": {
    "collapsed": false,
    "pycharm": {
     "name": "#%% md\n"
    }
   }
  },
  {
   "cell_type": "code",
   "execution_count": 60,
   "outputs": [],
   "source": [
    "# define a function to encode the \"Embarked\" data field entries.\n",
    "def encode_embarked(entry):\n",
    "    if str(entry) == \"S\":\n",
    "        return 0\n",
    "    elif str(entry) == \"C\":\n",
    "        return 1\n",
    "    else:\n",
    "        return 2"
   ],
   "metadata": {
    "collapsed": false,
    "pycharm": {
     "name": "#%%\n"
    }
   }
  },
  {
   "cell_type": "code",
   "execution_count": 61,
   "outputs": [],
   "source": [
    "# Use a lambda function to apply our previously defined function.\n",
    "train_data[\"Embarked\"] = train_data[\"Embarked\"].apply(lambda entry : encode_embarked(entry))\n",
    "test_data[\"Embarked\"] = test_data[\"Embarked\"].apply(lambda entry : encode_embarked(entry))"
   ],
   "metadata": {
    "collapsed": false,
    "pycharm": {
     "name": "#%%\n"
    }
   }
  },
  {
   "cell_type": "markdown",
   "source": [
    "Now that everything has been encoded, let's try to print our updated\n",
    "data sets to make sure our encoding of the non-numeric categorical fields\n",
    "was successful."
   ],
   "metadata": {
    "collapsed": false,
    "pycharm": {
     "name": "#%% md\n"
    }
   }
  },
  {
   "cell_type": "code",
   "execution_count": 62,
   "outputs": [
    {
     "data": {
      "text/plain": "    PassengerId  Survived  Pclass  Sex        Age  SibSp  Parch  Embarked  \\\n0             1         0       3    0  22.000000      1      0         0   \n1             2         1       1    1  38.000000      1      0         1   \n2             3         1       3    1  26.000000      0      0         0   \n3             4         1       1    1  35.000000      1      0         0   \n4             5         0       3    0  35.000000      0      0         0   \n5             6         0       3    0  29.642093      0      0         2   \n6             7         0       1    0  54.000000      0      0         0   \n7             8         0       3    0   2.000000      3      1         0   \n8             9         1       3    1  27.000000      0      2         0   \n9            10         1       2    1  14.000000      1      0         1   \n10           11         1       3    1   4.000000      1      1         0   \n11           12         1       1    1  58.000000      0      0         0   \n12           13         0       3    0  20.000000      0      0         0   \n13           14         0       3    0  39.000000      1      5         0   \n14           15         0       3    1  14.000000      0      0         0   \n15           16         1       2    1  55.000000      0      0         0   \n16           17         0       3    0   2.000000      4      1         2   \n17           18         1       2    0  29.642093      0      0         0   \n18           19         0       3    1  31.000000      1      0         0   \n19           20         1       3    1  29.642093      0      0         1   \n20           21         0       2    0  35.000000      0      0         0   \n21           22         1       2    0  34.000000      0      0         0   \n22           23         1       3    1  15.000000      0      0         2   \n23           24         1       1    0  28.000000      0      0         0   \n24           25         0       3    1   8.000000      3      1         0   \n\n    Dletter  log(Fare)  \n0         7   1.981001  \n1         2   4.266662  \n2         7   2.070022  \n3         2   3.972177  \n4         7   2.085672  \n5         7   2.135148  \n6         4   3.948596  \n7         7   3.048088  \n8         7   2.409941  \n9         7   3.403555  \n10        6   2.815409  \n11        2   3.279030  \n12        7   2.085672  \n13        7   3.442819  \n14        7   2.061048  \n15        7   2.772589  \n16        7   3.371597  \n17        7   2.564949  \n18        7   2.890372  \n19        7   1.977547  \n20        7   3.258097  \n21        3   2.564949  \n22        7   2.083085  \n23        0   3.569533  \n24        7   3.048088  ",
      "text/html": "<div>\n<style scoped>\n    .dataframe tbody tr th:only-of-type {\n        vertical-align: middle;\n    }\n\n    .dataframe tbody tr th {\n        vertical-align: top;\n    }\n\n    .dataframe thead th {\n        text-align: right;\n    }\n</style>\n<table border=\"1\" class=\"dataframe\">\n  <thead>\n    <tr style=\"text-align: right;\">\n      <th></th>\n      <th>PassengerId</th>\n      <th>Survived</th>\n      <th>Pclass</th>\n      <th>Sex</th>\n      <th>Age</th>\n      <th>SibSp</th>\n      <th>Parch</th>\n      <th>Embarked</th>\n      <th>Dletter</th>\n      <th>log(Fare)</th>\n    </tr>\n  </thead>\n  <tbody>\n    <tr>\n      <th>0</th>\n      <td>1</td>\n      <td>0</td>\n      <td>3</td>\n      <td>0</td>\n      <td>22.000000</td>\n      <td>1</td>\n      <td>0</td>\n      <td>0</td>\n      <td>7</td>\n      <td>1.981001</td>\n    </tr>\n    <tr>\n      <th>1</th>\n      <td>2</td>\n      <td>1</td>\n      <td>1</td>\n      <td>1</td>\n      <td>38.000000</td>\n      <td>1</td>\n      <td>0</td>\n      <td>1</td>\n      <td>2</td>\n      <td>4.266662</td>\n    </tr>\n    <tr>\n      <th>2</th>\n      <td>3</td>\n      <td>1</td>\n      <td>3</td>\n      <td>1</td>\n      <td>26.000000</td>\n      <td>0</td>\n      <td>0</td>\n      <td>0</td>\n      <td>7</td>\n      <td>2.070022</td>\n    </tr>\n    <tr>\n      <th>3</th>\n      <td>4</td>\n      <td>1</td>\n      <td>1</td>\n      <td>1</td>\n      <td>35.000000</td>\n      <td>1</td>\n      <td>0</td>\n      <td>0</td>\n      <td>2</td>\n      <td>3.972177</td>\n    </tr>\n    <tr>\n      <th>4</th>\n      <td>5</td>\n      <td>0</td>\n      <td>3</td>\n      <td>0</td>\n      <td>35.000000</td>\n      <td>0</td>\n      <td>0</td>\n      <td>0</td>\n      <td>7</td>\n      <td>2.085672</td>\n    </tr>\n    <tr>\n      <th>5</th>\n      <td>6</td>\n      <td>0</td>\n      <td>3</td>\n      <td>0</td>\n      <td>29.642093</td>\n      <td>0</td>\n      <td>0</td>\n      <td>2</td>\n      <td>7</td>\n      <td>2.135148</td>\n    </tr>\n    <tr>\n      <th>6</th>\n      <td>7</td>\n      <td>0</td>\n      <td>1</td>\n      <td>0</td>\n      <td>54.000000</td>\n      <td>0</td>\n      <td>0</td>\n      <td>0</td>\n      <td>4</td>\n      <td>3.948596</td>\n    </tr>\n    <tr>\n      <th>7</th>\n      <td>8</td>\n      <td>0</td>\n      <td>3</td>\n      <td>0</td>\n      <td>2.000000</td>\n      <td>3</td>\n      <td>1</td>\n      <td>0</td>\n      <td>7</td>\n      <td>3.048088</td>\n    </tr>\n    <tr>\n      <th>8</th>\n      <td>9</td>\n      <td>1</td>\n      <td>3</td>\n      <td>1</td>\n      <td>27.000000</td>\n      <td>0</td>\n      <td>2</td>\n      <td>0</td>\n      <td>7</td>\n      <td>2.409941</td>\n    </tr>\n    <tr>\n      <th>9</th>\n      <td>10</td>\n      <td>1</td>\n      <td>2</td>\n      <td>1</td>\n      <td>14.000000</td>\n      <td>1</td>\n      <td>0</td>\n      <td>1</td>\n      <td>7</td>\n      <td>3.403555</td>\n    </tr>\n    <tr>\n      <th>10</th>\n      <td>11</td>\n      <td>1</td>\n      <td>3</td>\n      <td>1</td>\n      <td>4.000000</td>\n      <td>1</td>\n      <td>1</td>\n      <td>0</td>\n      <td>6</td>\n      <td>2.815409</td>\n    </tr>\n    <tr>\n      <th>11</th>\n      <td>12</td>\n      <td>1</td>\n      <td>1</td>\n      <td>1</td>\n      <td>58.000000</td>\n      <td>0</td>\n      <td>0</td>\n      <td>0</td>\n      <td>2</td>\n      <td>3.279030</td>\n    </tr>\n    <tr>\n      <th>12</th>\n      <td>13</td>\n      <td>0</td>\n      <td>3</td>\n      <td>0</td>\n      <td>20.000000</td>\n      <td>0</td>\n      <td>0</td>\n      <td>0</td>\n      <td>7</td>\n      <td>2.085672</td>\n    </tr>\n    <tr>\n      <th>13</th>\n      <td>14</td>\n      <td>0</td>\n      <td>3</td>\n      <td>0</td>\n      <td>39.000000</td>\n      <td>1</td>\n      <td>5</td>\n      <td>0</td>\n      <td>7</td>\n      <td>3.442819</td>\n    </tr>\n    <tr>\n      <th>14</th>\n      <td>15</td>\n      <td>0</td>\n      <td>3</td>\n      <td>1</td>\n      <td>14.000000</td>\n      <td>0</td>\n      <td>0</td>\n      <td>0</td>\n      <td>7</td>\n      <td>2.061048</td>\n    </tr>\n    <tr>\n      <th>15</th>\n      <td>16</td>\n      <td>1</td>\n      <td>2</td>\n      <td>1</td>\n      <td>55.000000</td>\n      <td>0</td>\n      <td>0</td>\n      <td>0</td>\n      <td>7</td>\n      <td>2.772589</td>\n    </tr>\n    <tr>\n      <th>16</th>\n      <td>17</td>\n      <td>0</td>\n      <td>3</td>\n      <td>0</td>\n      <td>2.000000</td>\n      <td>4</td>\n      <td>1</td>\n      <td>2</td>\n      <td>7</td>\n      <td>3.371597</td>\n    </tr>\n    <tr>\n      <th>17</th>\n      <td>18</td>\n      <td>1</td>\n      <td>2</td>\n      <td>0</td>\n      <td>29.642093</td>\n      <td>0</td>\n      <td>0</td>\n      <td>0</td>\n      <td>7</td>\n      <td>2.564949</td>\n    </tr>\n    <tr>\n      <th>18</th>\n      <td>19</td>\n      <td>0</td>\n      <td>3</td>\n      <td>1</td>\n      <td>31.000000</td>\n      <td>1</td>\n      <td>0</td>\n      <td>0</td>\n      <td>7</td>\n      <td>2.890372</td>\n    </tr>\n    <tr>\n      <th>19</th>\n      <td>20</td>\n      <td>1</td>\n      <td>3</td>\n      <td>1</td>\n      <td>29.642093</td>\n      <td>0</td>\n      <td>0</td>\n      <td>1</td>\n      <td>7</td>\n      <td>1.977547</td>\n    </tr>\n    <tr>\n      <th>20</th>\n      <td>21</td>\n      <td>0</td>\n      <td>2</td>\n      <td>0</td>\n      <td>35.000000</td>\n      <td>0</td>\n      <td>0</td>\n      <td>0</td>\n      <td>7</td>\n      <td>3.258097</td>\n    </tr>\n    <tr>\n      <th>21</th>\n      <td>22</td>\n      <td>1</td>\n      <td>2</td>\n      <td>0</td>\n      <td>34.000000</td>\n      <td>0</td>\n      <td>0</td>\n      <td>0</td>\n      <td>3</td>\n      <td>2.564949</td>\n    </tr>\n    <tr>\n      <th>22</th>\n      <td>23</td>\n      <td>1</td>\n      <td>3</td>\n      <td>1</td>\n      <td>15.000000</td>\n      <td>0</td>\n      <td>0</td>\n      <td>2</td>\n      <td>7</td>\n      <td>2.083085</td>\n    </tr>\n    <tr>\n      <th>23</th>\n      <td>24</td>\n      <td>1</td>\n      <td>1</td>\n      <td>0</td>\n      <td>28.000000</td>\n      <td>0</td>\n      <td>0</td>\n      <td>0</td>\n      <td>0</td>\n      <td>3.569533</td>\n    </tr>\n    <tr>\n      <th>24</th>\n      <td>25</td>\n      <td>0</td>\n      <td>3</td>\n      <td>1</td>\n      <td>8.000000</td>\n      <td>3</td>\n      <td>1</td>\n      <td>0</td>\n      <td>7</td>\n      <td>3.048088</td>\n    </tr>\n  </tbody>\n</table>\n</div>"
     },
     "execution_count": 62,
     "metadata": {},
     "output_type": "execute_result"
    }
   ],
   "source": [
    "# use the head(25) function on the training data.\n",
    "train_data.head(25)"
   ],
   "metadata": {
    "collapsed": false,
    "pycharm": {
     "name": "#%%\n"
    }
   }
  },
  {
   "cell_type": "code",
   "execution_count": 63,
   "outputs": [
    {
     "data": {
      "text/plain": "    PassengerId  Pclass  Sex        Age  SibSp  Parch  Embarked  Dletter  \\\n0           892       3    0  34.500000      0      0         2        7   \n1           893       3    1  47.000000      1      0         0        7   \n2           894       2    0  62.000000      0      0         2        7   \n3           895       3    0  27.000000      0      0         0        7   \n4           896       3    1  22.000000      1      1         0        7   \n5           897       3    0  14.000000      0      0         0        7   \n6           898       3    1  30.000000      0      0         2        7   \n7           899       2    0  26.000000      1      1         0        7   \n8           900       3    1  18.000000      0      0         1        7   \n9           901       3    0  21.000000      2      0         0        7   \n10          902       3    0  30.181269      0      0         0        7   \n11          903       1    0  46.000000      0      0         0        7   \n12          904       1    1  23.000000      1      0         0        1   \n13          905       2    0  63.000000      1      0         0        7   \n14          906       1    1  47.000000      1      0         0        4   \n15          907       2    1  24.000000      1      0         1        7   \n16          908       2    0  35.000000      0      0         2        7   \n17          909       3    0  21.000000      0      0         1        7   \n18          910       3    1  27.000000      1      0         0        7   \n19          911       3    1  45.000000      0      0         1        7   \n20          912       1    0  55.000000      1      0         1        7   \n21          913       3    0   9.000000      0      1         0        7   \n22          914       1    1  30.181269      0      0         0        7   \n23          915       1    0  21.000000      0      1         1        7   \n24          916       1    1  48.000000      1      3         1        1   \n\n    log(Fare)  \n0    2.057860  \n1    1.945910  \n2    2.270836  \n3    2.159003  \n4    2.508582  \n5    2.221917  \n6    2.031983  \n7    3.367296  \n8    1.978128  \n9    3.184284  \n10   2.066331  \n11   3.258097  \n12   4.409966  \n13   3.258097  \n14   4.113739  \n15   3.322183  \n16   2.513656  \n17   1.977547  \n18   2.070022  \n19   1.977547  \n20   4.084294  \n21   1.153984  \n22   3.455790  \n23   4.117071  \n24   5.569775  ",
      "text/html": "<div>\n<style scoped>\n    .dataframe tbody tr th:only-of-type {\n        vertical-align: middle;\n    }\n\n    .dataframe tbody tr th {\n        vertical-align: top;\n    }\n\n    .dataframe thead th {\n        text-align: right;\n    }\n</style>\n<table border=\"1\" class=\"dataframe\">\n  <thead>\n    <tr style=\"text-align: right;\">\n      <th></th>\n      <th>PassengerId</th>\n      <th>Pclass</th>\n      <th>Sex</th>\n      <th>Age</th>\n      <th>SibSp</th>\n      <th>Parch</th>\n      <th>Embarked</th>\n      <th>Dletter</th>\n      <th>log(Fare)</th>\n    </tr>\n  </thead>\n  <tbody>\n    <tr>\n      <th>0</th>\n      <td>892</td>\n      <td>3</td>\n      <td>0</td>\n      <td>34.500000</td>\n      <td>0</td>\n      <td>0</td>\n      <td>2</td>\n      <td>7</td>\n      <td>2.057860</td>\n    </tr>\n    <tr>\n      <th>1</th>\n      <td>893</td>\n      <td>3</td>\n      <td>1</td>\n      <td>47.000000</td>\n      <td>1</td>\n      <td>0</td>\n      <td>0</td>\n      <td>7</td>\n      <td>1.945910</td>\n    </tr>\n    <tr>\n      <th>2</th>\n      <td>894</td>\n      <td>2</td>\n      <td>0</td>\n      <td>62.000000</td>\n      <td>0</td>\n      <td>0</td>\n      <td>2</td>\n      <td>7</td>\n      <td>2.270836</td>\n    </tr>\n    <tr>\n      <th>3</th>\n      <td>895</td>\n      <td>3</td>\n      <td>0</td>\n      <td>27.000000</td>\n      <td>0</td>\n      <td>0</td>\n      <td>0</td>\n      <td>7</td>\n      <td>2.159003</td>\n    </tr>\n    <tr>\n      <th>4</th>\n      <td>896</td>\n      <td>3</td>\n      <td>1</td>\n      <td>22.000000</td>\n      <td>1</td>\n      <td>1</td>\n      <td>0</td>\n      <td>7</td>\n      <td>2.508582</td>\n    </tr>\n    <tr>\n      <th>5</th>\n      <td>897</td>\n      <td>3</td>\n      <td>0</td>\n      <td>14.000000</td>\n      <td>0</td>\n      <td>0</td>\n      <td>0</td>\n      <td>7</td>\n      <td>2.221917</td>\n    </tr>\n    <tr>\n      <th>6</th>\n      <td>898</td>\n      <td>3</td>\n      <td>1</td>\n      <td>30.000000</td>\n      <td>0</td>\n      <td>0</td>\n      <td>2</td>\n      <td>7</td>\n      <td>2.031983</td>\n    </tr>\n    <tr>\n      <th>7</th>\n      <td>899</td>\n      <td>2</td>\n      <td>0</td>\n      <td>26.000000</td>\n      <td>1</td>\n      <td>1</td>\n      <td>0</td>\n      <td>7</td>\n      <td>3.367296</td>\n    </tr>\n    <tr>\n      <th>8</th>\n      <td>900</td>\n      <td>3</td>\n      <td>1</td>\n      <td>18.000000</td>\n      <td>0</td>\n      <td>0</td>\n      <td>1</td>\n      <td>7</td>\n      <td>1.978128</td>\n    </tr>\n    <tr>\n      <th>9</th>\n      <td>901</td>\n      <td>3</td>\n      <td>0</td>\n      <td>21.000000</td>\n      <td>2</td>\n      <td>0</td>\n      <td>0</td>\n      <td>7</td>\n      <td>3.184284</td>\n    </tr>\n    <tr>\n      <th>10</th>\n      <td>902</td>\n      <td>3</td>\n      <td>0</td>\n      <td>30.181269</td>\n      <td>0</td>\n      <td>0</td>\n      <td>0</td>\n      <td>7</td>\n      <td>2.066331</td>\n    </tr>\n    <tr>\n      <th>11</th>\n      <td>903</td>\n      <td>1</td>\n      <td>0</td>\n      <td>46.000000</td>\n      <td>0</td>\n      <td>0</td>\n      <td>0</td>\n      <td>7</td>\n      <td>3.258097</td>\n    </tr>\n    <tr>\n      <th>12</th>\n      <td>904</td>\n      <td>1</td>\n      <td>1</td>\n      <td>23.000000</td>\n      <td>1</td>\n      <td>0</td>\n      <td>0</td>\n      <td>1</td>\n      <td>4.409966</td>\n    </tr>\n    <tr>\n      <th>13</th>\n      <td>905</td>\n      <td>2</td>\n      <td>0</td>\n      <td>63.000000</td>\n      <td>1</td>\n      <td>0</td>\n      <td>0</td>\n      <td>7</td>\n      <td>3.258097</td>\n    </tr>\n    <tr>\n      <th>14</th>\n      <td>906</td>\n      <td>1</td>\n      <td>1</td>\n      <td>47.000000</td>\n      <td>1</td>\n      <td>0</td>\n      <td>0</td>\n      <td>4</td>\n      <td>4.113739</td>\n    </tr>\n    <tr>\n      <th>15</th>\n      <td>907</td>\n      <td>2</td>\n      <td>1</td>\n      <td>24.000000</td>\n      <td>1</td>\n      <td>0</td>\n      <td>1</td>\n      <td>7</td>\n      <td>3.322183</td>\n    </tr>\n    <tr>\n      <th>16</th>\n      <td>908</td>\n      <td>2</td>\n      <td>0</td>\n      <td>35.000000</td>\n      <td>0</td>\n      <td>0</td>\n      <td>2</td>\n      <td>7</td>\n      <td>2.513656</td>\n    </tr>\n    <tr>\n      <th>17</th>\n      <td>909</td>\n      <td>3</td>\n      <td>0</td>\n      <td>21.000000</td>\n      <td>0</td>\n      <td>0</td>\n      <td>1</td>\n      <td>7</td>\n      <td>1.977547</td>\n    </tr>\n    <tr>\n      <th>18</th>\n      <td>910</td>\n      <td>3</td>\n      <td>1</td>\n      <td>27.000000</td>\n      <td>1</td>\n      <td>0</td>\n      <td>0</td>\n      <td>7</td>\n      <td>2.070022</td>\n    </tr>\n    <tr>\n      <th>19</th>\n      <td>911</td>\n      <td>3</td>\n      <td>1</td>\n      <td>45.000000</td>\n      <td>0</td>\n      <td>0</td>\n      <td>1</td>\n      <td>7</td>\n      <td>1.977547</td>\n    </tr>\n    <tr>\n      <th>20</th>\n      <td>912</td>\n      <td>1</td>\n      <td>0</td>\n      <td>55.000000</td>\n      <td>1</td>\n      <td>0</td>\n      <td>1</td>\n      <td>7</td>\n      <td>4.084294</td>\n    </tr>\n    <tr>\n      <th>21</th>\n      <td>913</td>\n      <td>3</td>\n      <td>0</td>\n      <td>9.000000</td>\n      <td>0</td>\n      <td>1</td>\n      <td>0</td>\n      <td>7</td>\n      <td>1.153984</td>\n    </tr>\n    <tr>\n      <th>22</th>\n      <td>914</td>\n      <td>1</td>\n      <td>1</td>\n      <td>30.181269</td>\n      <td>0</td>\n      <td>0</td>\n      <td>0</td>\n      <td>7</td>\n      <td>3.455790</td>\n    </tr>\n    <tr>\n      <th>23</th>\n      <td>915</td>\n      <td>1</td>\n      <td>0</td>\n      <td>21.000000</td>\n      <td>0</td>\n      <td>1</td>\n      <td>1</td>\n      <td>7</td>\n      <td>4.117071</td>\n    </tr>\n    <tr>\n      <th>24</th>\n      <td>916</td>\n      <td>1</td>\n      <td>1</td>\n      <td>48.000000</td>\n      <td>1</td>\n      <td>3</td>\n      <td>1</td>\n      <td>1</td>\n      <td>5.569775</td>\n    </tr>\n  </tbody>\n</table>\n</div>"
     },
     "execution_count": 63,
     "metadata": {},
     "output_type": "execute_result"
    }
   ],
   "source": [
    "# use the head(25) function on the test data.\n",
    "test_data.head(25)"
   ],
   "metadata": {
    "collapsed": false,
    "pycharm": {
     "name": "#%%\n"
    }
   }
  },
  {
   "cell_type": "markdown",
   "source": [
    "At this point, we can start our exploration of the data.\n",
    "\n",
    "First, let's try and see if there is a relationship between\n",
    "a passenger's survival and their socio-economic status. We can\n",
    "do this multiple ways, so let's start with a boxplot with the\n",
    "\"Survived\" data on the x-axis and the \"log(Fare)\" data on the\n",
    "y-axis (using the training data)."
   ],
   "metadata": {
    "collapsed": false,
    "pycharm": {
     "name": "#%% md\n"
    }
   }
  },
  {
   "cell_type": "code",
   "execution_count": 64,
   "outputs": [
    {
     "data": {
      "text/plain": "<Figure size 432x288 with 1 Axes>",
      "image/png": "[encoded data removed]"
     },
     "metadata": {
      "needs_background": "light"
     },
     "output_type": "display_data"
    }
   ],
   "source": [
    "sb.boxplot(data=train_data,\n",
    "           x=\"Survived\",\n",
    "           y=\"log(Fare)\",\n",
    "           showmeans=True,\n",
    "           meanprops={\n",
    "               \"marker\" : \"+\",\n",
    "               \"markeredgecolor\" : \"black\",\n",
    "               \"markersize\" : \"15\"\n",
    "           })\n",
    "plt.title(\"Training Data Survived-log(Fare) Boxplot\")\n",
    "plt.savefig(\"figure_one_log_fare_boxplot.png\")"
   ],
   "metadata": {
    "collapsed": false,
    "pycharm": {
     "name": "#%%\n"
    }
   }
  },
  {
   "cell_type": "markdown",
   "source": [
    "It appears that there is indeed a relationship between survival and\n",
    "the logarithm of the fare paid for a ticket. Specifically, the mean\n",
    "value of log(Fare) paid by those who perished in the sinking of the Titanic\n",
    "is comparatively lower than the mean value of log(Fare) paid by those\n",
    "who survived the tragedy. Let us test this with a T-test using Welch's\n",
    "t-statistic.\n",
    "\n",
    "First, we need to create separate DataFrame objects to contain records of\n",
    "those who survived and those who did not."
   ],
   "metadata": {
    "collapsed": false,
    "pycharm": {
     "name": "#%% md\n"
    }
   }
  },
  {
   "cell_type": "code",
   "execution_count": 65,
   "outputs": [],
   "source": [
    "temp = train_data[train_data[\"Survived\"] == 0]\n",
    "perished_log_fare_data = temp[\"log(Fare)\"]\n",
    "\n",
    "temp = train_data[train_data[\"Survived\"] == 1]\n",
    "survived_log_fare_data = temp[\"log(Fare)\"]"
   ],
   "metadata": {
    "collapsed": false,
    "pycharm": {
     "name": "#%%\n"
    }
   }
  },
  {
   "cell_type": "markdown",
   "source": [
    "Now we can perform the T-test on these two data sets."
   ],
   "metadata": {
    "collapsed": false,
    "pycharm": {
     "name": "#%% md\n"
    }
   }
  },
  {
   "cell_type": "code",
   "execution_count": 66,
   "outputs": [
    {
     "data": {
      "text/plain": "Ttest_indResult(statistic=-9.51007150892796, pvalue=4.518482891058762e-20)"
     },
     "execution_count": 66,
     "metadata": {},
     "output_type": "execute_result"
    }
   ],
   "source": [
    "stats.ttest_ind(perished_log_fare_data,\n",
    "                survived_log_fare_data,\n",
    "                equal_var=False)"
   ],
   "metadata": {
    "collapsed": false,
    "pycharm": {
     "name": "#%%\n"
    }
   }
  },
  {
   "cell_type": "markdown",
   "source": [
    "Based on this T-test using Welch's t-statistic, we have determined that\n",
    "the difference between the mean log(Fare) values paid by those who survived\n",
    "and those who perished has a p-value of approximately 4.5185 E-20. Because\n",
    "the aforementioned p-value is less than the alpha = 0.05 level of significance,\n",
    "we are justified in saying that the difference between the mean values of\n",
    "log(Fare) paid by those who survived and those who didn't is statistically\n",
    "significant. Therefore, between this T-test and the previously created boxplot,\n",
    "it seems likely that the relationship between the log(Fare) paid by a passenger\n",
    "and said passenger's survival during the Titanic's sinking is described as\n",
    "being a positive correlation: the higher the value of log(Fare), the more likely\n",
    "the passenger was to survive. Because people in lower socio-economic classes\n",
    "couldn't pay for the more expensive tickets, it is implied that passengers that\n",
    "fell under this label were more likely to perish."
   ],
   "metadata": {
    "collapsed": false,
    "pycharm": {
     "name": "#%% md\n"
    }
   }
  },
  {
   "cell_type": "markdown",
   "source": [
    "Let's try to figure out a relationship between survival and age. This can\n",
    "be done in a way similar to how we established a relationship between\n",
    "survival and the logarithm of the paid fare."
   ],
   "metadata": {
    "collapsed": false
   }
  },
  {
   "cell_type": "code",
   "execution_count": 67,
   "outputs": [
    {
     "data": {
      "text/plain": "<Figure size 432x288 with 1 Axes>",
      "image/png": "[encoded data removed]"
     },
     "metadata": {
      "needs_background": "light"
     },
     "output_type": "display_data"
    }
   ],
   "source": [
    "sb.boxplot(data=train_data,\n",
    "           x=\"Survived\",\n",
    "           y=\"Age\",\n",
    "           showmeans=True,\n",
    "           meanprops={\n",
    "               \"marker\" : \"+\",\n",
    "               \"markeredgecolor\" : \"black\",\n",
    "               \"markersize\" : \"15\"\n",
    "           })\n",
    "plt.title(\"Training Data Survived-Age Boxplot\")\n",
    "plt.savefig(\"figure_two_survived_age_boxplot.png\")"
   ],
   "metadata": {
    "collapsed": false,
    "pycharm": {
     "name": "#%%\n"
    }
   }
  },
  {
   "cell_type": "markdown",
   "source": [
    "Surprisingly, it seems that the mean age of the survivors is similar\n",
    "to the mean age of those who didn't. This might mean that there is not\n",
    "a strong relationship between age and chances of survival. However,\n",
    "let us perform another T-test using Welch's t-statistic just\n",
    "to be certain that our observation holds true.\n",
    "\n",
    "First, we need to separate age data for those who survived from the\n",
    "age data for those who didn't."
   ],
   "metadata": {
    "collapsed": false
   }
  },
  {
   "cell_type": "code",
   "execution_count": 68,
   "outputs": [],
   "source": [
    "temp = train_data[train_data[\"Survived\"] == 0]\n",
    "perished_age_data = temp[\"Age\"]\n",
    "\n",
    "temp = train_data[train_data[\"Survived\"] == 1]\n",
    "survived_age_data = temp[\"Age\"]"
   ],
   "metadata": {
    "collapsed": false,
    "pycharm": {
     "name": "#%%\n"
    }
   }
  },
  {
   "cell_type": "markdown",
   "source": [
    "Now we can perform our T-test."
   ],
   "metadata": {
    "collapsed": false,
    "pycharm": {
     "name": "#%% md\n"
    }
   }
  },
  {
   "cell_type": "code",
   "execution_count": 69,
   "outputs": [
    {
     "data": {
      "text/plain": "Ttest_indResult(statistic=2.0570526981810007, pvalue=0.040066801118590095)"
     },
     "execution_count": 69,
     "metadata": {},
     "output_type": "execute_result"
    }
   ],
   "source": [
    "stats.ttest_ind(perished_age_data,\n",
    "                survived_age_data,\n",
    "                equal_var=False)"
   ],
   "metadata": {
    "collapsed": false,
    "pycharm": {
     "name": "#%%\n"
    }
   }
  },
  {
   "cell_type": "markdown",
   "source": [
    "Yet another surprise - at least to us - is that our most recent T-test\n",
    "showed that the difference between the mean ages of those who survived\n",
    "and those who didn't is, in fact, significant at an alpha = 0.05 level\n",
    "of significance, as the p-value of approximately 0.0401 is less than 0.05.\n",
    "However, the p-value from this T-test is much larger than that of our previous\n",
    "T-test between the mean logarithms of fare paid by those who survived and\n",
    "those who didn't. The difference in mean logarithms of fare paid by those\n",
    "who survived and those who didn't was significant not only at the alpha = 0.05\n",
    "level of significance, but also at the alpha = 0.01 level of significance.\n",
    "The difference in mean ages of those who survived and those who didn't, however,\n",
    "is barely significant at the alpha = 0.05 level of significance, and it is not\n",
    "significant at the alpha = 0.01 level of significance. This means that while\n",
    "there does exist a relationship between age and chance of survival, it doesn't\n",
    "seem to be as concrete as the relationship between the logarithm of fare\n",
    "and chance of survival.\n",
    "\n",
    "We can check these previous two observations by calculating the\n",
    "pairwise Pearson correlation coefficients between the \"Survived,\"\n",
    "\"log(Fare),\" and \"Age\" fields in the data; we can also include the\n",
    "other numerical fields - \"SibSp\" and \"Parch\" - for completeness."
   ],
   "metadata": {
    "collapsed": false,
    "pycharm": {
     "name": "#%% md\n"
    }
   }
  },
  {
   "cell_type": "code",
   "execution_count": 70,
   "outputs": [],
   "source": [
    "# create numeric data set and calculate pairwise Pearson correlations.\n",
    "pearson_numeric = train_data[[\"Survived\", \"Age\", \"log(Fare)\", \"SibSp\", \"Parch\"]]\n",
    "pearson_correlation = pearson_numeric.corr(method=\"pearson\")"
   ],
   "metadata": {
    "collapsed": false,
    "pycharm": {
     "name": "#%%\n"
    }
   }
  },
  {
   "cell_type": "code",
   "execution_count": 71,
   "outputs": [
    {
     "data": {
      "text/plain": "<Figure size 504x288 with 2 Axes>",
      "image/png": "[encoded data removed]"
     },
     "metadata": {
      "needs_background": "light"
     },
     "output_type": "display_data"
    }
   ],
   "source": [
    "# plot heatmap.\n",
    "plt.figure(figsize=(7,4))\n",
    "sb.heatmap(pearson_correlation, annot=True)\n",
    "plt.title(\"Training Data Numeric Fields\\nPearson Correlation Heatmap\")\n",
    "plt.savefig(\"figure_three_numeric_heatmap.png\")"
   ],
   "metadata": {
    "collapsed": false,
    "pycharm": {
     "name": "#%%\n"
    }
   }
  },
  {
   "cell_type": "markdown",
   "source": [
    "The pairwise Pearson correlation coefficient heatmap that we just created\n",
    "indicates that we were correct in our (updated) prediction that the\n",
    "relationship between \"Age\" and \"Survived\" is not very strong - the effect size\n",
    "is most likely negligible, as \"small\" effect sizes are generally considered\n",
    "to have absolute value of Pearson correlation coefficient of at least 0.20. Therefore,\n",
    "even though the relationship between \"Age\" and \"Survived\" was determined to be\n",
    "significant by our T-test, the actual magnitude of the relationship is extremely\n",
    "small, as determined by the Pearson correlation coefficient between them."
   ],
   "metadata": {
    "collapsed": false,
    "pycharm": {
     "name": "#%% md\n"
    }
   }
  },
  {
   "cell_type": "code",
   "execution_count": 72,
   "outputs": [
    {
     "data": {
      "text/plain": "<Figure size 720x360 with 2 Axes>",
      "image/png": "[encoded data removed]"
     },
     "metadata": {
      "needs_background": "light"
     },
     "output_type": "display_data"
    }
   ],
   "source": [
    "child_age = train_data.loc[(train_data[\"Age\"] > 0) & (train_data[\"Age\"] <= 12) & (train_data['Survived'] == 1), \"Survived\"]\n",
    "teen_age = train_data.loc[(train_data[\"Age\"] > 12) & (train_data[\"Age\"] <= 19) & (train_data['Survived'] == 1), \"Survived\"]\n",
    "young_adult_age = train_data.loc[(train_data[\"Age\"] > 19) & (train_data[\"Age\"] <= 39) & (train_data['Survived'] == 1), \"Survived\"]\n",
    "middle_age = train_data.loc[(train_data[\"Age\"] > 39) & (train_data[\"Age\"] <= 64) & (train_data['Survived'] == 1), \"Survived\"]\n",
    "senior_age = train_data.loc[(train_data[\"Age\"] > 64) & (train_data['Survived'] == 1), \"Survived\"]\n",
    "\n",
    "x_axis = [\"[0,12]\", \"[13,19]\", \"[20,39]\", \"[40,64]\", \"[65,]\"]\n",
    "y_axis = [len(child_age), len(teen_age), len(young_adult_age), len(middle_age), len(senior_age)]\n",
    "\n",
    "figure_temp = plt.figure(figsize=(10, 5))\n",
    "\n",
    "ax_one = figure_temp.add_subplot(121)\n",
    "ax_one.bar(x_axis, y_axis,\n",
    "           color=\"green\",\n",
    "           edgecolor=\"black\",\n",
    "           label=\"Survivor Count\")\n",
    "plt.title(\"Distribution of Survivors by Age Group\")\n",
    "plt.xlabel(\"Age Group\")\n",
    "plt.ylabel(\"Number of Survivors\")\n",
    "plt.legend(loc=\"upper left\")\n",
    "\n",
    "child_age = train_data.loc[(train_data[\"Age\"] > 0) & (train_data[\"Age\"] <= 12) & (train_data['Survived'] == 0), \"Survived\"]\n",
    "teen_age = train_data.loc[(train_data[\"Age\"] > 12) & (train_data[\"Age\"] <= 19) & (train_data['Survived'] == 0), \"Survived\"]\n",
    "young_adult_age = train_data.loc[(train_data[\"Age\"] > 19) & (train_data[\"Age\"] <= 39) & (train_data['Survived'] == 0), \"Survived\"]\n",
    "middle_age = train_data.loc[(train_data[\"Age\"] > 39) & (train_data[\"Age\"] <= 64) & (train_data['Survived'] == 0), \"Survived\"]\n",
    "senior_age = train_data.loc[(train_data[\"Age\"] > 64) & (train_data['Survived'] == 0), \"Survived\"]\n",
    "\n",
    "x_axis = [\"[0,12]\", \"[13,19]\", \"[20,39]\", \"[40,64]\", \"[65,]\"]\n",
    "y_axis = [len(child_age), len(teen_age), len(young_adult_age), len(middle_age), len(senior_age)]\n",
    "\n",
    "ax_two = figure_temp.add_subplot(122)\n",
    "ax_two.bar(x_axis, y_axis,\n",
    "           color=\"red\",\n",
    "           edgecolor=\"black\",\n",
    "           label=\"Victim Count\")\n",
    "plt.title(\"Distribution of Victims by Age Group\")\n",
    "plt.xlabel(\"Age Group\")\n",
    "plt.ylabel(\"Number of Victims\")\n",
    "plt.legend(loc=\"upper left\")\n",
    "\n",
    "plt.savefig(\"figure_four_age_survivor_distribution_bar.png\")"
   ],
   "metadata": {
    "collapsed": false,
    "pycharm": {
     "name": "#%%\n"
    }
   }
  },
  {
   "cell_type": "markdown",
   "source": [
    "The relationship between \"Survived\" and \"log(Fare),\" however, is significant and\n",
    "also is considered a \"small\" effect size, as the absolute value of the\n",
    "Pearson correlation coefficient between them is greater than 0.20 (the conventional\n",
    "lower bound for relationships of \"small\" effect size). This implies that we were\n",
    "correct in our statement that people of higher socio-economic class (determined\n",
    "using logarithm of fare as an indicative proxy) had a greater chance of surviving.\n",
    "\n",
    "Another relationship that might be useful in exploring the importance of\n",
    "socio-economic class is the relationship between \"log(Fare)\" and \"SibSp\".\n",
    "This relationship is of a \"small\" effect size, as the pairwise\n",
    "Pearson correlation coefficient between them is greater than 0.20. The logic behind\n",
    "this observation seems to make sense: passengers who were bringing family\n",
    "members - siblings, spouses - with them had to pay for more space on the ship.\n",
    "Bringing family along for the trip aboard the Titanic would be much more expensive\n",
    "than buying a single ticket for oneself, so the \"log(Fare)\" field is\n",
    "only reflecting the common economic model of \"pay per item\": the more tickets\n",
    "a passenger bought, the higher the fare they would have to pay. At this point, we\n",
    "cannot make a statement about how this relates to socio-economic clas using only the\n",
    "data we have so far. However, we can explore the socio-economic implications further\n",
    "through more analysis."
   ],
   "metadata": {
    "collapsed": false,
    "pycharm": {
     "name": "#%% md\n"
    }
   }
  },
  {
   "cell_type": "code",
   "execution_count": 73,
   "outputs": [
    {
     "name": "stdout",
     "output_type": "stream",
     "text": [
      "Percentage of First Class passengers with siblings/spouse on board: 37.98%\n",
      "Percentage of Second Class passengers with siblings/spouse on board: 35.96%\n",
      "Percentage of Third Class passengers with siblings/spouse on board: 28.78%\n"
     ]
    },
    {
     "data": {
      "text/plain": "<Figure size 1080x360 with 3 Axes>",
      "image/png": "[encoded data removed]"
     },
     "metadata": {
      "needs_background": "light"
     },
     "output_type": "display_data"
    }
   ],
   "source": [
    "# create matplotlib figure space.\n",
    "figure_temp = plt.figure(figsize=(15, 5))\n",
    "\n",
    "# plot first-class sibling/spouse count histogram.\n",
    "ax_one = figure_temp.add_subplot(131)\n",
    "\n",
    "first_class_data = train_data[train_data[\"Pclass\"] == 1]\n",
    "ax_one.hist(first_class_data[\"SibSp\"],\n",
    "            bins=3,\n",
    "            edgecolor=\"black\",\n",
    "            color=\"navy\",\n",
    "            label=\"First Class\\nSibling/Spouse\\nCount Frequency\")\n",
    "plt.title(\"Training Data First Class\\nSibling/Spouse Histogram\")\n",
    "plt.xlabel(\"Number of Siblings/Spouse\")\n",
    "plt.ylabel(\"Frequency\")\n",
    "plt.xticks([0, 1, 2, 3])\n",
    "plt.legend(loc=\"upper right\")\n",
    "\n",
    "# print percentage of first-class passengers with non-zero \"SibSp\" entries.\n",
    "print(\"Percentage of First Class passengers with siblings/spouse on board: \" +\n",
    "      \"{:.2%}\".format(len(first_class_data[first_class_data[\"SibSp\"] > 0]) / len(first_class_data)))\n",
    "\n",
    "# plot second-class sibling/spouse count histogram.\n",
    "ax_two = figure_temp.add_subplot(132)\n",
    "\n",
    "second_class_data = train_data[train_data[\"Pclass\"] == 2]\n",
    "ax_two.hist(second_class_data[\"SibSp\"],\n",
    "            bins=3,\n",
    "            edgecolor=\"black\",\n",
    "            color=\"orange\",\n",
    "            label=\"Second Class\\nSibling/Spouse\\nCount Frequency\")\n",
    "plt.title(\"Training Data Second Class\\nSibling/Spouse Histogram\")\n",
    "plt.xlabel(\"Number of Siblings/Spouse\")\n",
    "plt.ylabel(\"Frequency\")\n",
    "plt.xticks([0, 1, 2, 3])\n",
    "plt.legend(loc=\"upper right\")\n",
    "\n",
    "# print percentage of second-class passengers with non-zero \"SibSp\" entries.\n",
    "print(\"Percentage of Second Class passengers with siblings/spouse on board: \" +\n",
    "      \"{:.2%}\".format(len(second_class_data[second_class_data[\"SibSp\"] > 0]) / len(second_class_data)))\n",
    "\n",
    "# plot third-class sibling/spouse count histogram.\n",
    "ax_three = figure_temp.add_subplot(133)\n",
    "\n",
    "third_class_data = train_data[train_data[\"Pclass\"] == 3]\n",
    "ax_three.hist(third_class_data[\"SibSp\"],\n",
    "              bins=8,\n",
    "              edgecolor=\"black\",\n",
    "              color=\"purple\",\n",
    "              label=\"Third Class\\nSibling/Spouse\\nCount Frequency\")\n",
    "plt.title(\"Training Data Third Class\\nSibling/Spouse Histogram\")\n",
    "plt.xlabel(\"Number of Siblings/Spouse\")\n",
    "plt.ylabel(\"Frequency\")\n",
    "plt.xticks(range(0, 9))\n",
    "plt.legend(loc=\"upper right\")\n",
    "\n",
    "# print percentage of third-class passengers with non-zero \"SibSp\" entries.\n",
    "print(\"Percentage of Third Class passengers with siblings/spouse on board: \" +\n",
    "      \"{:.2%}\".format(len(third_class_data[third_class_data[\"SibSp\"] > 0]) / len(third_class_data)))\n",
    "\n",
    "plt.savefig(\"figure_five_sibsp_dist_by_class.png\")"
   ],
   "metadata": {
    "collapsed": false,
    "pycharm": {
     "name": "#%%\n"
    }
   }
  },
  {
   "cell_type": "markdown",
   "source": [
    "Based on these histograms and their associated percentages of\n",
    "non-zero \"SibSp\" entries, it has been shown that the ticket class\n",
    "with the largest proportion of non-zero \"SibSp\" entries (passengers\n",
    "who had at least one sibling/spouse relatives on board the Titanic)\n",
    "was the first class, with the second class close behind and the third\n",
    "class far behind both the first and second classes. Thus, the relationship\n",
    "between socio-economic class (using ticket class as a proxy) and the\n",
    "number of siblings/spouse a passenger brought with them on the Titanic\n",
    "has been proven: the conditional probability that a passenger brought\n",
    "their sibling(s)/spouse with them on the titanic given their ticket class\n",
    "class increases as one looks up the soio-economic hierarchy. In other words,\n",
    "passengers in higher socio-economic class were more likely to bring their\n",
    "sibling(s)/spouse with them on the Titanic.\n",
    "\n",
    "The last relationship in this heatmap that might be useful in evaluating\n",
    "the importance of socio-economic class on the Titanic is between the\n",
    "\"log(Fare)\" and \"Parch\" data fields. The pairwise Pearson correlation\n",
    "coefficient between \"log(Fare)\" and \"Parch\" is also greater than 0.20, meaning\n",
    "that the associated relationship is of \"small\" effect size. This observation\n",
    "is supported by similar reasoning that was used to support the relationship\n",
    "between socio-economic status and the number of sibling(s)/spouse a passenger\n",
    "brough with them: a passenger would have to pay for additional tickets in order\n",
    "to bring their children/parents with them on the Titanic, thus making the fare\n",
    "they'd have to pay (and inherently the logarithm of their paid fare) greater.\n",
    "Remembering the value of money was much higher in 1912 than it is today, such\n",
    "high fares we usually only affordable by those with more money, and therefore,\n",
    "those of high socio-economic classes. We can show this again using histograms."
   ],
   "metadata": {
    "collapsed": false,
    "pycharm": {
     "name": "#%% md\n"
    }
   }
  },
  {
   "cell_type": "code",
   "execution_count": 74,
   "outputs": [
    {
     "name": "stdout",
     "output_type": "stream",
     "text": [
      "Percentage of First Class passengers with parents/childen on board: 25.48%\n",
      "Percentage of Second Class passengers with parents/children on board: 28.09%\n",
      "Percentage of Third Class passengers with parents/children on board: 22.57%\n"
     ]
    },
    {
     "data": {
      "text/plain": "<Figure size 1080x360 with 3 Axes>",
      "image/png": "[encoded data removed]"
     },
     "metadata": {
      "needs_background": "light"
     },
     "output_type": "display_data"
    }
   ],
   "source": [
    "# create matplotlib figure space.\n",
    "figure_temp = plt.figure(figsize=(15, 5))\n",
    "\n",
    "# plot first-class parents/children count histogram.\n",
    "ax_one = figure_temp.add_subplot(131)\n",
    "ax_one.hist(first_class_data[\"Parch\"],\n",
    "            bins=4,\n",
    "            edgecolor=\"black\",\n",
    "            color=\"navy\",\n",
    "            label=\"First Class\\nParent/Child\\nCount Frequency\")\n",
    "plt.title(\"Training Data First Class\\nParent/Children Histogram\")\n",
    "plt.xlabel(\"Number of Parents/Children\")\n",
    "plt.ylabel(\"Frequency\")\n",
    "plt.xticks([0, 1, 2, 3, 4])\n",
    "plt.legend(loc=\"upper right\")\n",
    "\n",
    "# print percentage of first-class passengers with non-zero \"Parch\" entries.\n",
    "print(\"Percentage of First Class passengers with parents/childen on board: \" +\n",
    "      \"{:.2%}\".format(len(first_class_data[first_class_data[\"Parch\"] > 0]) / len(first_class_data)))\n",
    "\n",
    "# plot second-class parents/children count histogram.\n",
    "ax_two = figure_temp.add_subplot(132)\n",
    "ax_two.hist(second_class_data[\"Parch\"],\n",
    "            bins=3,\n",
    "            edgecolor=\"black\",\n",
    "            color=\"orange\",\n",
    "            label=\"Second Class\\nParent/Child\\nCount Frequency\")\n",
    "plt.title(\"Training Data Second Class\\nParent/Child Histogram\")\n",
    "plt.xlabel(\"Number of Parents/Children\")\n",
    "plt.ylabel(\"Frequency\")\n",
    "plt.xticks([0, 1, 2, 3])\n",
    "plt.legend(loc=\"upper right\")\n",
    "\n",
    "# print percentage of second-class passengers with non-zero \"Parch\" entries.\n",
    "print(\"Percentage of Second Class passengers with parents/children on board: \" +\n",
    "      \"{:.2%}\".format(len(second_class_data[second_class_data[\"Parch\"] > 0]) / len(second_class_data)))\n",
    "\n",
    "# print third-class parents/children count histogram.\n",
    "ax_three = figure_temp.add_subplot(133)\n",
    "ax_three.hist(third_class_data[\"Parch\"],\n",
    "              bins=6,\n",
    "              edgecolor=\"black\",\n",
    "              color=\"purple\",\n",
    "              label=\"Third Class\\nParent/Child\\nCount Frequency\")\n",
    "plt.title(\"Training Data Third Class\\nParent/Children Histogram\")\n",
    "plt.xlabel(\"Number of Parents/Children\")\n",
    "plt.ylabel(\"Frequency\")\n",
    "plt.xticks(range(0, 7))\n",
    "plt.legend(loc=\"upper right\")\n",
    "\n",
    "# print percentage of third-class passengers with non-zero \"Parch\" entries.\n",
    "print(\"Percentage of Third Class passengers with parents/children on board: \" +\n",
    "      \"{:.2%}\".format(len(third_class_data[third_class_data[\"Parch\"] > 0]) / len(third_class_data)))\n",
    "\n",
    "plt.savefig(\"figure_six_parch_dist_by_class.png\")"
   ],
   "metadata": {
    "collapsed": false,
    "pycharm": {
     "name": "#%%\n"
    }
   }
  },
  {
   "cell_type": "markdown",
   "source": [
    "Surprisingly, our histograms show that the conditional probability\n",
    "that a passenger brings parent(s)/child(ren) with them on the titanic is\n",
    "highest if said passenger is in second class. While this was unexpected, there\n",
    "is one possible logical explanation: quantity increases price. What this refers\n",
    "to is the fact that buying multiple first class tickets costs much more\n",
    "than buying multiple second class tickets. Thus, some passengers who were\n",
    "considered to be in the upper middle and lower upper classes might have chosen\n",
    "to forgo usually affordable first class tickets in favor of less expensive second\n",
    "class tickets in the event that they needed to bring their parent(s)/child(ren) with\n",
    "them. While there is no way for us to prove this directly using our current data, this\n",
    "would certainly be an interesting theory to try and prove in the future using\n",
    "different data. Nonetheless, while our prediction that passengers of higher\n",
    "socio-economic status were more likely to bring parent(s)/child(ren) with them\n",
    "is not entirely as direct as we had hoped, there is still a relationship: second class\n",
    "tickets still cost more than third class tickets, and once again, the probability that\n",
    "a passenger bring their parent(s)/child(ren) with them given their socio-economic\n",
    "status was lowest for passengers with third class tickets. Thus, the statement that\n",
    "those who were of the lowest socio-economic classes generally couldn't afford to bring\n",
    "parent(s)/child(ren) with them is supported by comparison to the second and third class\n",
    "data.\n",
    "\n",
    "Although the \"Parch\" and \"SibSp\" fields were part of different relationships\n",
    "that were useful for analyzing the importance of socio-economic status on the\n",
    "Titanic, they don't seem to have very meaningful relationships with the \"Survived\"\n",
    "field of the data. The correlations between both of these fields and the \"Survived\"\n",
    "field are less than the minimum strength required for a \"small\" effect size. Thus,\n",
    "we can predict that these data features will not be very useful in predicting whether\n",
    "a passenger has survived or not.\n",
    "\n",
    "Now, let us try to determine if there is relationship between survival and\n",
    "some categorical data fields in our data: \"Pclass,\" Sex,\" \"Embarked,\" and\n",
    "\"Dletter\". We can first attempt calculating the pairwise Pearson correlation\n",
    "coefficients for each possible pair of categorical data fields."
   ],
   "metadata": {
    "collapsed": false,
    "pycharm": {
     "name": "#%% md\n"
    }
   }
  },
  {
   "cell_type": "code",
   "execution_count": 75,
   "outputs": [],
   "source": [
    "# create categorical data set and calculate pairwise Pearson correlations.\n",
    "pearson_categorical = train_data[[\"Survived\", \"Pclass\", \"Sex\", \"Embarked\", \"Dletter\"]]\n",
    "pearson_correlation = pearson_categorical.corr(method=\"pearson\")"
   ],
   "metadata": {
    "collapsed": false,
    "pycharm": {
     "name": "#%%\n"
    }
   }
  },
  {
   "cell_type": "code",
   "execution_count": 76,
   "outputs": [
    {
     "data": {
      "text/plain": "<Figure size 504x288 with 2 Axes>",
      "image/png": "[encoded data removed]"
     },
     "metadata": {
      "needs_background": "light"
     },
     "output_type": "display_data"
    }
   ],
   "source": [
    "# plot heatmap.\n",
    "plt.figure(figsize=(7, 4))\n",
    "sb.heatmap(pearson_correlation, annot=True)\n",
    "plt.title(\"Training Data Categorical Fields\\nPearson Correlation Heatmap\")\n",
    "\n",
    "plt.savefig(\"figure_seven_categorical_heatmap.png\")"
   ],
   "metadata": {
    "collapsed": false,
    "pycharm": {
     "name": "#%%\n"
    }
   }
  },
  {
   "cell_type": "markdown",
   "source": [
    "It appears that of the categorical fields, the \"Sex,\" \"Dletter,\" and \"Pclass\"\n",
    "fields have the highest correlation with the \"Survived\" field. However,\n",
    "these values may be somewhat misleading. For instance, both the \"Sex\" and\n",
    "\"Survived\" fields have only two possible values: 0 and 1. Therefore,\n",
    "it is much more likely that these two fields will show higher correlations\n",
    "with each other because patterns and trends appear much more commonly\n",
    "between data fields whose entries draw their values from a small range of\n",
    "discrete numbers. The fact that both data fields are discrete is already a\n",
    "potential issue when using Pearson correlation coefficient, but layering on\n",
    "top of this the facts that both fields only have two possible values and that\n",
    "these possible values come from the same range of values might only be making\n",
    "these calculations all the less meaningful."
   ],
   "metadata": {
    "collapsed": false,
    "pycharm": {
     "name": "#%% md\n"
    }
   }
  },
  {
   "cell_type": "code",
   "execution_count": 77,
   "outputs": [
    {
     "data": {
      "text/plain": "<Figure size 720x360 with 2 Axes>",
      "image/png": "[encoded data removed]"
     },
     "metadata": {
      "needs_background": "light"
     },
     "output_type": "display_data"
    }
   ],
   "source": [
    "males = train_data.loc[(train_data['Survived'] == 1) & (train_data['Sex'] == 0), \"Survived\"]\n",
    "females = train_data.loc[(train_data['Survived'] == 1) & (train_data['Sex'] == 1), \"Survived\"]\n",
    "\n",
    "x_axis = [\"Male\", \"Female\"]\n",
    "y_axis = [len(males), len(females)]\n",
    "\n",
    "figure_temp = plt.figure(figsize=(10, 5))\n",
    "\n",
    "ax_one = figure_temp.add_subplot(121)\n",
    "ax_one.bar(x_axis, y_axis,\n",
    "           color=\"green\",\n",
    "           edgecolor=\"black\",\n",
    "           label=\"Survivor Count\")\n",
    "plt.title(\"Distribution of Survivors by Sex\")\n",
    "plt.xlabel(\"Sex\")\n",
    "plt.ylabel(\"Survivor Count\")\n",
    "plt.legend(loc=\"upper left\")\n",
    "\n",
    "males = train_data.loc[(train_data['Survived'] == 0) & (train_data['Sex'] == 0), \"Survived\"]\n",
    "females = train_data.loc[(train_data['Survived'] == 0) & (train_data['Sex'] == 1), \"Survived\"]\n",
    "\n",
    "x_axis = [\"Male\", \"Female\"]\n",
    "y_axis = [len(males), len(females)]\n",
    "\n",
    "ax_two = figure_temp.add_subplot(122)\n",
    "ax_two.bar(x_axis, y_axis,\n",
    "           color=\"red\",\n",
    "           edgecolor=\"black\",\n",
    "           label=\"Victim Count\")\n",
    "plt.title(\"Distribution of Victims by Sex\")\n",
    "plt.xlabel(\"Sex\")\n",
    "plt.ylabel(\"Victim Count\")\n",
    "plt.legend(loc=\"upper right\")\n",
    "\n",
    "plt.savefig(\"figure_eight_survival_sex_dist.png\")"
   ],
   "metadata": {
    "collapsed": false,
    "pycharm": {
     "name": "#%%\n"
    }
   }
  },
  {
   "cell_type": "markdown",
   "source": [
    "Similarly, the \"Dletter\" and \"Survived\" fields are both discrete. The difference\n",
    "here, though, is that the \"Dletter\" field has a comparatively larger set of values\n",
    "its entries can assume. Even though the data is more spread in this comparison between\n",
    "\"Survived\" and \"Dletter,\" it too, is most likely misleading. Indeed, the\n",
    "gross lack of data about which passengers were assigned to which cabins on the\n",
    "Titanic means that the \"Dletter\" field has many entries with default \"NaN\" values,\n",
    "indicating an initial lack of information about where the associated passenger\n",
    "was boarding on the ship. Let's analyze this further using bar graphs."
   ],
   "metadata": {
    "collapsed": false,
    "pycharm": {
     "name": "#%% md\n"
    }
   }
  },
  {
   "cell_type": "code",
   "execution_count": 78,
   "outputs": [
    {
     "data": {
      "text/plain": "<Figure size 720x360 with 2 Axes>",
      "image/png": "[encoded data removed]"
     },
     "metadata": {
      "needs_background": "light"
     },
     "output_type": "display_data"
    }
   ],
   "source": [
    "# create matplotlib figure space.\n",
    "figure_temp = plt.figure(figsize=(10, 5))\n",
    "\n",
    "# plot the death count data by deck letter.\n",
    "temp = train_data[train_data[\"Survived\"] == 0]\n",
    "temp = temp.groupby(\"Dletter\")[\"Survived\"].count()\n",
    "temp = temp.reset_index()\n",
    "\n",
    "ax_one = figure_temp.add_subplot(121)\n",
    "ax_one.bar(x=temp[\"Dletter\"],\n",
    "           height=temp[\"Survived\"],\n",
    "           label=\"Death Count by\\nDeck Letter\",\n",
    "           edgecolor=\"black\",\n",
    "           color=\"red\")\n",
    "plt.title(\"Training Data Death Count by\\nDeck Letter Barplot\")\n",
    "plt.legend(loc=\"upper left\")\n",
    "plt.xlabel(\"Encoded Deck Letters\\n(Ordered by Depth; 7 = NaN)\")\n",
    "plt.ylabel(\"Death Count\")\n",
    "plt.yticks(range(0, 525, 25))\n",
    "plt.xticks(range(0, 8))\n",
    "\n",
    "# plot the survival count by deck letter.\n",
    "temp = train_data[train_data[\"Survived\"] == 1]\n",
    "temp = temp.groupby(\"Dletter\")[\"Survived\"].count()\n",
    "temp = temp.reset_index()\n",
    "\n",
    "ax_two = figure_temp.add_subplot(122)\n",
    "ax_two.bar(x=temp[\"Dletter\"],\n",
    "           height=temp[\"Survived\"],\n",
    "           label=\"Survival Count by\\nDeck Letter\",\n",
    "           edgecolor=\"black\",\n",
    "           color=\"green\")\n",
    "plt.title(\"Training Data Survival Count by\\nDeck Letter Barplot\")\n",
    "plt.legend(loc=\"upper left\")\n",
    "plt.xlabel(\"Encoded Deck Letters\\n(Ordered by Depth; 7 = NaN)\")\n",
    "plt.ylabel(\"Survival Count\")\n",
    "plt.yticks(range(0, 225, 25))\n",
    "plt.xticks(range(0, 8))\n",
    "\n",
    "plt.savefig(\"figure_nine_survival_dletter_dist.png\")"
   ],
   "metadata": {
    "collapsed": false,
    "pycharm": {
     "name": "#%%\n"
    }
   }
  },
  {
   "cell_type": "markdown",
   "source": [
    "The majority of passenger records in the data set have the \"NaN\" placeholder\n",
    "string in their \"Dletter\" field. This follows from what we knew about the original\n",
    "\"Cabin\" field that came with the data set: because the majority of the records\n",
    "were missing entries in the \"Cabin\" field, these same records will be given the\n",
    "\"NaN\" placeholder string so the data can still be used. Thus, we should try to see what\n",
    "we get when we don't include \"NaN\" placeholder string entries."
   ],
   "metadata": {
    "collapsed": false,
    "pycharm": {
     "name": "#%% md\n"
    }
   }
  },
  {
   "cell_type": "code",
   "execution_count": 79,
   "outputs": [
    {
     "data": {
      "text/plain": "<Figure size 720x360 with 2 Axes>",
      "image/png": "[encoded data removed]"
     },
     "metadata": {
      "needs_background": "light"
     },
     "output_type": "display_data"
    }
   ],
   "source": [
    "# create matplotlib figure space.\n",
    "figure_temp = plt.figure(figsize=(10, 5))\n",
    "\n",
    "# plot the death count data by deck letter.\n",
    "temp = train_data[train_data[\"Survived\"] == 0]\n",
    "temp = temp[temp[\"Dletter\"] != 7]\n",
    "temp = temp.groupby(\"Dletter\")[\"Survived\"].count()\n",
    "temp = temp.reset_index()\n",
    "\n",
    "ax_one = figure_temp.add_subplot(121)\n",
    "ax_one.bar(x=temp[\"Dletter\"],\n",
    "           height=temp[\"Survived\"],\n",
    "           label=\"Death Count by\\nDeck Letter\",\n",
    "           edgecolor=\"black\",\n",
    "           color=\"red\")\n",
    "plt.title(\"Training Data Death Count by\\nDeck Letter Barplot\")\n",
    "plt.legend(loc=\"upper right\")\n",
    "plt.xlabel(\"Encoded Deck Letters\\n(Ordered by Depth, Not Including NaN)\")\n",
    "plt.ylabel(\"Death Count\")\n",
    "plt.yticks(range(0, 35, 5))\n",
    "plt.xticks(range(0, 7))\n",
    "\n",
    "# plot the survival count by deck letter.\n",
    "temp = train_data[train_data[\"Survived\"] == 1]\n",
    "temp = temp[temp[\"Dletter\"] != 7]\n",
    "temp = temp.groupby(\"Dletter\")[\"Survived\"].count()\n",
    "temp = temp.reset_index()\n",
    "\n",
    "ax_two = figure_temp.add_subplot(122)\n",
    "ax_two.bar(x=temp[\"Dletter\"],\n",
    "           height=temp[\"Survived\"],\n",
    "           label=\"Survival Count by\\nDeck Letter\",\n",
    "           edgecolor=\"black\",\n",
    "           color=\"green\")\n",
    "plt.title(\"Training Data Survival Count by\\nDeck Letter Barplot\")\n",
    "plt.legend(loc=\"upper right\")\n",
    "plt.xlabel(\"Encoded Deck Letters\\n(Ordered by Depth, Not Including NaN)\")\n",
    "plt.ylabel(\"Survival Count\")\n",
    "plt.yticks(range(0, 45, 5))\n",
    "plt.xticks(range(0, 7))\n",
    "\n",
    "plt.savefig(\"figure_ten_updated_survival_dletter_dist.png\")"
   ],
   "metadata": {
    "collapsed": false,
    "pycharm": {
     "name": "#%%\n"
    }
   }
  },
  {
   "cell_type": "markdown",
   "source": [
    "These updated bar plots seem to indicate that more passengers who\n",
    "were residing in cabins on the middle decks of the ship survived than\n",
    "those in the far upper and far lower decks. Specifically, of the records\n",
    "without \"NaN\" placeholder strings in their \"Dletter\" fields, more passengers\n",
    "on decks B, C, D, and E survived (the respective encodings of these decks, in\n",
    "order, are 1, 2, 3, and 4). Based on the data we have, it would be\n",
    "difficult to formulate any concrete reasons for this observation. However,\n",
    "one can speculate that these decks might have been supplied with a larger\n",
    "number of lifeboats. Regardless, by comparing the two sets of\n",
    "histograms, it is somewhat apparent that the reason for the strong correlation\n",
    "between the \"Survived\" and \"Dletter\" fields is the overwhelming quantity\n",
    "of records containing the \"NaN\" placeholder string. Because the number\n",
    "of \"NaN\" placeholder string \"Dletter\" records is much larger than the number\n",
    "of records with actual deck letters in the \"Dletter\" field, it makes sense\n",
    "that more people with \"NaN\" string placeholders in their \"Dletter\" fields would've\n",
    "survived and died. Thus, there is an inherent correlation between the\n",
    "\"Dletter\" and \"Survived\" fields: of the over 600 records with \"NaN\" placeholder\n",
    "strings in their \"Dletter\" fields, the majority of the associated passengers died\n",
    "in the tragedy, so a recognizably negative relationship between the \"Survived\" and\n",
    "\"Dletter\" fields seems like a logical result. Because the correlation is most likely\n",
    "artificial, then, it seems that the model would be better off if the \"Dletter\"\n",
    "feature was not included.\n",
    "\n",
    "A similar phenomena most likely explains the relatively strong relationship\n",
    "between the \"Pclass\" and \"Dletter,\" but let's analyze this before\n",
    "we settle on this conclusion."
   ],
   "metadata": {
    "collapsed": false,
    "pycharm": {
     "name": "#%% md\n"
    }
   }
  },
  {
   "cell_type": "code",
   "execution_count": 80,
   "outputs": [
    {
     "data": {
      "text/plain": "<Figure size 360x360 with 1 Axes>",
      "image/png": "[encoded data removed]"
     },
     "metadata": {},
     "output_type": "display_data"
    }
   ],
   "source": [
    "first_class_nan = train_data.loc[(train_data[\"Dletter\"] == 7) & (train_data[\"Pclass\"] == 1), \"Survived\"]\n",
    "second_class_nan = train_data.loc[(train_data[\"Dletter\"] == 7) & (train_data[\"Pclass\"] == 2), \"Survived\"]\n",
    "third_class_nan = train_data.loc[(train_data[\"Dletter\"] == 7) & (train_data[\"Pclass\"] == 3), \"Survived\"]\n",
    "\n",
    "labels = [\"First Class\", \"Second Class\", \"Third Class\"]\n",
    "lengths = [len(first_class_nan), len(second_class_nan), len(third_class_nan)]\n",
    "\n",
    "plt.figure(figsize=(5, 5))\n",
    "plt.pie(lengths, labels=labels, autopct=\"%.2f%%\")\n",
    "plt.title(\"Class Distribution in \\\"Dletter\\\" Field\\n\\\"NaN\\\" Placeholder String Records\")\n",
    "plt.legend(loc=\"upper left\", title=\"Ticket Class\")\n",
    "\n",
    "plt.savefig(\"figure_eleven_class_dist_dletter_nan.png\")"
   ],
   "metadata": {
    "collapsed": false,
    "pycharm": {
     "name": "#%%\n"
    }
   }
  },
  {
   "cell_type": "markdown",
   "source": [
    "Our prediction was most likely true, then: the majority of the records\n",
    "with \"NaN\" placeholder strings in the \"Dletter\" field are associated with\n",
    "passengers who owned third class tickets. Thus, the correlation between\n",
    "\"Pclass\" and \"Dletter\" makes sense. The sheer number of such records, coupled\n",
    "with the fact that a large majority of them are associated with passengers who\n",
    "owned third class tickets, means that the correlation coefficient between the\n",
    "two data features has the potential to be relatively large. This was, in fact,\n",
    "the case with the correlation coefficient we observed."
   ],
   "metadata": {
    "collapsed": false,
    "pycharm": {
     "name": "#%% md\n"
    }
   }
  },
  {
   "cell_type": "markdown",
   "source": [
    "Now, let us analyze the relationship between the \"Survived\" and \"Embarked\"\n",
    "fields."
   ],
   "metadata": {
    "collapsed": false,
    "pycharm": {
     "name": "#%% md\n"
    }
   }
  },
  {
   "cell_type": "code",
   "execution_count": 81,
   "outputs": [
    {
     "data": {
      "text/plain": "<Figure size 720x360 with 2 Axes>",
      "image/png": "[encoded data removed]"
     },
     "metadata": {},
     "output_type": "display_data"
    }
   ],
   "source": [
    "southampton = train_data.loc[(train_data[\"Embarked\"] == 0) & (train_data[\"Survived\"] == 1), \"Embarked\"]\n",
    "cherbourg = train_data.loc[(train_data[\"Embarked\"] == 1) & (train_data[\"Survived\"] == 1), \"Embarked\"]\n",
    "queenstown = train_data.loc[(train_data[\"Embarked\"] == 2) & (train_data[\"Survived\"] == 1), \"Embarked\"]\n",
    "\n",
    "labels = [\"Southampton\", \"Cherbourg\", \"Queenstown\"]\n",
    "lengths = [len(southampton), len(cherbourg), len(queenstown)]\n",
    "\n",
    "figure_temp = plt.figure(figsize=(10, 5))\n",
    "\n",
    "ax_one = figure_temp.add_subplot(121)\n",
    "ax_one.pie(lengths, labels=labels, autopct=\"%.2f%%\")\n",
    "plt.title(\"Survival by Ports of Embarkation\")\n",
    "plt.legend(loc=\"upper right\", title=\"Ports of Embarkation\")\n",
    "\n",
    "southampton = train_data.loc[(train_data[\"Embarked\"] == 0) & (train_data[\"Survived\"] == 0), \"Embarked\"]\n",
    "cherbourg = train_data.loc[(train_data[\"Embarked\"] == 1) & (train_data[\"Survived\"] == 0), \"Embarked\"]\n",
    "queenstown = train_data.loc[(train_data[\"Embarked\"] == 2) & (train_data[\"Survived\"] == 0), \"Embarked\"]\n",
    "\n",
    "labels = [\"Southampton\", \"Cherbourg\", \"Queenstown\"]\n",
    "lengths = [len(southampton), len(cherbourg), len(queenstown)]\n",
    "\n",
    "ax_two = figure_temp.add_subplot(122)\n",
    "ax_two.pie(lengths, labels=labels, autopct=\"%.2f%%\")\n",
    "plt.title(\"Death by Ports of Embarkation\")\n",
    "plt.legend(loc=\"upper right\", title=\"Ports of Embarkation\")\n",
    "\n",
    "plt.savefig(\"figure_twelve_survival_embarkation_dist.png\")"
   ],
   "metadata": {
    "collapsed": false,
    "pycharm": {
     "name": "#%%\n"
    }
   }
  },
  {
   "cell_type": "markdown",
   "source": [
    "Based on these previous plots, it appears that the majority of survivors\n",
    "embarked from Southampton, and the majority of victims also embarked from\n",
    "Southampton. This makes sense as Southampton was the Titanic's port of\n",
    "origin: it began its ill-fated journey there, and most of its passengers\n",
    "boarded at this point.\n",
    "\n",
    "Finally, let us explore the correlation between the \"Pclass\" and \"Survived\"\n",
    "fields."
   ],
   "metadata": {
    "collapsed": false,
    "pycharm": {
     "name": "#%% md\n"
    }
   }
  },
  {
   "cell_type": "code",
   "source": [
    "figure_temp = plt.figure(figsize=(10, 5))\n",
    "\n",
    "first_class_survived = train_data.loc[(train_data[\"Pclass\"] == 1) & (train_data[\"Survived\"] == 1), \"Pclass\"]\n",
    "second_class_survived = train_data.loc[(train_data[\"Pclass\"] == 2) & (train_data[\"Survived\"] == 1), \"Pclass\"]\n",
    "third_class_survived = train_data.loc[(train_data[\"Pclass\"] == 3) & (train_data[\"Survived\"] == 1), \"Pclass\"]\n",
    "\n",
    "labels = [\"First Class\", \"Second Class\", \"Third Class\"]\n",
    "lengths = [len(first_class_survived), len(second_class_survived), len(third_class_survived)]\n",
    "\n",
    "ax_one = figure_temp.add_subplot(121)\n",
    "ax_one.pie(lengths, labels=labels, autopct=\"%.2f%%\")\n",
    "plt.title(\"Survival Distribution by Ticket Class\")\n",
    "plt.legend(loc=\"upper left\", title=\"Ticket Class\")\n",
    "\n",
    "first_class_died = train_data.loc[(train_data[\"Pclass\"] == 1) & (train_data[\"Survived\"] == 0), \"Pclass\"]\n",
    "second_class_died = train_data.loc[(train_data[\"Pclass\"] == 2) & (train_data[\"Survived\"] == 0), \"Pclass\"]\n",
    "third_class_died = train_data.loc[(train_data[\"Pclass\"] == 3) & (train_data[\"Survived\"] == 0), \"Pclass\"]\n",
    "\n",
    "labels = [\"First Class\", \"Second Class\", \"Third Class\"]\n",
    "lengths = [len(first_class_died), len(second_class_died), len(third_class_died)]\n",
    "\n",
    "ax_two = figure_temp.add_subplot(122)\n",
    "ax_two.pie(lengths, labels=labels, autopct=\"%.2f%%\")\n",
    "plt.title(\"Death Distribution by Ticket Class\")\n",
    "plt.legend(loc=\"upper left\", title=\"Ticket Class\")\n",
    "\n",
    "plt.savefig(\"figure_fourteen_survival_pclass_pies_dist.png\")"
   ],
   "metadata": {
    "collapsed": false,
    "pycharm": {
     "name": "#%%\n"
    }
   },
   "execution_count": 82,
   "outputs": [
    {
     "data": {
      "text/plain": "<Figure size 720x360 with 2 Axes>",
      "image/png": "[encoded data removed]"
     },
     "metadata": {},
     "output_type": "display_data"
    }
   ]
  },
  {
   "cell_type": "markdown",
   "source": [
    "It looks like the survivors of the Titanic tragedy are evenly distributed\n",
    "among ticket classes, but the victims mostly owned third class tickets, while\n",
    "first class ticket-owning victims were relatively rare. This seems like a direct\n",
    "indication of the relationship between socio-economic class and chances or survival.\n",
    "\n",
    "At this point, we have enough information to start modelling. Let us first create a\n",
    "baseline model to be used in evaluating our models. In this baseline model, we\n",
    "should use very few parameters: we will two of the more meaningful fields in the data,\n",
    "one numeric, one categorical."
   ],
   "metadata": {
    "collapsed": false,
    "pycharm": {
     "name": "#%% md\n"
    }
   }
  },
  {
   "cell_type": "code",
   "execution_count": 83,
   "outputs": [],
   "source": [
    "x_baseline = train_data[[\"log(Fare)\", \"Pclass\"]]\n",
    "y_baseline = train_data[\"Survived\"]\n",
    "\n",
    "x_baseline_train, x_baseline_test,\\\n",
    "y_baseline_train, y_baseline_test = train_test_split(x_baseline,\n",
    "                                                     y_baseline,\n",
    "                                                     test_size=0.3,\n",
    "                                                     random_state=0)"
   ],
   "metadata": {
    "collapsed": false,
    "pycharm": {
     "name": "#%%\n"
    }
   }
  },
  {
   "cell_type": "code",
   "execution_count": 84,
   "outputs": [],
   "source": [
    "baseline_log_reg = LogisticRegression()\n",
    "baseline_log_reg.fit(x_baseline_train, y_baseline_train)\n",
    "y_predict_baseline_log_reg = baseline_log_reg.predict(x_baseline_test)"
   ],
   "metadata": {
    "collapsed": false,
    "pycharm": {
     "name": "#%%\n"
    }
   }
  },
  {
   "cell_type": "code",
   "source": [
    "def c_matrix(matrix):\n",
    "    return pd.DataFrame(matrix, columns=[\"Predicted True\", \"Predicted False\"], index=[\"Actual True\", \"Actual False\"])"
   ],
   "metadata": {
    "collapsed": false,
    "pycharm": {
     "name": "#%%\n"
    }
   },
   "execution_count": 85,
   "outputs": []
  },
  {
   "cell_type": "code",
   "execution_count": 86,
   "outputs": [
    {
     "data": {
      "text/plain": "              Predicted True  Predicted False\nActual True               41               57\nActual False              20              143",
      "text/html": "<div>\n<style scoped>\n    .dataframe tbody tr th:only-of-type {\n        vertical-align: middle;\n    }\n\n    .dataframe tbody tr th {\n        vertical-align: top;\n    }\n\n    .dataframe thead th {\n        text-align: right;\n    }\n</style>\n<table border=\"1\" class=\"dataframe\">\n  <thead>\n    <tr style=\"text-align: right;\">\n      <th></th>\n      <th>Predicted True</th>\n      <th>Predicted False</th>\n    </tr>\n  </thead>\n  <tbody>\n    <tr>\n      <th>Actual True</th>\n      <td>41</td>\n      <td>57</td>\n    </tr>\n    <tr>\n      <th>Actual False</th>\n      <td>20</td>\n      <td>143</td>\n    </tr>\n  </tbody>\n</table>\n</div>"
     },
     "execution_count": 86,
     "metadata": {},
     "output_type": "execute_result"
    }
   ],
   "source": [
    "conf_matrix_baseline_log_reg = confusion_matrix(y_baseline_test,\n",
    "                                                y_predict_baseline_log_reg,\n",
    "                                                labels=[1, 0])\n",
    "conf_matrix_baseline_log_reg = c_matrix(conf_matrix_baseline_log_reg)\n",
    "conf_matrix_baseline_log_reg"
   ],
   "metadata": {
    "collapsed": false,
    "pycharm": {
     "name": "#%%\n"
    }
   }
  },
  {
   "cell_type": "markdown",
   "source": [
    "Acccording to our confusion matrix, the baseline logistic regression\n",
    "model accurately predicted 41 true positives and 143 true negatives, but\n",
    "it also predicted 57 false negatives and 20 false positives."
   ],
   "metadata": {
    "collapsed": false,
    "pycharm": {
     "name": "#%% md\n"
    }
   }
  },
  {
   "cell_type": "code",
   "execution_count": 87,
   "outputs": [
    {
     "name": "stdout",
     "output_type": "stream",
     "text": [
      "Accuracy: 0.7049808429118773\n",
      "Precision: 0.6721311475409836\n",
      "Recall: 0.41836734693877553\n",
      "F-Score: 0.5157232704402516\n"
     ]
    }
   ],
   "source": [
    "print(f\"Accuracy: {accuracy_score(y_baseline_test, y_predict_baseline_log_reg)}\")\n",
    "print(f\"Precision: {precision_score(y_baseline_test, y_predict_baseline_log_reg)}\")\n",
    "print(f\"Recall: {recall_score(y_baseline_test, y_predict_baseline_log_reg)}\")\n",
    "print(f\"F-Score: {f1_score(y_baseline_test, y_predict_baseline_log_reg)}\")"
   ],
   "metadata": {
    "collapsed": false,
    "pycharm": {
     "name": "#%%\n"
    }
   }
  },
  {
   "cell_type": "markdown",
   "source": [
    "While the model has a relatively high accuracy, its precision is a bit lower\n",
    "than the accuracy, and the recal is less than 0.50. The overall F-score was\n",
    "approximately 0.5157, making it a mediocre model in general, but not\n",
    "too shabby for a baseline model."
   ],
   "metadata": {
    "collapsed": false,
    "pycharm": {
     "name": "#%% md\n"
    }
   }
  },
  {
   "cell_type": "code",
   "source": [
    "y_predict_baseline_log_reg_probability = baseline_log_reg.predict_proba(x_baseline_test)[::,1]\n",
    "fpr, tpr, _ = roc_curve(y_baseline_test, y_predict_baseline_log_reg_probability)\n",
    "auc_baseline_log_reg = roc_auc_score(y_baseline_test, y_predict_baseline_log_reg_probability)"
   ],
   "metadata": {
    "collapsed": false,
    "pycharm": {
     "name": "#%%\n"
    }
   },
   "execution_count": 88,
   "outputs": []
  },
  {
   "cell_type": "code",
   "execution_count": 89,
   "outputs": [
    {
     "data": {
      "text/plain": "<Figure size 432x288 with 1 Axes>",
      "image/png": "[encoded data removed]"
     },
     "metadata": {
      "needs_background": "light"
     },
     "output_type": "display_data"
    }
   ],
   "source": [
    "plot_roc_curve(baseline_log_reg, x_baseline_test, y_baseline_test,\n",
    "               color=\"aqua\")\n",
    "plt.savefig(\"figure_fifteen_baseline_roc.png\")"
   ],
   "metadata": {
    "collapsed": false,
    "pycharm": {
     "name": "#%%\n"
    }
   }
  },
  {
   "cell_type": "markdown",
   "source": [
    "The ROC curve is somewhat close to the imaginary diagonal running from\n",
    "(0.0, 0.0) to (1.0, 1.0). However, the area under the ROC Curve isn't\n",
    "to bad.\n",
    "\n",
    "Now let's try to create four more models that do a much better job than this baseline\n",
    "model in predicting the survival or death of a given passenger on the Titanic.\n",
    "We will use the more meaningful data features in our upcoming models: \"Pclass,\"\n",
    "\"Sex,\" \"SibSp,\" and \"log(Fare).\" The models we will implement are logistic\n",
    "regression, stochastic gradient descent classifier, decision tree, and k-nearest\n",
    "neighbor.\n",
    "\n",
    "First, let's split the entire training data set into a smaller training\n",
    "data set and another data set that we can use to evaluate the performance\n",
    "of our models."
   ],
   "metadata": {
    "collapsed": false,
    "pycharm": {
     "name": "#%% md\n"
    }
   }
  },
  {
   "cell_type": "code",
   "execution_count": 90,
   "outputs": [],
   "source": [
    "x = train_data[[\"Pclass\", \"Sex\", \"SibSp\", \"log(Fare)\"]]\n",
    "y = train_data[\"Survived\"]\n",
    "\n",
    "x_train, x_test, y_train, y_test = train_test_split(x, y,\n",
    "                                                    test_size = 0.3,\n",
    "                                                    random_state=0)\n",
    "\n",
    "x_cross, x_cross_two, y_cross, y_cross_two = train_test_split(x_train, y_train,\n",
    "                                                      test_size=0.5,\n",
    "                                                      random_state=0)"
   ],
   "metadata": {
    "collapsed": false,
    "pycharm": {
     "name": "#%%\n"
    }
   }
  },
  {
   "cell_type": "markdown",
   "source": [
    "We can now start creating our models. Let's create a Logistic Regression\n",
    "Model first. Logistic Regression is an application of Linear/Non-Linear\n",
    "Regression to classification problems; instead of determining the algebraic\n",
    "equation that best describes the relationship between two variables, it\n",
    "determines the boundary line that best separates two distinct classes of data.\n",
    "Logistic Regression is specifically used for binary classification problems:\n",
    "problems which attempt to label data points with one of only two possible\n",
    "classes."
   ],
   "metadata": {
    "collapsed": false,
    "pycharm": {
     "name": "#%% md\n"
    }
   }
  },
  {
   "cell_type": "code",
   "execution_count": 91,
   "outputs": [],
   "source": [
    "log_reg = LogisticRegression()\n",
    "log_reg.fit(x_train, y_train)\n",
    "y_predict_log_reg = log_reg.predict(x_test)"
   ],
   "metadata": {
    "collapsed": false,
    "pycharm": {
     "name": "#%%\n"
    }
   }
  },
  {
   "cell_type": "code",
   "execution_count": 92,
   "outputs": [
    {
     "data": {
      "text/plain": "              Predicted True  Predicted False\nActual True               73               25\nActual False              28              135",
      "text/html": "<div>\n<style scoped>\n    .dataframe tbody tr th:only-of-type {\n        vertical-align: middle;\n    }\n\n    .dataframe tbody tr th {\n        vertical-align: top;\n    }\n\n    .dataframe thead th {\n        text-align: right;\n    }\n</style>\n<table border=\"1\" class=\"dataframe\">\n  <thead>\n    <tr style=\"text-align: right;\">\n      <th></th>\n      <th>Predicted True</th>\n      <th>Predicted False</th>\n    </tr>\n  </thead>\n  <tbody>\n    <tr>\n      <th>Actual True</th>\n      <td>73</td>\n      <td>25</td>\n    </tr>\n    <tr>\n      <th>Actual False</th>\n      <td>28</td>\n      <td>135</td>\n    </tr>\n  </tbody>\n</table>\n</div>"
     },
     "execution_count": 92,
     "metadata": {},
     "output_type": "execute_result"
    }
   ],
   "source": [
    "conf_matrix_log_reg = confusion_matrix(y_test,\n",
    "                                       y_predict_log_reg,\n",
    "                                       labels=[1, 0])\n",
    "conf_matrix_log_reg = c_matrix(conf_matrix_log_reg)\n",
    "conf_matrix_log_reg"
   ],
   "metadata": {
    "collapsed": false,
    "pycharm": {
     "name": "#%%\n"
    }
   }
  },
  {
   "cell_type": "markdown",
   "source": [
    "The confusion matrix for our linear regression model seems\n",
    "to indicate a more accurate model than our baseline model: there\n",
    "were 135 true negative predictions, 73 true positive predictions,\n",
    "28 false positive predictions, and 25 false negative predictions."
   ],
   "metadata": {
    "collapsed": false,
    "pycharm": {
     "name": "#%% md\n"
    }
   }
  },
  {
   "cell_type": "code",
   "execution_count": 93,
   "outputs": [
    {
     "name": "stdout",
     "output_type": "stream",
     "text": [
      "Accuracy: 0.7969348659003831\n",
      "Precision: 0.7227722772277227\n",
      "Recall: 0.7448979591836735\n",
      "F-Score: 0.7336683417085428\n"
     ]
    }
   ],
   "source": [
    "print(f\"Accuracy: {accuracy_score(y_test, y_predict_log_reg)}\")\n",
    "print(f\"Precision: {precision_score(y_test, y_predict_log_reg)}\")\n",
    "print(f\"Recall: {recall_score(y_test, y_predict_log_reg)}\")\n",
    "print(f\"F-Score: {f1_score(y_test, y_predict_log_reg)}\")"
   ],
   "metadata": {
    "collapsed": false,
    "pycharm": {
     "name": "#%%\n"
    }
   }
  },
  {
   "cell_type": "markdown",
   "source": [
    "The accuracy of this logistic regression model comparatively\n",
    "higher than that of the baseline logistic regression model, as\n",
    "are the precision and recall. The overall F-score is approximately\n",
    "0.7337, a relatively good value."
   ],
   "metadata": {
    "collapsed": false,
    "pycharm": {
     "name": "#%% md\n"
    }
   }
  },
  {
   "cell_type": "code",
   "execution_count": 94,
   "outputs": [],
   "source": [
    "y_predict_log_reg_probability = log_reg.predict_proba(x_test)[::,1]\n",
    "fpr, tpr, _ = roc_curve(y_test, y_predict_log_reg_probability)\n",
    "auc_log_reg = roc_auc_score(y_test, y_predict_log_reg_probability)"
   ],
   "metadata": {
    "collapsed": false,
    "pycharm": {
     "name": "#%%\n"
    }
   }
  },
  {
   "cell_type": "code",
   "execution_count": 95,
   "outputs": [
    {
     "data": {
      "text/plain": "<Figure size 432x288 with 1 Axes>",
      "image/png": "[encoded data removed]"
     },
     "metadata": {
      "needs_background": "light"
     },
     "output_type": "display_data"
    }
   ],
   "source": [
    "plot_roc_curve(log_reg, x_test, y_test,\n",
    "               color=\"red\")\n",
    "plt.savefig(\"figure_sixteen_log_reg_roc.png\")"
   ],
   "metadata": {
    "collapsed": false,
    "pycharm": {
     "name": "#%%\n"
    }
   }
  },
  {
   "cell_type": "markdown",
   "source": [
    "The ROC Curve for this logistic regression model seems to be much\n",
    "better than that of the baseline model because it is not as close to\n",
    "the imaginary diagonal. Also, the area under the ROC Curve (AUC) is\n",
    "comparatively better.\n",
    "\n",
    "Next, let us try to use a Stochastic Gradient Descent (SGD) Classifier\n",
    "to predict who would survive and who wouldn't. The Stochastic Gradient\n",
    "Descent algorithm is one that is used to the trace a convex function\n",
    "until the absolute minimum is found. Thus, the SGD Classifier is an\n",
    "application of this algorithm to classification problems."
   ],
   "metadata": {
    "collapsed": false,
    "pycharm": {
     "name": "#%% md\n"
    }
   }
  },
  {
   "cell_type": "code",
   "execution_count": 96,
   "outputs": [],
   "source": [
    "stoch_grad_desc = SGDClassifier(loss=\"modified_huber\",\n",
    "                                shuffle=True,\n",
    "                                random_state=57)\n",
    "stoch_grad_desc.fit(x_train, y_train)\n",
    "y_predict_stoch_grad_desc = stoch_grad_desc.predict(x_test)"
   ],
   "metadata": {
    "collapsed": false,
    "pycharm": {
     "name": "#%%\n"
    }
   }
  },
  {
   "cell_type": "code",
   "execution_count": 97,
   "outputs": [
    {
     "data": {
      "text/plain": "              Predicted True  Predicted False\nActual True               74               24\nActual False              37              126",
      "text/html": "<div>\n<style scoped>\n    .dataframe tbody tr th:only-of-type {\n        vertical-align: middle;\n    }\n\n    .dataframe tbody tr th {\n        vertical-align: top;\n    }\n\n    .dataframe thead th {\n        text-align: right;\n    }\n</style>\n<table border=\"1\" class=\"dataframe\">\n  <thead>\n    <tr style=\"text-align: right;\">\n      <th></th>\n      <th>Predicted True</th>\n      <th>Predicted False</th>\n    </tr>\n  </thead>\n  <tbody>\n    <tr>\n      <th>Actual True</th>\n      <td>74</td>\n      <td>24</td>\n    </tr>\n    <tr>\n      <th>Actual False</th>\n      <td>37</td>\n      <td>126</td>\n    </tr>\n  </tbody>\n</table>\n</div>"
     },
     "execution_count": 97,
     "metadata": {},
     "output_type": "execute_result"
    }
   ],
   "source": [
    "conf_matrix_stoch_grad_desc = confusion_matrix(y_test,\n",
    "                                               y_predict_stoch_grad_desc,\n",
    "                                               labels=[1, 0])\n",
    "conf_matrix_stoch_grad_desc = c_matrix(conf_matrix_stoch_grad_desc)\n",
    "conf_matrix_stoch_grad_desc"
   ],
   "metadata": {
    "collapsed": false,
    "pycharm": {
     "name": "#%%\n"
    }
   }
  },
  {
   "cell_type": "markdown",
   "source": [
    "The SGD classifier model has predicted 74 true positives, 126 true negatives,\n",
    "24 false negatives, and 37 false positives."
   ],
   "metadata": {
    "collapsed": false,
    "pycharm": {
     "name": "#%% md\n"
    }
   }
  },
  {
   "cell_type": "code",
   "execution_count": 98,
   "outputs": [
    {
     "name": "stdout",
     "output_type": "stream",
     "text": [
      "Accuracy: 0.7662835249042146\n",
      "Precision: 0.6666666666666666\n",
      "Recall: 0.7551020408163265\n",
      "F-Score: 0.7081339712918658\n"
     ]
    }
   ],
   "source": [
    "print(f\"Accuracy: {accuracy_score(y_test, y_predict_stoch_grad_desc)}\")\n",
    "print(f\"Precision: {precision_score(y_test, y_predict_stoch_grad_desc)}\")\n",
    "print(f\"Recall: {recall_score(y_test, y_predict_stoch_grad_desc)}\")\n",
    "print(f\"F-Score: {f1_score(y_test, y_predict_stoch_grad_desc)}\")"
   ],
   "metadata": {
    "collapsed": false,
    "pycharm": {
     "name": "#%%\n"
    }
   }
  },
  {
   "cell_type": "markdown",
   "source": [
    "The SGD Classifier's accuracy is a bit lower than that of our previous\n",
    "logistic regression model (not the baseline), as is the precision. The\n",
    "recall, however, is a little bit higher than our previous logistic regression\n",
    "model's was (not the baseline). The overall F-score is approximately\n",
    "0.7081. Thus, our best model so far is our logistic regression model\n",
    "(not the baseline), using F-score as the main reference."
   ],
   "metadata": {
    "collapsed": false,
    "pycharm": {
     "name": "#%% md\n"
    }
   }
  },
  {
   "cell_type": "code",
   "execution_count": 99,
   "outputs": [],
   "source": [
    "y_predict_stoch_grad_desc_probability = stoch_grad_desc.predict_proba(x_test)[::,1]\n",
    "fpr, tpr, _ = roc_curve(y_test, y_predict_stoch_grad_desc_probability)\n",
    "auc_stoch_grad_desc = roc_auc_score(y_test, y_predict_stoch_grad_desc_probability)"
   ],
   "metadata": {
    "collapsed": false,
    "pycharm": {
     "name": "#%%\n"
    }
   }
  },
  {
   "cell_type": "code",
   "execution_count": 100,
   "outputs": [
    {
     "data": {
      "text/plain": "<Figure size 432x288 with 1 Axes>",
      "image/png": "[encoded data removed]"
     },
     "metadata": {
      "needs_background": "light"
     },
     "output_type": "display_data"
    }
   ],
   "source": [
    "plot_roc_curve(stoch_grad_desc, x_test, y_test,\n",
    "               color=\"green\")\n",
    "plt.savefig(\"figure_seventeen_stoch_grad_desc_roc.png\")"
   ],
   "metadata": {
    "collapsed": false,
    "pycharm": {
     "name": "#%%\n"
    }
   }
  },
  {
   "cell_type": "markdown",
   "source": [
    "The ROC Curve for the SGD classifier is not quite as good as that\n",
    "of our logistic regression model (not the baseline), but it is still\n",
    "better than that of the baseline. Furthermore, the AUC score of the\n",
    "ROC Curve is also better than that of the baseline model, but worse\n",
    "than that of the logistic regression model.\n",
    "\n",
    "Now, let us try to create a Decision Tree model. A Decision Tree\n",
    "is a tree-like algorithm that is used to make classification\n",
    "decisions through the evaluation of a sequence of boolean comparisons\n",
    "and expressions."
   ],
   "metadata": {
    "collapsed": false,
    "pycharm": {
     "name": "#%% md\n"
    }
   }
  },
  {
   "cell_type": "code",
   "execution_count": 101,
   "outputs": [],
   "source": [
    "dec_tree = DecisionTreeClassifier(max_depth=10,\n",
    "                                  random_state=78,\n",
    "                                  max_features=None,\n",
    "                                  min_samples_leaf=15)\n",
    "dec_tree.fit(x_train, y_train)\n",
    "y_predict_dec_tree = dec_tree.predict(x_test)"
   ],
   "metadata": {
    "collapsed": false,
    "pycharm": {
     "name": "#%%\n"
    }
   }
  },
  {
   "cell_type": "code",
   "execution_count": 102,
   "outputs": [
    {
     "data": {
      "text/plain": "              Predicted True  Predicted False\nActual True               68               30\nActual False              18              145",
      "text/html": "<div>\n<style scoped>\n    .dataframe tbody tr th:only-of-type {\n        vertical-align: middle;\n    }\n\n    .dataframe tbody tr th {\n        vertical-align: top;\n    }\n\n    .dataframe thead th {\n        text-align: right;\n    }\n</style>\n<table border=\"1\" class=\"dataframe\">\n  <thead>\n    <tr style=\"text-align: right;\">\n      <th></th>\n      <th>Predicted True</th>\n      <th>Predicted False</th>\n    </tr>\n  </thead>\n  <tbody>\n    <tr>\n      <th>Actual True</th>\n      <td>68</td>\n      <td>30</td>\n    </tr>\n    <tr>\n      <th>Actual False</th>\n      <td>18</td>\n      <td>145</td>\n    </tr>\n  </tbody>\n</table>\n</div>"
     },
     "execution_count": 102,
     "metadata": {},
     "output_type": "execute_result"
    }
   ],
   "source": [
    "conf_matrix_dec_tree = confusion_matrix(y_test,\n",
    "                                        y_predict_dec_tree,\n",
    "                                        labels=[1, 0])\n",
    "conf_matrix_dec_tree = c_matrix(conf_matrix_dec_tree)\n",
    "conf_matrix_dec_tree"
   ],
   "metadata": {
    "collapsed": false,
    "pycharm": {
     "name": "#%%\n"
    }
   }
  },
  {
   "cell_type": "markdown",
   "source": [
    "The decision tree model has predicted 68 true positives, 145 true negatives,\n",
    "30 false negatives, and 18 false positives."
   ],
   "metadata": {
    "collapsed": false,
    "pycharm": {
     "name": "#%% md\n"
    }
   }
  },
  {
   "cell_type": "code",
   "execution_count": 103,
   "outputs": [
    {
     "name": "stdout",
     "output_type": "stream",
     "text": [
      "Accuracy: 0.8160919540229885\n",
      "Precision: 0.7906976744186046\n",
      "Recall: 0.6938775510204082\n",
      "F-Score: 0.7391304347826086\n"
     ]
    }
   ],
   "source": [
    "print(f\"Accuracy: {accuracy_score(y_test, y_predict_dec_tree)}\")\n",
    "print(f\"Precision: {precision_score(y_test, y_predict_dec_tree)}\")\n",
    "print(f\"Recall: {recall_score(y_test, y_predict_dec_tree)}\")\n",
    "print(f\"F-Score: {f1_score(y_test, y_predict_dec_tree)}\")"
   ],
   "metadata": {
    "collapsed": false,
    "pycharm": {
     "name": "#%%\n"
    }
   }
  },
  {
   "cell_type": "markdown",
   "source": [
    "The accuracy of the decision tree model is the highest of the models\n",
    "we've created so far, as is its precision. Its recall, however, is the lowest\n",
    "of the models we've created (not including the baseline). The overall F-score\n",
    "is aprroximately 0.7391, making it the best model we've created so far (with\n",
    "F-score as the reference)."
   ],
   "metadata": {
    "collapsed": false,
    "pycharm": {
     "name": "#%% md\n"
    }
   }
  },
  {
   "cell_type": "code",
   "execution_count": 104,
   "outputs": [],
   "source": [
    "y_predict_dec_tree_probability = dec_tree.predict_proba(x_test)[::,1]\n",
    "fpr, tpr, _ = roc_curve(y_test, y_predict_dec_tree_probability)\n",
    "auc_dec_tree = roc_auc_score(y_test, y_predict_dec_tree_probability)"
   ],
   "metadata": {
    "collapsed": false,
    "pycharm": {
     "name": "#%%\n"
    }
   }
  },
  {
   "cell_type": "code",
   "execution_count": 105,
   "outputs": [
    {
     "data": {
      "text/plain": "<Figure size 432x288 with 1 Axes>",
      "image/png": "[encoded data removed]"
     },
     "metadata": {
      "needs_background": "light"
     },
     "output_type": "display_data"
    }
   ],
   "source": [
    "plot_roc_curve(dec_tree, x_test, y_test,\n",
    "               color=\"blue\")\n",
    "plt.savefig(\"figure_eighteen_dec_tree_roc.png\")"
   ],
   "metadata": {
    "collapsed": false,
    "pycharm": {
     "name": "#%%\n"
    }
   }
  },
  {
   "cell_type": "markdown",
   "source": [
    "The ROC Curve for the decision tree model is better than those\n",
    "of the baseline and SGD classifier models, but slightly worse than\n",
    "that of the logistic regression model; the same follows for the\n",
    "AUC score.\n",
    "\n",
    "Our last model will be a K-Nearest Neighbors model. A K-Nearest\n",
    "Neighbors (KNN) model uses a relatively straightforward approach:\n",
    "for any given data point, the algorithm inspects its k-nearest\n",
    "\"neighbors\" (closest data points) and labels the data point being\n",
    "classified using the most common class name among these k-nearest\n",
    "neighbors. Before we make our model, let's try to determine what\n",
    "value of k will make our model the most accurate."
   ],
   "metadata": {
    "collapsed": false,
    "pycharm": {
     "name": "#%% md\n"
    }
   }
  },
  {
   "cell_type": "code",
   "execution_count": 106,
   "outputs": [],
   "source": [
    "# source of idea: https://www.geeksforgeeks.org/k-nearest-neighbor-algorithm-in-python/\n",
    "neighbors = np.arange(1, 8)\n",
    "training_accuracy = np.empty(7)\n",
    "testing_accuracy = np.empty(7)"
   ],
   "metadata": {
    "collapsed": false,
    "pycharm": {
     "name": "#%%\n"
    }
   }
  },
  {
   "cell_type": "code",
   "execution_count": 107,
   "outputs": [],
   "source": [
    "# source of idea: https://www.geeksforgeeks.org/k-nearest-neighbor-algorithm-in-python/\n",
    "for k in range(1, 8):\n",
    "    knn = KNeighborsClassifier(n_neighbors=k)\n",
    "    knn.fit(x_train, y_train)\n",
    "\n",
    "    training_accuracy[k - 1] = knn.score(x_train, y_train)\n",
    "    testing_accuracy[k - 1] = knn.score(x_test, y_test)"
   ],
   "metadata": {
    "collapsed": false,
    "pycharm": {
     "name": "#%%\n"
    }
   }
  },
  {
   "cell_type": "code",
   "execution_count": 108,
   "outputs": [
    {
     "data": {
      "text/plain": "<Figure size 432x288 with 1 Axes>",
      "image/png": "[encoded data removed]"
     },
     "metadata": {
      "needs_background": "light"
     },
     "output_type": "display_data"
    }
   ],
   "source": [
    "# source of idea: https://www.geeksforgeeks.org/k-nearest-neighbor-algorithm-in-python/\n",
    "plt.plot(neighbors, testing_accuracy,\n",
    "         label=\"Test Data Accuracy\",\n",
    "         color=\"purple\")\n",
    "plt.plot(neighbors, training_accuracy,\n",
    "         label=\"Training Data Accuracy\",\n",
    "         color=\"orange\")\n",
    "plt.legend(loc=\"upper right\")\n",
    "plt.xlabel(\"Number of Neighbors, k\")\n",
    "plt.ylabel(\"Accuracy\")\n",
    "plt.title(\"Change in Test & Training Data Accuracy\\nwith k Nearest Neighbors\")\n",
    "\n",
    "plt.savefig(\"figure_nineteen_knn_k_det_plot.png\")"
   ],
   "metadata": {
    "collapsed": false,
    "pycharm": {
     "name": "#%%\n"
    }
   }
  },
  {
   "cell_type": "markdown",
   "source": [
    "Based on our most recent plot, it looks like the value of k that makes\n",
    "the KNN model the most accurate is k = 3. Therefore, we should use\n",
    "this value of k in creating our KNN model."
   ],
   "metadata": {
    "collapsed": false,
    "pycharm": {
     "name": "#%% md\n"
    }
   }
  },
  {
   "cell_type": "code",
   "execution_count": 109,
   "outputs": [],
   "source": [
    "knn = KNeighborsClassifier(n_neighbors=3)\n",
    "knn.fit(x_train, y_train)\n",
    "y_predict_knn = knn.predict(x_test)"
   ],
   "metadata": {
    "collapsed": false,
    "pycharm": {
     "name": "#%%\n"
    }
   }
  },
  {
   "cell_type": "code",
   "execution_count": 110,
   "outputs": [
    {
     "data": {
      "text/plain": "              Predicted True  Predicted False\nActual True               68               30\nActual False              19              144",
      "text/html": "<div>\n<style scoped>\n    .dataframe tbody tr th:only-of-type {\n        vertical-align: middle;\n    }\n\n    .dataframe tbody tr th {\n        vertical-align: top;\n    }\n\n    .dataframe thead th {\n        text-align: right;\n    }\n</style>\n<table border=\"1\" class=\"dataframe\">\n  <thead>\n    <tr style=\"text-align: right;\">\n      <th></th>\n      <th>Predicted True</th>\n      <th>Predicted False</th>\n    </tr>\n  </thead>\n  <tbody>\n    <tr>\n      <th>Actual True</th>\n      <td>68</td>\n      <td>30</td>\n    </tr>\n    <tr>\n      <th>Actual False</th>\n      <td>19</td>\n      <td>144</td>\n    </tr>\n  </tbody>\n</table>\n</div>"
     },
     "execution_count": 110,
     "metadata": {},
     "output_type": "execute_result"
    }
   ],
   "source": [
    "conf_matrix_knn = confusion_matrix(y_test,\n",
    "                                   y_predict_knn,\n",
    "                                   labels=[1, 0])\n",
    "conf_matrix_knn = c_matrix(conf_matrix_knn)\n",
    "conf_matrix_knn"
   ],
   "metadata": {
    "collapsed": false,
    "pycharm": {
     "name": "#%%\n"
    }
   }
  },
  {
   "cell_type": "markdown",
   "source": [
    "The KNN model predicted 68 true positives, 144 true negatives,\n",
    "30 false negatives, and 19 false positives."
   ],
   "metadata": {
    "collapsed": false,
    "pycharm": {
     "name": "#%% md\n"
    }
   }
  },
  {
   "cell_type": "code",
   "execution_count": 111,
   "outputs": [
    {
     "name": "stdout",
     "output_type": "stream",
     "text": [
      "Accuracy: 0.8122605363984674\n",
      "Precision: 0.7816091954022989\n",
      "Recall: 0.6938775510204082\n",
      "F-Score: 0.7351351351351352\n"
     ]
    }
   ],
   "source": [
    "print(f\"Accuracy: {accuracy_score(y_test, y_predict_knn)}\")\n",
    "print(f\"Precision: {precision_score(y_test, y_predict_knn)}\")\n",
    "print(f\"Recall: {recall_score(y_test, y_predict_knn)}\")\n",
    "print(f\"F-Score: {f1_score(y_test, y_predict_knn)}\")"
   ],
   "metadata": {
    "collapsed": false,
    "pycharm": {
     "name": "#%%\n"
    }
   }
  },
  {
   "cell_type": "markdown",
   "source": [
    "The KNN model's accuracy is one of the highest of the four\n",
    "(non-baseline) models we've created, second only to the accuracy\n",
    "of the decision tree model; it is the same with the KNN model's\n",
    "precision score. Surprisingly, the KNN model's recall seem to be exactly\n",
    "the same, creating a tie for the lowest recall score of the four models\n",
    "(not including the baseline). The overall F-score of the KNN model\n",
    "is also the second highest of all four (non-baseline) models we've created."
   ],
   "metadata": {
    "collapsed": false,
    "pycharm": {
     "name": "#%% md\n"
    }
   }
  },
  {
   "cell_type": "code",
   "execution_count": 112,
   "outputs": [],
   "source": [
    "y_predict_knn_probability = knn.predict_proba(x_test)[::,1]\n",
    "fpr, tpr, _ = roc_curve(y_test, y_predict_knn_probability)\n",
    "auc_knn = roc_auc_score(y_test, y_predict_knn_probability)"
   ],
   "metadata": {
    "collapsed": false,
    "pycharm": {
     "name": "#%%\n"
    }
   }
  },
  {
   "cell_type": "code",
   "execution_count": 113,
   "outputs": [
    {
     "data": {
      "text/plain": "<Figure size 432x288 with 1 Axes>",
      "image/png": "[encoded data removed]"
     },
     "metadata": {
      "needs_background": "light"
     },
     "output_type": "display_data"
    }
   ],
   "source": [
    "plot_roc_curve(knn, x_test, y_test,\n",
    "               color=\"magenta\")\n",
    "plt.savefig(\"figure_twenty_knn_roc.png\")"
   ],
   "metadata": {
    "collapsed": false,
    "pycharm": {
     "name": "#%%\n"
    }
   }
  },
  {
   "cell_type": "markdown",
   "source": [
    "The ROC curve of the KNN model seems to be in the middle: better than\n",
    "the SGD classifier and baseline ROC Curves, but worse than the\n",
    "logistic regression and decision tree ROC Curves; the same\n",
    "is true for the ROC Curve's AUC score.\n",
    "\n",
    "Overall, each of our four (non-baseline) models seem to be better\n",
    "at predicting a passenger's fate than the baseline model. However,\n",
    "let's try to use cross validation to test our models further. We can\n",
    "use the K-fold method to do this. Let's start with our (non-baseline)\n",
    "logistic regression model."
   ],
   "metadata": {
    "collapsed": false,
    "pycharm": {
     "name": "#%% md\n"
    }
   }
  },
  {
   "cell_type": "code",
   "execution_count": 114,
   "outputs": [],
   "source": [
    "k_fold = KFold(n_splits=5)"
   ],
   "metadata": {
    "collapsed": false,
    "pycharm": {
     "name": "#%%\n"
    }
   }
  },
  {
   "cell_type": "code",
   "execution_count": 115,
   "outputs": [
    {
     "name": "stdout",
     "output_type": "stream",
     "text": [
      "Logistic Regression K-Fold Cross Validation:\n",
      "\n",
      "Fold 1 Accuracy: 0.7868852459016393\n",
      "Fold 1 Precision: 0.7692307692307693\n",
      "Fold 1 Recall: 0.6382978723404256\n",
      "Fold 1 F-score: 0.6976744186046512\n",
      "\n",
      "Fold 2 Accuracy: 0.7540983606557377\n",
      "Fold 2 Precision: 0.6590909090909091\n",
      "Fold 2 Recall: 0.6590909090909091\n",
      "Fold 2 F-score: 0.6590909090909091\n",
      "\n",
      "Fold 3 Accuracy: 0.7950819672131147\n",
      "Fold 3 Precision: 0.7272727272727273\n",
      "Fold 3 Recall: 0.7111111111111111\n",
      "Fold 3 F-score: 0.7191011235955056\n",
      "\n",
      "Fold 4 Accuracy: 0.7851239669421488\n",
      "Fold 4 Precision: 0.7692307692307693\n",
      "Fold 4 Recall: 0.7407407407407407\n",
      "Fold 4 F-score: 0.7547169811320754\n",
      "\n",
      "Fold 5 Accuracy: 0.7520661157024794\n",
      "Fold 5 Precision: 0.7631578947368421\n",
      "Fold 5 Recall: 0.58\n",
      "Fold 5 F-score: 0.6590909090909091\n",
      "\n",
      "K-Fold Average Accuracy: 0.7746511312830239\n",
      "K-Fold Average Precision: 0.7375966139124034\n",
      "K-Fold Average Recall: 0.6658481266566373\n",
      "K-Fold Average F-score: 0.69793486830281\n",
      "\n",
      "Difference Between K-Fold Average Accuracy and Standard Accuracy: -0.02228373461735922\n",
      "Difference Between K-Fold Average Precision and Standard Precision: 0.014824336684680639\n",
      "Difference Between K-Fold Average Recall and Standard Recall: -0.07904983252703623\n",
      "Difference Between K-Fold Average F-score and Standard F-score: -0.03573347340573274\n"
     ]
    }
   ],
   "source": [
    "log_reg_accuracies = []\n",
    "log_reg_precisions = []\n",
    "log_reg_recalls = []\n",
    "log_reg_f_scores = []\n",
    "\n",
    "for train_index, test_index in k_fold.split(x_train):\n",
    "    x_cross_train, x_cross_test = x_train.iloc[train_index,:], x_train.iloc[test_index,:]\n",
    "    y_cross_train, y_cross_test = y_train.iloc[train_index], y_train.iloc[test_index]\n",
    "\n",
    "    log_reg.fit(x_cross_train, y_cross_train)\n",
    "    y_cross_predict_log_reg = log_reg.predict(x_cross_test)\n",
    "\n",
    "    log_reg_accuracies.append(accuracy_score(y_cross_test,\n",
    "                                             y_cross_predict_log_reg))\n",
    "    log_reg_precisions.append(precision_score(y_cross_test,\n",
    "                                              y_cross_predict_log_reg))\n",
    "    log_reg_recalls.append(recall_score(y_cross_test,\n",
    "                                        y_cross_predict_log_reg))\n",
    "    log_reg_f_scores.append(f1_score(y_cross_test,\n",
    "                                     y_cross_predict_log_reg))\n",
    "\n",
    "print(\"Logistic Regression K-Fold Cross Validation:\\n\")\n",
    "\n",
    "for index in range(0, len(log_reg_accuracies)):\n",
    "    print(f\"Fold {index + 1} Accuracy: {log_reg_accuracies[index]}\")\n",
    "    print(f\"Fold {index + 1} Precision: {log_reg_precisions[index]}\")\n",
    "    print(f\"Fold {index + 1} Recall: {log_reg_recalls[index]}\")\n",
    "    print(f\"Fold {index + 1} F-score: {log_reg_f_scores[index]}\\n\")\n",
    "\n",
    "print(f\"K-Fold Average Accuracy: {sum(log_reg_accuracies) / len(log_reg_accuracies)}\")\n",
    "print(f\"K-Fold Average Precision: {sum(log_reg_precisions) / len(log_reg_precisions)}\")\n",
    "print(f\"K-Fold Average Recall: {sum(log_reg_recalls) / len(log_reg_recalls)}\")\n",
    "print(f\"K-Fold Average F-score: {sum(log_reg_f_scores) / len(log_reg_f_scores)}\\n\")\n",
    "\n",
    "print(f\"Difference Between K-Fold Average Accuracy and Standard Accuracy: {(sum(log_reg_accuracies) / len(log_reg_accuracies)) - accuracy_score(y_test, y_predict_log_reg)}\")\n",
    "print(f\"Difference Between K-Fold Average Precision and Standard Precision: {(sum(log_reg_precisions) / len(log_reg_precisions)) - precision_score(y_test, y_predict_log_reg)}\")\n",
    "print(f\"Difference Between K-Fold Average Recall and Standard Recall: {(sum(log_reg_recalls) / len(log_reg_recalls)) - recall_score(y_test, y_predict_log_reg)}\")\n",
    "print(f\"Difference Between K-Fold Average F-score and Standard F-score: {(sum(log_reg_f_scores) / len(log_reg_f_scores)) - f1_score(y_test, y_predict_log_reg)}\")"
   ],
   "metadata": {
    "collapsed": false,
    "pycharm": {
     "name": "#%%\n"
    }
   }
  },
  {
   "cell_type": "markdown",
   "source": [
    "Based on the previous step's results, it appears that the K-Fold\n",
    "cross validation (with k = 5) yielded average accuracy, average recall,\n",
    "and average F-score lower than the model without cross validation's accuracy,\n",
    "recall, and F-score. However, cross validation also yielded greater average\n",
    "precision than the original model's precision.\n",
    "\n",
    "Now, let's try the same analysis with the SGD classifier."
   ],
   "metadata": {
    "collapsed": false,
    "pycharm": {
     "name": "#%% md\n"
    }
   }
  },
  {
   "cell_type": "code",
   "execution_count": 116,
   "outputs": [
    {
     "name": "stdout",
     "output_type": "stream",
     "text": [
      "Stochastic Gradient Descent Classifier K-Fold Cross Validation:\n",
      "\n",
      "Fold 1 Accuracy: 0.7950819672131147\n",
      "Fold 1 Precision: 0.8055555555555556\n",
      "Fold 1 Recall: 0.6170212765957447\n",
      "Fold 1 F-score: 0.6987951807228916\n",
      "\n",
      "Fold 2 Accuracy: 0.6721311475409836\n",
      "Fold 2 Precision: 0.53125\n",
      "Fold 2 Recall: 0.7727272727272727\n",
      "Fold 2 F-score: 0.6296296296296297\n",
      "\n",
      "Fold 3 Accuracy: 0.7868852459016393\n",
      "Fold 3 Precision: 0.9130434782608695\n",
      "Fold 3 Recall: 0.4666666666666667\n",
      "Fold 3 F-score: 0.6176470588235294\n",
      "\n",
      "Fold 4 Accuracy: 0.7520661157024794\n",
      "Fold 4 Precision: 0.7222222222222222\n",
      "Fold 4 Recall: 0.7222222222222222\n",
      "Fold 4 F-score: 0.7222222222222222\n",
      "\n",
      "Fold 5 Accuracy: 0.6942148760330579\n",
      "Fold 5 Precision: 0.782608695652174\n",
      "Fold 5 Recall: 0.36\n",
      "Fold 5 F-score: 0.4931506849315068\n",
      "\n",
      "K-Fold Average Accuracy: 0.740075870478255\n",
      "K-Fold Average Precision: 0.7509359903381643\n",
      "K-Fold Average Recall: 0.5877274876423813\n",
      "K-Fold Average F-score: 0.6322889552659559\n",
      "\n",
      "Difference Between K-Fold Average Accuracy and Standard Accuracy: -0.026207654425959626\n",
      "Difference Between K-Fold Average Precision and Standard Precision: 0.08426932367149764\n",
      "Difference Between K-Fold Average Recall and Standard Recall: -0.16737455317394523\n",
      "Difference Between K-Fold Average F-score and Standard F-score: -0.07584501602590998\n"
     ]
    }
   ],
   "source": [
    "stoch_grad_desc_accuracies = []\n",
    "stoch_grad_desc_precisions = []\n",
    "stoch_grad_desc_recalls = []\n",
    "stoch_grad_desc_f_scores = []\n",
    "\n",
    "for train_index, test_index in k_fold.split(x_train):\n",
    "    x_cross_train, x_cross_test = x_train.iloc[train_index,:], x_train.iloc[test_index,:]\n",
    "    y_cross_train, y_cross_test = y_train.iloc[train_index], y_train.iloc[test_index]\n",
    "\n",
    "    stoch_grad_desc.fit(x_cross_train, y_cross_train)\n",
    "    y_cross_predict_stoch_grad_desc = stoch_grad_desc.predict(x_cross_test)\n",
    "\n",
    "    stoch_grad_desc_accuracies.append(accuracy_score(y_cross_test,\n",
    "                                             y_cross_predict_stoch_grad_desc))\n",
    "    stoch_grad_desc_precisions.append(precision_score(y_cross_test,\n",
    "                                              y_cross_predict_stoch_grad_desc))\n",
    "    stoch_grad_desc_recalls.append(recall_score(y_cross_test,\n",
    "                                        y_cross_predict_stoch_grad_desc))\n",
    "    stoch_grad_desc_f_scores.append(f1_score(y_cross_test,\n",
    "                                     y_cross_predict_stoch_grad_desc))\n",
    "\n",
    "print(\"Stochastic Gradient Descent Classifier K-Fold Cross Validation:\\n\")\n",
    "\n",
    "for index in range(0, len(stoch_grad_desc_accuracies)):\n",
    "    print(f\"Fold {index + 1} Accuracy: {stoch_grad_desc_accuracies[index]}\")\n",
    "    print(f\"Fold {index + 1} Precision: {stoch_grad_desc_precisions[index]}\")\n",
    "    print(f\"Fold {index + 1} Recall: {stoch_grad_desc_recalls[index]}\")\n",
    "    print(f\"Fold {index + 1} F-score: {stoch_grad_desc_f_scores[index]}\\n\")\n",
    "\n",
    "print(f\"K-Fold Average Accuracy: {sum(stoch_grad_desc_accuracies) / len(stoch_grad_desc_accuracies)}\")\n",
    "print(f\"K-Fold Average Precision: {sum(stoch_grad_desc_precisions) / len(stoch_grad_desc_precisions)}\")\n",
    "print(f\"K-Fold Average Recall: {sum(stoch_grad_desc_recalls) / len(stoch_grad_desc_recalls)}\")\n",
    "print(f\"K-Fold Average F-score: {sum(stoch_grad_desc_f_scores) / len(stoch_grad_desc_f_scores)}\\n\")\n",
    "\n",
    "print(f\"Difference Between K-Fold Average Accuracy and Standard Accuracy: {(sum(stoch_grad_desc_accuracies) / len(stoch_grad_desc_accuracies)) - accuracy_score(y_test, y_predict_stoch_grad_desc)}\")\n",
    "print(f\"Difference Between K-Fold Average Precision and Standard Precision: {(sum(stoch_grad_desc_precisions) / len(stoch_grad_desc_precisions)) - precision_score(y_test, y_predict_stoch_grad_desc)}\")\n",
    "print(f\"Difference Between K-Fold Average Recall and Standard Recall: {(sum(stoch_grad_desc_recalls) / len(stoch_grad_desc_recalls)) - recall_score(y_test, y_predict_stoch_grad_desc)}\")\n",
    "print(f\"Difference Between K-Fold Average F-score and Standard F-score: {(sum(stoch_grad_desc_f_scores) / len(stoch_grad_desc_f_scores)) - f1_score(y_test, y_predict_stoch_grad_desc)}\")"
   ],
   "metadata": {
    "collapsed": false,
    "pycharm": {
     "name": "#%%\n"
    }
   }
  },
  {
   "cell_type": "markdown",
   "source": [
    "Similar to the result of our logistic regression model's cross validation,\n",
    "it appears that the average Accuracy, Recall, and F-score are worse, while\n",
    "the average Precision is better.\n",
    "\n",
    "Next, let's cross validate the decision tree model."
   ],
   "metadata": {
    "collapsed": false,
    "pycharm": {
     "name": "#%% md\n"
    }
   }
  },
  {
   "cell_type": "code",
   "execution_count": 117,
   "outputs": [
    {
     "name": "stdout",
     "output_type": "stream",
     "text": [
      "Decision Tree K-Fold Cross Validation:\n",
      "\n",
      "Fold 1 Accuracy: 0.7786885245901639\n",
      "Fold 1 Precision: 0.7631578947368421\n",
      "Fold 1 Recall: 0.6170212765957447\n",
      "Fold 1 F-score: 0.6823529411764706\n",
      "\n",
      "Fold 2 Accuracy: 0.7950819672131147\n",
      "Fold 2 Precision: 0.7435897435897436\n",
      "Fold 2 Recall: 0.6590909090909091\n",
      "Fold 2 F-score: 0.6987951807228915\n",
      "\n",
      "Fold 3 Accuracy: 0.819672131147541\n",
      "Fold 3 Precision: 0.7446808510638298\n",
      "Fold 3 Recall: 0.7777777777777778\n",
      "Fold 3 F-score: 0.7608695652173912\n",
      "\n",
      "Fold 4 Accuracy: 0.7768595041322314\n",
      "Fold 4 Precision: 0.8\n",
      "Fold 4 Recall: 0.6666666666666666\n",
      "Fold 4 F-score: 0.7272727272727272\n",
      "\n",
      "Fold 5 Accuracy: 0.743801652892562\n",
      "Fold 5 Precision: 0.8064516129032258\n",
      "Fold 5 Recall: 0.5\n",
      "Fold 5 F-score: 0.6172839506172839\n",
      "\n",
      "K-Fold Average Accuracy: 0.7828207559951226\n",
      "K-Fold Average Precision: 0.7715760204587283\n",
      "K-Fold Average Recall: 0.6441113260262197\n",
      "K-Fold Average F-score: 0.6973148730013529\n",
      "\n",
      "Difference Between K-Fold Average Accuracy and Standard Accuracy: -0.033271198027865934\n",
      "Difference Between K-Fold Average Precision and Standard Precision: -0.019121653959876306\n",
      "Difference Between K-Fold Average Recall and Standard Recall: -0.04976622499418848\n",
      "Difference Between K-Fold Average F-score and Standard F-score: -0.04181556178125578\n"
     ]
    }
   ],
   "source": [
    "dec_tree_accuracies = []\n",
    "dec_tree_precisions = []\n",
    "dec_tree_recalls = []\n",
    "dec_tree_f_scores = []\n",
    "\n",
    "for train_index, test_index in k_fold.split(x_train):\n",
    "    x_cross_train, x_cross_test = x_train.iloc[train_index,:], x_train.iloc[test_index,:]\n",
    "    y_cross_train, y_cross_test = y_train.iloc[train_index], y_train.iloc[test_index]\n",
    "\n",
    "    dec_tree.fit(x_cross_train, y_cross_train)\n",
    "    y_cross_predict_dec_tree = dec_tree.predict(x_cross_test)\n",
    "\n",
    "    dec_tree_accuracies.append(accuracy_score(y_cross_test,\n",
    "                                             y_cross_predict_dec_tree))\n",
    "    dec_tree_precisions.append(precision_score(y_cross_test,\n",
    "                                              y_cross_predict_dec_tree))\n",
    "    dec_tree_recalls.append(recall_score(y_cross_test,\n",
    "                                        y_cross_predict_dec_tree))\n",
    "    dec_tree_f_scores.append(f1_score(y_cross_test,\n",
    "                                     y_cross_predict_dec_tree))\n",
    "\n",
    "print(\"Decision Tree K-Fold Cross Validation:\\n\")\n",
    "\n",
    "for index in range(0, len(dec_tree_accuracies)):\n",
    "    print(f\"Fold {index + 1} Accuracy: {dec_tree_accuracies[index]}\")\n",
    "    print(f\"Fold {index + 1} Precision: {dec_tree_precisions[index]}\")\n",
    "    print(f\"Fold {index + 1} Recall: {dec_tree_recalls[index]}\")\n",
    "    print(f\"Fold {index + 1} F-score: {dec_tree_f_scores[index]}\\n\")\n",
    "\n",
    "print(f\"K-Fold Average Accuracy: {sum(dec_tree_accuracies) / len(dec_tree_accuracies)}\")\n",
    "print(f\"K-Fold Average Precision: {sum(dec_tree_precisions) / len(dec_tree_precisions)}\")\n",
    "print(f\"K-Fold Average Recall: {sum(dec_tree_recalls) / len(dec_tree_recalls)}\")\n",
    "print(f\"K-Fold Average F-score: {sum(dec_tree_f_scores) / len(dec_tree_f_scores)}\\n\")\n",
    "\n",
    "print(f\"Difference Between K-Fold Average Accuracy and Standard Accuracy: {(sum(dec_tree_accuracies) / len(dec_tree_accuracies)) - accuracy_score(y_test, y_predict_dec_tree)}\")\n",
    "print(f\"Difference Between K-Fold Average Precision and Standard Precision: {(sum(dec_tree_precisions) / len(dec_tree_precisions)) - precision_score(y_test, y_predict_dec_tree)}\")\n",
    "print(f\"Difference Between K-Fold Average Recall and Standard Recall: {(sum(dec_tree_recalls) / len(dec_tree_recalls)) - recall_score(y_test, y_predict_dec_tree)}\")\n",
    "print(f\"Difference Between K-Fold Average F-score and Standard F-score: {(sum(dec_tree_f_scores) / len(dec_tree_f_scores)) - f1_score(y_test, y_predict_dec_tree)}\")"
   ],
   "metadata": {
    "collapsed": false,
    "pycharm": {
     "name": "#%%\n"
    }
   }
  },
  {
   "cell_type": "markdown",
   "source": [
    "Unlike the previous two cross validations, the cross valiation of\n",
    "the decision tree model has yielded worse average scores all around:\n",
    "the average accuracy, precision, recall, and F-score are all worse than\n",
    "accuracy, precision, recall, and F-score of the original non-cross\n",
    "validated model.\n",
    "\n",
    "Finally, let us cross validate our k-nearest neighbor model."
   ],
   "metadata": {
    "collapsed": false,
    "pycharm": {
     "name": "#%% md\n"
    }
   }
  },
  {
   "cell_type": "code",
   "execution_count": 118,
   "outputs": [
    {
     "name": "stdout",
     "output_type": "stream",
     "text": [
      "K-Nearest Neighbor K-Fold Cross Validation:\n",
      "\n",
      "Fold 1 Accuracy: 0.7459016393442623\n",
      "Fold 1 Precision: 0.6739130434782609\n",
      "Fold 1 Recall: 0.6595744680851063\n",
      "Fold 1 F-score: 0.6666666666666667\n",
      "\n",
      "Fold 2 Accuracy: 0.7868852459016393\n",
      "Fold 2 Precision: 0.7142857142857143\n",
      "Fold 2 Recall: 0.6818181818181818\n",
      "Fold 2 F-score: 0.6976744186046512\n",
      "\n",
      "Fold 3 Accuracy: 0.7950819672131147\n",
      "Fold 3 Precision: 0.7272727272727273\n",
      "Fold 3 Recall: 0.7111111111111111\n",
      "Fold 3 F-score: 0.7191011235955056\n",
      "\n",
      "Fold 4 Accuracy: 0.7768595041322314\n",
      "Fold 4 Precision: 0.7454545454545455\n",
      "Fold 4 Recall: 0.7592592592592593\n",
      "Fold 4 F-score: 0.7522935779816514\n",
      "\n",
      "Fold 5 Accuracy: 0.7768595041322314\n",
      "Fold 5 Precision: 0.7804878048780488\n",
      "Fold 5 Recall: 0.64\n",
      "Fold 5 F-score: 0.7032967032967035\n",
      "\n",
      "K-Fold Average Accuracy: 0.7763175721446959\n",
      "K-Fold Average Precision: 0.7282827670738594\n",
      "K-Fold Average Recall: 0.6903526040547316\n",
      "K-Fold Average F-score: 0.7078064980290357\n",
      "\n",
      "Difference Between K-Fold Average Accuracy and Standard Accuracy: -0.035942964253771525\n",
      "Difference Between K-Fold Average Precision and Standard Precision: -0.05332642832843948\n",
      "Difference Between K-Fold Average Recall and Standard Recall: -0.003524946965676512\n",
      "Difference Between K-Fold Average F-score and Standard F-score: -0.02732863710609945\n"
     ]
    }
   ],
   "source": [
    "knn_accuracies = []\n",
    "knn_precisions = []\n",
    "knn_recalls = []\n",
    "knn_f_scores = []\n",
    "\n",
    "for train_index, test_index in k_fold.split(x_train):\n",
    "    x_cross_train, x_cross_test = x_train.iloc[train_index,:], x_train.iloc[test_index,:]\n",
    "    y_cross_train, y_cross_test = y_train.iloc[train_index], y_train.iloc[test_index]\n",
    "\n",
    "    knn.fit(x_cross_train, y_cross_train)\n",
    "    y_cross_predict_knn = knn.predict(x_cross_test)\n",
    "\n",
    "    knn_accuracies.append(accuracy_score(y_cross_test, y_cross_predict_knn))\n",
    "    knn_precisions.append(precision_score(y_cross_test, y_cross_predict_knn))\n",
    "    knn_recalls.append(recall_score(y_cross_test, y_cross_predict_knn))\n",
    "    knn_f_scores.append(f1_score(y_cross_test, y_cross_predict_knn))\n",
    "\n",
    "print(\"K-Nearest Neighbor K-Fold Cross Validation:\\n\")\n",
    "\n",
    "for index in range(0, len(knn_accuracies)):\n",
    "    print(f\"Fold {index + 1} Accuracy: {knn_accuracies[index]}\")\n",
    "    print(f\"Fold {index + 1} Precision: {knn_precisions[index]}\")\n",
    "    print(f\"Fold {index + 1} Recall: {knn_recalls[index]}\")\n",
    "    print(f\"Fold {index + 1} F-score: {knn_f_scores[index]}\\n\")\n",
    "\n",
    "print(f\"K-Fold Average Accuracy: {sum(knn_accuracies) / len(knn_accuracies)}\")\n",
    "print(f\"K-Fold Average Precision: {sum(knn_precisions) / len(knn_precisions)}\")\n",
    "print(f\"K-Fold Average Recall: {sum(knn_recalls) / len(knn_recalls)}\")\n",
    "print(f\"K-Fold Average F-score: {sum(knn_f_scores) / len(knn_f_scores)}\\n\")\n",
    "\n",
    "print(f\"Difference Between K-Fold Average Accuracy and Standard Accuracy: {(sum(knn_accuracies) / len(knn_accuracies)) - accuracy_score(y_test, y_predict_knn)}\")\n",
    "print(f\"Difference Between K-Fold Average Precision and Standard Precision: {(sum(knn_precisions) / len(knn_precisions)) - precision_score(y_test, y_predict_knn)}\")\n",
    "print(f\"Difference Between K-Fold Average Recall and Standard Recall: {(sum(knn_recalls) / len(knn_recalls)) - recall_score(y_test, y_predict_knn)}\")\n",
    "print(f\"Difference Between K-Fold Average F-score and Standard F-score: {(sum(knn_f_scores) / len(knn_f_scores)) - f1_score(y_test, y_predict_knn)}\")"
   ],
   "metadata": {
    "collapsed": false,
    "pycharm": {
     "name": "#%%\n"
    }
   }
  },
  {
   "cell_type": "markdown",
   "source": [
    "Like the decision tree model's cross validation, the cross validation\n",
    "of the k-nearest neighbor model has also yielded worse average\n",
    "accuracy, precision, recall, and F-score.\n",
    "\n",
    "One possible reason that the cross validations of these four models\n",
    "have yielded generally worse evaluation statistics than the\n",
    "original non-cross validated models is because our models might be overfitted.\n",
    "In other words, we may have too many data features in the parameters\n",
    "of our models. A good way to determine if this theory is accurate is to\n",
    "tweak the parameters of our models and see if these changes affect\n",
    "the evaluation statistics, either in the original models and in the\n",
    "cross validations of each model.\n",
    "\n",
    "Choosing which of our models is the best is not a very straightforward\n",
    "task: there are five different numeric evaluation statistics that we could\n",
    "base such a decision on, and the use of each one might result in a different\n",
    "decision. Therefore, we will allow the reader to make their own\n",
    "determinations as to what model(s) are the best.\n",
    "\n",
    "The last step is to evaluate our models on the testing data.\n",
    "We will use this data on each of the models (including the baseline\n",
    "model) and save the results each time into a DataFrame."
   ],
   "metadata": {
    "collapsed": false,
    "pycharm": {
     "name": "#%% md\n"
    }
   }
  },
  {
   "cell_type": "code",
   "execution_count": 119,
   "outputs": [],
   "source": [
    "def save_to_data_frame(y_pred):\n",
    "    temp_dict = {\n",
    "        \"Pclass\" : test_data[\"Pclass\"],\n",
    "        \"Sex\" : test_data[\"Sex\"],\n",
    "        \"SibSp\" : test_data[\"SibSp\"],\n",
    "        \"log(Fare)\" : test_data[\"log(Fare)\"],\n",
    "        \"Predicted Survived\" : y_pred\n",
    "    }\n",
    "\n",
    "    return pd.DataFrame.from_dict(temp_dict)"
   ],
   "metadata": {
    "collapsed": false,
    "pycharm": {
     "name": "#%%\n"
    }
   }
  },
  {
   "cell_type": "code",
   "execution_count": 120,
   "outputs": [],
   "source": [
    "data_frames = []\n",
    "data_frames_names = [\"Baseline Logistic Regression Model\",\n",
    "                     \"Logistic Regression Model\",\n",
    "                     \"Stochastic Gradient Descent Classifier\",\n",
    "                     \"Decision Tree Model\",\n",
    "                     \"K-Nearest Neighbor Model\"]\n",
    "\n",
    "x_eval_baseline = test_data[[\"Pclass\", \"log(Fare)\"]]\n",
    "y_eval_pred = baseline_log_reg.predict(x_eval_baseline)\n",
    "\n",
    "baseline_dict = {\n",
    "    \"Pclass\" : test_data[\"Pclass\"],\n",
    "    \"log(Fare)\" : test_data[\"log(Fare)\"],\n",
    "    \"Predicted Survival\" : y_eval_pred\n",
    "}\n",
    "\n",
    "data_frames.append(pd.DataFrame.from_dict(baseline_dict))"
   ],
   "metadata": {
    "collapsed": false,
    "pycharm": {
     "name": "#%%\n"
    }
   }
  },
  {
   "cell_type": "code",
   "execution_count": 121,
   "outputs": [],
   "source": [
    "x_eval = test_data[[\"Pclass\", \"Sex\", \"SibSp\", \"log(Fare)\"]]\n",
    "\n",
    "models = [baseline_log_reg, log_reg, stoch_grad_desc, dec_tree, knn]\n",
    "for index in range(1, 5):\n",
    "    y_pred = models[index].predict(x_eval)\n",
    "    data_frames.append(save_to_data_frame(y_pred))"
   ],
   "metadata": {
    "collapsed": false,
    "pycharm": {
     "name": "#%%\n"
    }
   }
  },
  {
   "cell_type": "code",
   "execution_count": 122,
   "outputs": [
    {
     "data": {
      "text/plain": "    Pclass  log(Fare)  Predicted Survival\n0        3   2.057860                   0\n1        3   1.945910                   0\n2        2   2.270836                   0\n3        3   2.159003                   0\n4        3   2.508582                   0\n5        3   2.221917                   0\n6        3   2.031983                   0\n7        2   3.367296                   0\n8        3   1.978128                   0\n9        3   3.184284                   0\n10       3   2.066331                   0\n11       1   3.258097                   0\n12       1   4.409966                   0\n13       2   3.258097                   0\n14       1   4.113739                   0\n15       2   3.322183                   0\n16       2   2.513656                   0\n17       3   1.977547                   0\n18       3   2.070022                   0\n19       3   1.977547                   0",
      "text/html": "<div>\n<style scoped>\n    .dataframe tbody tr th:only-of-type {\n        vertical-align: middle;\n    }\n\n    .dataframe tbody tr th {\n        vertical-align: top;\n    }\n\n    .dataframe thead th {\n        text-align: right;\n    }\n</style>\n<table border=\"1\" class=\"dataframe\">\n  <thead>\n    <tr style=\"text-align: right;\">\n      <th></th>\n      <th>Pclass</th>\n      <th>log(Fare)</th>\n      <th>Predicted Survival</th>\n    </tr>\n  </thead>\n  <tbody>\n    <tr>\n      <th>0</th>\n      <td>3</td>\n      <td>2.057860</td>\n      <td>0</td>\n    </tr>\n    <tr>\n      <th>1</th>\n      <td>3</td>\n      <td>1.945910</td>\n      <td>0</td>\n    </tr>\n    <tr>\n      <th>2</th>\n      <td>2</td>\n      <td>2.270836</td>\n      <td>0</td>\n    </tr>\n    <tr>\n      <th>3</th>\n      <td>3</td>\n      <td>2.159003</td>\n      <td>0</td>\n    </tr>\n    <tr>\n      <th>4</th>\n      <td>3</td>\n      <td>2.508582</td>\n      <td>0</td>\n    </tr>\n    <tr>\n      <th>5</th>\n      <td>3</td>\n      <td>2.221917</td>\n      <td>0</td>\n    </tr>\n    <tr>\n      <th>6</th>\n      <td>3</td>\n      <td>2.031983</td>\n      <td>0</td>\n    </tr>\n    <tr>\n      <th>7</th>\n      <td>2</td>\n      <td>3.367296</td>\n      <td>0</td>\n    </tr>\n    <tr>\n      <th>8</th>\n      <td>3</td>\n      <td>1.978128</td>\n      <td>0</td>\n    </tr>\n    <tr>\n      <th>9</th>\n      <td>3</td>\n      <td>3.184284</td>\n      <td>0</td>\n    </tr>\n    <tr>\n      <th>10</th>\n      <td>3</td>\n      <td>2.066331</td>\n      <td>0</td>\n    </tr>\n    <tr>\n      <th>11</th>\n      <td>1</td>\n      <td>3.258097</td>\n      <td>0</td>\n    </tr>\n    <tr>\n      <th>12</th>\n      <td>1</td>\n      <td>4.409966</td>\n      <td>0</td>\n    </tr>\n    <tr>\n      <th>13</th>\n      <td>2</td>\n      <td>3.258097</td>\n      <td>0</td>\n    </tr>\n    <tr>\n      <th>14</th>\n      <td>1</td>\n      <td>4.113739</td>\n      <td>0</td>\n    </tr>\n    <tr>\n      <th>15</th>\n      <td>2</td>\n      <td>3.322183</td>\n      <td>0</td>\n    </tr>\n    <tr>\n      <th>16</th>\n      <td>2</td>\n      <td>2.513656</td>\n      <td>0</td>\n    </tr>\n    <tr>\n      <th>17</th>\n      <td>3</td>\n      <td>1.977547</td>\n      <td>0</td>\n    </tr>\n    <tr>\n      <th>18</th>\n      <td>3</td>\n      <td>2.070022</td>\n      <td>0</td>\n    </tr>\n    <tr>\n      <th>19</th>\n      <td>3</td>\n      <td>1.977547</td>\n      <td>0</td>\n    </tr>\n  </tbody>\n</table>\n</div>"
     },
     "execution_count": 122,
     "metadata": {},
     "output_type": "execute_result"
    }
   ],
   "source": [
    "data_frames[0].head(20)"
   ],
   "metadata": {
    "collapsed": false,
    "pycharm": {
     "name": "#%%\n"
    }
   }
  },
  {
   "cell_type": "code",
   "execution_count": 123,
   "outputs": [
    {
     "data": {
      "text/plain": "    Pclass  Sex  SibSp  log(Fare)  Predicted Survived\n0        3    0      0   2.057860                   0\n1        3    1      1   1.945910                   1\n2        2    0      0   2.270836                   0\n3        3    0      0   2.159003                   0\n4        3    1      1   2.508582                   1\n5        3    0      0   2.221917                   0\n6        3    1      0   2.031983                   1\n7        2    0      1   3.367296                   0\n8        3    1      0   1.978128                   1\n9        3    0      2   3.184284                   0\n10       3    0      0   2.066331                   0\n11       1    0      0   3.258097                   0\n12       1    1      1   4.409966                   1\n13       2    0      1   3.258097                   0\n14       1    1      1   4.113739                   1\n15       2    1      1   3.322183                   1\n16       2    0      0   2.513656                   0\n17       3    0      0   1.977547                   0\n18       3    1      1   2.070022                   1\n19       3    1      0   1.977547                   1",
      "text/html": "<div>\n<style scoped>\n    .dataframe tbody tr th:only-of-type {\n        vertical-align: middle;\n    }\n\n    .dataframe tbody tr th {\n        vertical-align: top;\n    }\n\n    .dataframe thead th {\n        text-align: right;\n    }\n</style>\n<table border=\"1\" class=\"dataframe\">\n  <thead>\n    <tr style=\"text-align: right;\">\n      <th></th>\n      <th>Pclass</th>\n      <th>Sex</th>\n      <th>SibSp</th>\n      <th>log(Fare)</th>\n      <th>Predicted Survived</th>\n    </tr>\n  </thead>\n  <tbody>\n    <tr>\n      <th>0</th>\n      <td>3</td>\n      <td>0</td>\n      <td>0</td>\n      <td>2.057860</td>\n      <td>0</td>\n    </tr>\n    <tr>\n      <th>1</th>\n      <td>3</td>\n      <td>1</td>\n      <td>1</td>\n      <td>1.945910</td>\n      <td>1</td>\n    </tr>\n    <tr>\n      <th>2</th>\n      <td>2</td>\n      <td>0</td>\n      <td>0</td>\n      <td>2.270836</td>\n      <td>0</td>\n    </tr>\n    <tr>\n      <th>3</th>\n      <td>3</td>\n      <td>0</td>\n      <td>0</td>\n      <td>2.159003</td>\n      <td>0</td>\n    </tr>\n    <tr>\n      <th>4</th>\n      <td>3</td>\n      <td>1</td>\n      <td>1</td>\n      <td>2.508582</td>\n      <td>1</td>\n    </tr>\n    <tr>\n      <th>5</th>\n      <td>3</td>\n      <td>0</td>\n      <td>0</td>\n      <td>2.221917</td>\n      <td>0</td>\n    </tr>\n    <tr>\n      <th>6</th>\n      <td>3</td>\n      <td>1</td>\n      <td>0</td>\n      <td>2.031983</td>\n      <td>1</td>\n    </tr>\n    <tr>\n      <th>7</th>\n      <td>2</td>\n      <td>0</td>\n      <td>1</td>\n      <td>3.367296</td>\n      <td>0</td>\n    </tr>\n    <tr>\n      <th>8</th>\n      <td>3</td>\n      <td>1</td>\n      <td>0</td>\n      <td>1.978128</td>\n      <td>1</td>\n    </tr>\n    <tr>\n      <th>9</th>\n      <td>3</td>\n      <td>0</td>\n      <td>2</td>\n      <td>3.184284</td>\n      <td>0</td>\n    </tr>\n    <tr>\n      <th>10</th>\n      <td>3</td>\n      <td>0</td>\n      <td>0</td>\n      <td>2.066331</td>\n      <td>0</td>\n    </tr>\n    <tr>\n      <th>11</th>\n      <td>1</td>\n      <td>0</td>\n      <td>0</td>\n      <td>3.258097</td>\n      <td>0</td>\n    </tr>\n    <tr>\n      <th>12</th>\n      <td>1</td>\n      <td>1</td>\n      <td>1</td>\n      <td>4.409966</td>\n      <td>1</td>\n    </tr>\n    <tr>\n      <th>13</th>\n      <td>2</td>\n      <td>0</td>\n      <td>1</td>\n      <td>3.258097</td>\n      <td>0</td>\n    </tr>\n    <tr>\n      <th>14</th>\n      <td>1</td>\n      <td>1</td>\n      <td>1</td>\n      <td>4.113739</td>\n      <td>1</td>\n    </tr>\n    <tr>\n      <th>15</th>\n      <td>2</td>\n      <td>1</td>\n      <td>1</td>\n      <td>3.322183</td>\n      <td>1</td>\n    </tr>\n    <tr>\n      <th>16</th>\n      <td>2</td>\n      <td>0</td>\n      <td>0</td>\n      <td>2.513656</td>\n      <td>0</td>\n    </tr>\n    <tr>\n      <th>17</th>\n      <td>3</td>\n      <td>0</td>\n      <td>0</td>\n      <td>1.977547</td>\n      <td>0</td>\n    </tr>\n    <tr>\n      <th>18</th>\n      <td>3</td>\n      <td>1</td>\n      <td>1</td>\n      <td>2.070022</td>\n      <td>1</td>\n    </tr>\n    <tr>\n      <th>19</th>\n      <td>3</td>\n      <td>1</td>\n      <td>0</td>\n      <td>1.977547</td>\n      <td>1</td>\n    </tr>\n  </tbody>\n</table>\n</div>"
     },
     "execution_count": 123,
     "metadata": {},
     "output_type": "execute_result"
    }
   ],
   "source": [
    "data_frames[1].head(20)"
   ],
   "metadata": {
    "collapsed": false,
    "pycharm": {
     "name": "#%%\n"
    }
   }
  },
  {
   "cell_type": "code",
   "execution_count": 124,
   "outputs": [
    {
     "data": {
      "text/plain": "    Pclass  Sex  SibSp  log(Fare)  Predicted Survived\n0        3    0      0   2.057860                   0\n1        3    1      1   1.945910                   0\n2        2    0      0   2.270836                   0\n3        3    0      0   2.159003                   0\n4        3    1      1   2.508582                   0\n5        3    0      0   2.221917                   0\n6        3    1      0   2.031983                   1\n7        2    0      1   3.367296                   0\n8        3    1      0   1.978128                   1\n9        3    0      2   3.184284                   0\n10       3    0      0   2.066331                   0\n11       1    0      0   3.258097                   0\n12       1    1      1   4.409966                   1\n13       2    0      1   3.258097                   0\n14       1    1      1   4.113739                   1\n15       2    1      1   3.322183                   0\n16       2    0      0   2.513656                   0\n17       3    0      0   1.977547                   0\n18       3    1      1   2.070022                   0\n19       3    1      0   1.977547                   1",
      "text/html": "<div>\n<style scoped>\n    .dataframe tbody tr th:only-of-type {\n        vertical-align: middle;\n    }\n\n    .dataframe tbody tr th {\n        vertical-align: top;\n    }\n\n    .dataframe thead th {\n        text-align: right;\n    }\n</style>\n<table border=\"1\" class=\"dataframe\">\n  <thead>\n    <tr style=\"text-align: right;\">\n      <th></th>\n      <th>Pclass</th>\n      <th>Sex</th>\n      <th>SibSp</th>\n      <th>log(Fare)</th>\n      <th>Predicted Survived</th>\n    </tr>\n  </thead>\n  <tbody>\n    <tr>\n      <th>0</th>\n      <td>3</td>\n      <td>0</td>\n      <td>0</td>\n      <td>2.057860</td>\n      <td>0</td>\n    </tr>\n    <tr>\n      <th>1</th>\n      <td>3</td>\n      <td>1</td>\n      <td>1</td>\n      <td>1.945910</td>\n      <td>0</td>\n    </tr>\n    <tr>\n      <th>2</th>\n      <td>2</td>\n      <td>0</td>\n      <td>0</td>\n      <td>2.270836</td>\n      <td>0</td>\n    </tr>\n    <tr>\n      <th>3</th>\n      <td>3</td>\n      <td>0</td>\n      <td>0</td>\n      <td>2.159003</td>\n      <td>0</td>\n    </tr>\n    <tr>\n      <th>4</th>\n      <td>3</td>\n      <td>1</td>\n      <td>1</td>\n      <td>2.508582</td>\n      <td>0</td>\n    </tr>\n    <tr>\n      <th>5</th>\n      <td>3</td>\n      <td>0</td>\n      <td>0</td>\n      <td>2.221917</td>\n      <td>0</td>\n    </tr>\n    <tr>\n      <th>6</th>\n      <td>3</td>\n      <td>1</td>\n      <td>0</td>\n      <td>2.031983</td>\n      <td>1</td>\n    </tr>\n    <tr>\n      <th>7</th>\n      <td>2</td>\n      <td>0</td>\n      <td>1</td>\n      <td>3.367296</td>\n      <td>0</td>\n    </tr>\n    <tr>\n      <th>8</th>\n      <td>3</td>\n      <td>1</td>\n      <td>0</td>\n      <td>1.978128</td>\n      <td>1</td>\n    </tr>\n    <tr>\n      <th>9</th>\n      <td>3</td>\n      <td>0</td>\n      <td>2</td>\n      <td>3.184284</td>\n      <td>0</td>\n    </tr>\n    <tr>\n      <th>10</th>\n      <td>3</td>\n      <td>0</td>\n      <td>0</td>\n      <td>2.066331</td>\n      <td>0</td>\n    </tr>\n    <tr>\n      <th>11</th>\n      <td>1</td>\n      <td>0</td>\n      <td>0</td>\n      <td>3.258097</td>\n      <td>0</td>\n    </tr>\n    <tr>\n      <th>12</th>\n      <td>1</td>\n      <td>1</td>\n      <td>1</td>\n      <td>4.409966</td>\n      <td>1</td>\n    </tr>\n    <tr>\n      <th>13</th>\n      <td>2</td>\n      <td>0</td>\n      <td>1</td>\n      <td>3.258097</td>\n      <td>0</td>\n    </tr>\n    <tr>\n      <th>14</th>\n      <td>1</td>\n      <td>1</td>\n      <td>1</td>\n      <td>4.113739</td>\n      <td>1</td>\n    </tr>\n    <tr>\n      <th>15</th>\n      <td>2</td>\n      <td>1</td>\n      <td>1</td>\n      <td>3.322183</td>\n      <td>0</td>\n    </tr>\n    <tr>\n      <th>16</th>\n      <td>2</td>\n      <td>0</td>\n      <td>0</td>\n      <td>2.513656</td>\n      <td>0</td>\n    </tr>\n    <tr>\n      <th>17</th>\n      <td>3</td>\n      <td>0</td>\n      <td>0</td>\n      <td>1.977547</td>\n      <td>0</td>\n    </tr>\n    <tr>\n      <th>18</th>\n      <td>3</td>\n      <td>1</td>\n      <td>1</td>\n      <td>2.070022</td>\n      <td>0</td>\n    </tr>\n    <tr>\n      <th>19</th>\n      <td>3</td>\n      <td>1</td>\n      <td>0</td>\n      <td>1.977547</td>\n      <td>1</td>\n    </tr>\n  </tbody>\n</table>\n</div>"
     },
     "execution_count": 124,
     "metadata": {},
     "output_type": "execute_result"
    }
   ],
   "source": [
    "data_frames[2].head(20)"
   ],
   "metadata": {
    "collapsed": false,
    "pycharm": {
     "name": "#%%\n"
    }
   }
  },
  {
   "cell_type": "code",
   "execution_count": 125,
   "outputs": [
    {
     "data": {
      "text/plain": "    Pclass  Sex  SibSp  log(Fare)  Predicted Survived\n0        3    0      0   2.057860                   0\n1        3    1      1   1.945910                   1\n2        2    0      0   2.270836                   0\n3        3    0      0   2.159003                   0\n4        3    1      1   2.508582                   0\n5        3    0      0   2.221917                   0\n6        3    1      0   2.031983                   1\n7        2    0      1   3.367296                   0\n8        3    1      0   1.978128                   1\n9        3    0      2   3.184284                   0\n10       3    0      0   2.066331                   0\n11       1    0      0   3.258097                   0\n12       1    1      1   4.409966                   1\n13       2    0      1   3.258097                   0\n14       1    1      1   4.113739                   1\n15       2    1      1   3.322183                   1\n16       2    0      0   2.513656                   0\n17       3    0      0   1.977547                   0\n18       3    1      1   2.070022                   0\n19       3    1      0   1.977547                   1",
      "text/html": "<div>\n<style scoped>\n    .dataframe tbody tr th:only-of-type {\n        vertical-align: middle;\n    }\n\n    .dataframe tbody tr th {\n        vertical-align: top;\n    }\n\n    .dataframe thead th {\n        text-align: right;\n    }\n</style>\n<table border=\"1\" class=\"dataframe\">\n  <thead>\n    <tr style=\"text-align: right;\">\n      <th></th>\n      <th>Pclass</th>\n      <th>Sex</th>\n      <th>SibSp</th>\n      <th>log(Fare)</th>\n      <th>Predicted Survived</th>\n    </tr>\n  </thead>\n  <tbody>\n    <tr>\n      <th>0</th>\n      <td>3</td>\n      <td>0</td>\n      <td>0</td>\n      <td>2.057860</td>\n      <td>0</td>\n    </tr>\n    <tr>\n      <th>1</th>\n      <td>3</td>\n      <td>1</td>\n      <td>1</td>\n      <td>1.945910</td>\n      <td>1</td>\n    </tr>\n    <tr>\n      <th>2</th>\n      <td>2</td>\n      <td>0</td>\n      <td>0</td>\n      <td>2.270836</td>\n      <td>0</td>\n    </tr>\n    <tr>\n      <th>3</th>\n      <td>3</td>\n      <td>0</td>\n      <td>0</td>\n      <td>2.159003</td>\n      <td>0</td>\n    </tr>\n    <tr>\n      <th>4</th>\n      <td>3</td>\n      <td>1</td>\n      <td>1</td>\n      <td>2.508582</td>\n      <td>0</td>\n    </tr>\n    <tr>\n      <th>5</th>\n      <td>3</td>\n      <td>0</td>\n      <td>0</td>\n      <td>2.221917</td>\n      <td>0</td>\n    </tr>\n    <tr>\n      <th>6</th>\n      <td>3</td>\n      <td>1</td>\n      <td>0</td>\n      <td>2.031983</td>\n      <td>1</td>\n    </tr>\n    <tr>\n      <th>7</th>\n      <td>2</td>\n      <td>0</td>\n      <td>1</td>\n      <td>3.367296</td>\n      <td>0</td>\n    </tr>\n    <tr>\n      <th>8</th>\n      <td>3</td>\n      <td>1</td>\n      <td>0</td>\n      <td>1.978128</td>\n      <td>1</td>\n    </tr>\n    <tr>\n      <th>9</th>\n      <td>3</td>\n      <td>0</td>\n      <td>2</td>\n      <td>3.184284</td>\n      <td>0</td>\n    </tr>\n    <tr>\n      <th>10</th>\n      <td>3</td>\n      <td>0</td>\n      <td>0</td>\n      <td>2.066331</td>\n      <td>0</td>\n    </tr>\n    <tr>\n      <th>11</th>\n      <td>1</td>\n      <td>0</td>\n      <td>0</td>\n      <td>3.258097</td>\n      <td>0</td>\n    </tr>\n    <tr>\n      <th>12</th>\n      <td>1</td>\n      <td>1</td>\n      <td>1</td>\n      <td>4.409966</td>\n      <td>1</td>\n    </tr>\n    <tr>\n      <th>13</th>\n      <td>2</td>\n      <td>0</td>\n      <td>1</td>\n      <td>3.258097</td>\n      <td>0</td>\n    </tr>\n    <tr>\n      <th>14</th>\n      <td>1</td>\n      <td>1</td>\n      <td>1</td>\n      <td>4.113739</td>\n      <td>1</td>\n    </tr>\n    <tr>\n      <th>15</th>\n      <td>2</td>\n      <td>1</td>\n      <td>1</td>\n      <td>3.322183</td>\n      <td>1</td>\n    </tr>\n    <tr>\n      <th>16</th>\n      <td>2</td>\n      <td>0</td>\n      <td>0</td>\n      <td>2.513656</td>\n      <td>0</td>\n    </tr>\n    <tr>\n      <th>17</th>\n      <td>3</td>\n      <td>0</td>\n      <td>0</td>\n      <td>1.977547</td>\n      <td>0</td>\n    </tr>\n    <tr>\n      <th>18</th>\n      <td>3</td>\n      <td>1</td>\n      <td>1</td>\n      <td>2.070022</td>\n      <td>0</td>\n    </tr>\n    <tr>\n      <th>19</th>\n      <td>3</td>\n      <td>1</td>\n      <td>0</td>\n      <td>1.977547</td>\n      <td>1</td>\n    </tr>\n  </tbody>\n</table>\n</div>"
     },
     "execution_count": 125,
     "metadata": {},
     "output_type": "execute_result"
    }
   ],
   "source": [
    "data_frames[3].head(20)"
   ],
   "metadata": {
    "collapsed": false,
    "pycharm": {
     "name": "#%%\n"
    }
   }
  },
  {
   "cell_type": "code",
   "execution_count": 126,
   "outputs": [
    {
     "data": {
      "text/plain": "    Pclass  Sex  SibSp  log(Fare)  Predicted Survived\n0        3    0      0   2.057860                   0\n1        3    1      1   1.945910                   0\n2        2    0      0   2.270836                   0\n3        3    0      0   2.159003                   0\n4        3    1      1   2.508582                   0\n5        3    0      0   2.221917                   0\n6        3    1      0   2.031983                   1\n7        2    0      1   3.367296                   0\n8        3    1      0   1.978128                   1\n9        3    0      2   3.184284                   0\n10       3    0      0   2.066331                   0\n11       1    0      0   3.258097                   1\n12       1    1      1   4.409966                   1\n13       2    0      1   3.258097                   0\n14       1    1      1   4.113739                   1\n15       2    1      1   3.322183                   1\n16       2    0      0   2.513656                   0\n17       3    0      0   1.977547                   0\n18       3    1      1   2.070022                   0\n19       3    1      0   1.977547                   1",
      "text/html": "<div>\n<style scoped>\n    .dataframe tbody tr th:only-of-type {\n        vertical-align: middle;\n    }\n\n    .dataframe tbody tr th {\n        vertical-align: top;\n    }\n\n    .dataframe thead th {\n        text-align: right;\n    }\n</style>\n<table border=\"1\" class=\"dataframe\">\n  <thead>\n    <tr style=\"text-align: right;\">\n      <th></th>\n      <th>Pclass</th>\n      <th>Sex</th>\n      <th>SibSp</th>\n      <th>log(Fare)</th>\n      <th>Predicted Survived</th>\n    </tr>\n  </thead>\n  <tbody>\n    <tr>\n      <th>0</th>\n      <td>3</td>\n      <td>0</td>\n      <td>0</td>\n      <td>2.057860</td>\n      <td>0</td>\n    </tr>\n    <tr>\n      <th>1</th>\n      <td>3</td>\n      <td>1</td>\n      <td>1</td>\n      <td>1.945910</td>\n      <td>0</td>\n    </tr>\n    <tr>\n      <th>2</th>\n      <td>2</td>\n      <td>0</td>\n      <td>0</td>\n      <td>2.270836</td>\n      <td>0</td>\n    </tr>\n    <tr>\n      <th>3</th>\n      <td>3</td>\n      <td>0</td>\n      <td>0</td>\n      <td>2.159003</td>\n      <td>0</td>\n    </tr>\n    <tr>\n      <th>4</th>\n      <td>3</td>\n      <td>1</td>\n      <td>1</td>\n      <td>2.508582</td>\n      <td>0</td>\n    </tr>\n    <tr>\n      <th>5</th>\n      <td>3</td>\n      <td>0</td>\n      <td>0</td>\n      <td>2.221917</td>\n      <td>0</td>\n    </tr>\n    <tr>\n      <th>6</th>\n      <td>3</td>\n      <td>1</td>\n      <td>0</td>\n      <td>2.031983</td>\n      <td>1</td>\n    </tr>\n    <tr>\n      <th>7</th>\n      <td>2</td>\n      <td>0</td>\n      <td>1</td>\n      <td>3.367296</td>\n      <td>0</td>\n    </tr>\n    <tr>\n      <th>8</th>\n      <td>3</td>\n      <td>1</td>\n      <td>0</td>\n      <td>1.978128</td>\n      <td>1</td>\n    </tr>\n    <tr>\n      <th>9</th>\n      <td>3</td>\n      <td>0</td>\n      <td>2</td>\n      <td>3.184284</td>\n      <td>0</td>\n    </tr>\n    <tr>\n      <th>10</th>\n      <td>3</td>\n      <td>0</td>\n      <td>0</td>\n      <td>2.066331</td>\n      <td>0</td>\n    </tr>\n    <tr>\n      <th>11</th>\n      <td>1</td>\n      <td>0</td>\n      <td>0</td>\n      <td>3.258097</td>\n      <td>1</td>\n    </tr>\n    <tr>\n      <th>12</th>\n      <td>1</td>\n      <td>1</td>\n      <td>1</td>\n      <td>4.409966</td>\n      <td>1</td>\n    </tr>\n    <tr>\n      <th>13</th>\n      <td>2</td>\n      <td>0</td>\n      <td>1</td>\n      <td>3.258097</td>\n      <td>0</td>\n    </tr>\n    <tr>\n      <th>14</th>\n      <td>1</td>\n      <td>1</td>\n      <td>1</td>\n      <td>4.113739</td>\n      <td>1</td>\n    </tr>\n    <tr>\n      <th>15</th>\n      <td>2</td>\n      <td>1</td>\n      <td>1</td>\n      <td>3.322183</td>\n      <td>1</td>\n    </tr>\n    <tr>\n      <th>16</th>\n      <td>2</td>\n      <td>0</td>\n      <td>0</td>\n      <td>2.513656</td>\n      <td>0</td>\n    </tr>\n    <tr>\n      <th>17</th>\n      <td>3</td>\n      <td>0</td>\n      <td>0</td>\n      <td>1.977547</td>\n      <td>0</td>\n    </tr>\n    <tr>\n      <th>18</th>\n      <td>3</td>\n      <td>1</td>\n      <td>1</td>\n      <td>2.070022</td>\n      <td>0</td>\n    </tr>\n    <tr>\n      <th>19</th>\n      <td>3</td>\n      <td>1</td>\n      <td>0</td>\n      <td>1.977547</td>\n      <td>1</td>\n    </tr>\n  </tbody>\n</table>\n</div>"
     },
     "execution_count": 126,
     "metadata": {},
     "output_type": "execute_result"
    }
   ],
   "source": [
    "data_frames[4].head(20)"
   ],
   "metadata": {
    "collapsed": false,
    "pycharm": {
     "name": "#%%\n"
    }
   }
  },
  {
   "cell_type": "code",
   "execution_count": 127,
   "outputs": [],
   "source": [
    "# DO NOT UNCOMMENT, FOR USE ON CHARLES' COMPUTER DURING DEMO!\n",
    "\n",
    "# for index in range(0,len(data_frames)):\n",
    "#     data_frames[index].to_csv(r\"C:\\Users\\Username\\Path\\Directory\\{}.csv\".format(data_frames_names[index]))\n",
    "\n"
   ],
   "metadata": {
    "collapsed": false,
    "pycharm": {
     "name": "#%%\n"
    }
   }
  }
 ],
 "metadata": {
  "kernelspec": {
   "display_name": "Python 3",
   "language": "python",
   "name": "python3"
  },
  "language_info": {
   "codemirror_mode": {
    "name": "ipython",
    "version": 2
   },
   "file_extension": ".py",
   "mimetype": "text/x-python",
   "name": "python",
   "nbconvert_exporter": "python",
   "pygments_lexer": "ipython2",
   "version": "2.7.6"
  }
 },
 "nbformat": 4,
 "nbformat_minor": 0
}